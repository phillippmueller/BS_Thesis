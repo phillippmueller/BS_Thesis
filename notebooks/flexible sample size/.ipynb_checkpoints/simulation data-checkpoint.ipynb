{
 "cells": [
  {
   "cell_type": "code",
   "execution_count": 36,
   "metadata": {},
   "outputs": [],
   "source": [
    "import pandas as pd\n",
    "import numpy as np"
   ]
  },
  {
   "cell_type": "code",
   "execution_count": 37,
   "metadata": {},
   "outputs": [],
   "source": [
    "max_size = 101\n",
    "max_sigma = 3\n",
    "min_mean, max_mean = 0, 1\n",
    "Group1 = np.array([[[0.0]*max_size]*(max_sigma)]*5)\n",
    "Group2 = np.array([[0.0]*max_size]*(max_sigma))"
   ]
  },
  {
   "cell_type": "code",
   "execution_count": 38,
   "metadata": {},
   "outputs": [],
   "source": [
    "# create data\n",
    "for i in range(5):\n",
    "    for j in range(1,max_sigma+1):\n",
    "        Group1[i,j-1,:] = np.random.normal(loc=i/4, scale=j, size=max_size)\n",
    "for j in range(1,max_sigma+1):\n",
    "    Group2[j-1,:] = np.random.normal(loc=0, scale=j, size=max_size)"
   ]
  },
  {
   "cell_type": "code",
   "execution_count": 39,
   "metadata": {
    "scrolled": true
   },
   "outputs": [],
   "source": [
    "# reorganize data into vector format\n",
    "data1 = [Group1[i,j-1,k] \n",
    "         for i in range(5) \n",
    "         for j in range(1,max_sigma+1)\n",
    "         for k in range(max_size)]\n",
    "data2 = [Group2[j-1,k] \n",
    "         for j in range(1,max_sigma+1) \n",
    "         for k in range(max_size)]"
   ]
  },
  {
   "cell_type": "code",
   "execution_count": 40,
   "metadata": {},
   "outputs": [],
   "source": [
    "# create multi-level index for dataframe\n",
    "range_ = np.linspace(0,1,5) \n",
    "tuples1 = tuple([location,scale,size] \n",
    "               for location in range_ \n",
    "               for scale in range(1,max_sigma+1) \n",
    "               for size in range(max_size))\n",
    "tuples2 = tuple([scale, size]\n",
    "               for scale in range(1,max_sigma+1)\n",
    "               for size in range(max_size))\n",
    "index1 = pd.MultiIndex.from_tuples(tuples1, names=['location', 'scale', 'size'])\n",
    "index2 = pd.MultiIndex.from_tuples(tuples2, names=['scale','size'])\n",
    "# build dataframes \n",
    "df1 = pd.DataFrame(data1,index=index1)\n",
    "df2 = pd.DataFrame(data2, index=index2)"
   ]
  },
  {
   "cell_type": "code",
   "execution_count": 41,
   "metadata": {},
   "outputs": [],
   "source": [
    "df1.to_csv(r'C:\\Users\\phili\\OneDrive\\Dokumente_One Drive\\KIT\\Bachelorarbeit\\data\\df1.csv')\n",
    "df2.to_csv(r'C:\\Users\\phili\\OneDrive\\Dokumente_One Drive\\KIT\\Bachelorarbeit\\data\\df2.csv')"
   ]
  }
 ],
 "metadata": {
  "kernelspec": {
   "display_name": "Python 3",
   "language": "python",
   "name": "python3"
  },
  "language_info": {
   "codemirror_mode": {
    "name": "ipython",
    "version": 3
   },
   "file_extension": ".py",
   "mimetype": "text/x-python",
   "name": "python",
   "nbconvert_exporter": "python",
   "pygments_lexer": "ipython3",
   "version": "3.7.6"
  }
 },
 "nbformat": 4,
 "nbformat_minor": 4
}
