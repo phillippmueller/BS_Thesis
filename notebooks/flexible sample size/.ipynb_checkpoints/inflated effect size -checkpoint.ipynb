{
 "cells": [
  {
   "cell_type": "code",
   "execution_count": null,
   "metadata": {},
   "outputs": [],
   "source": [
    "import numpy as np\n",
    "import pandas as pd\n",
    "import scipy.stats as stats\n",
    "import seaborn as sns\n",
    "import matplotlib.pyplot as plt\n",
    "# from statsmodels.stats.power import TTestIndPower\n",
    "from statsmodels.stats.power import tt_ind_solve_power\n",
    "\n",
    "# set parameters \n",
    "alpha = 0.05\n",
    "power1 = 0.9\n",
    "power2 = 0.3\n",
    "mean1 = 0\n",
    "mean2 = 1\n",
    "sd1, sd2 = 1,1\n",
    "effect_size = (mean2-mean1/sd1)"
   ]
  },
  {
   "cell_type": "code",
   "execution_count": null,
   "metadata": {},
   "outputs": [],
   "source": [
    "# create function to calculate cohens_d\n",
    "def cohen(n1, n2, mean1, mean2, s1, s2 ):\n",
    "#     pooled_sd = (((n1-1)*s1**2)+((n2-1)*s2**2)/(n1+n2-2))**0.5\n",
    "    pooled_sd = np.sqrt((sd1**2+sd2**2)*0.5)\n",
    "    cohen_d = ((mean2-mean1)/pooled_sd)\n",
    "    return cohen_d"
   ]
  },
  {
   "cell_type": "code",
   "execution_count": null,
   "metadata": {},
   "outputs": [],
   "source": [
    "# compute sample size, according to predefined power levels \n",
    "# power_analysis = TTestIndPower\n",
    "size1 = tt_ind_solve_power(effect_size=effect_size, power=power1, alpha=alpha, alternative='two-sided')\n",
    "size2 = tt_ind_solve_power(effect_size=effect_size, power=power2, alpha=alpha, alternative='two-sided')\n",
    "# size1 = power_analysis.solve_power(effect_size = effect_size, power = power1, alpha = alpha, alternative = 'two-sided',self)\n",
    "# size2 = power_analysis.solve_power(effect_size = effect_size, power = power2, alpha = alpha, alternative = 'two-sided')\n",
    "sample_size1 = np.round(size1,0).astype(int)\n",
    "sample_size2 = np.round(size2,0).astype(int)\n",
    "print(sample_size1)\n",
    "print(sample_size2)\n",
    "print(effect_size)"
   ]
  },
  {
   "cell_type": "code",
   "execution_count": null,
   "metadata": {},
   "outputs": [],
   "source": [
    "nsim = 10000 # 10000 simulations \n",
    "cohen_d1 = []\n",
    "cohen_d2 = []\n",
    "results1 = []\n",
    "results2 = []\n",
    "for i in range(0,nsim):\n",
    "    # compute samples \n",
    "    sample1_1 = np.random.normal(loc=mean1, scale=sd1, size=sample_size1) \n",
    "    sample1_2 = np.random.normal(loc=mean2, scale=sd2, size=sample_size1)\n",
    "    sample2_1 = np.random.normal(loc=mean1, scale=sd1, size=sample_size2)\n",
    "    sample2_2 = np.random.normal(loc=mean2, scale=sd2, size=sample_size2)\n",
    "    # measure standardized deviation: cohen_d\n",
    "    d1 = cohen(mean1=np.mean(sample1_1), mean2=np.mean(sample1_2), n1=sample_size1, n2=sample_size1, \n",
    "                    s1=np.std(sample1_1), s2=np.std(sample1_2))\n",
    "    d2 = cohen(mean1=np.mean(sample2_1), mean2=np.mean(sample2_2), n1=sample_size2, n2=sample_size2,\n",
    "                    s1=np.std(sample2_1), s2=np.std(sample2_2))\n",
    "    # perform two-tailed two-sample t-test and store p-values \n",
    "    result1 = stats.ttest_rel(a = sample1_2, b = sample1_1)[1]#, equal_var=True)[1]\n",
    "    result2 = stats.ttest_rel(a = sample2_2, b = sample2_1)[1]#, equal_var=True)[1]\n",
    "    # store values \n",
    "    cohen_d1.append(d1)\n",
    "    cohen_d2.append(d2)\n",
    "    results1.append(result1)\n",
    "    results2.append(result2)"
   ]
  },
  {
   "cell_type": "code",
   "execution_count": null,
   "metadata": {},
   "outputs": [],
   "source": [
    "df1 = pd.DataFrame([cohen_d1, results1], index=['d1', 'results1']).transpose()\n",
    "df2 = pd.DataFrame([cohen_d2, results2], index=['d2', 'results2']).transpose()"
   ]
  },
  {
   "cell_type": "code",
   "execution_count": null,
   "metadata": {},
   "outputs": [],
   "source": [
    "# search insignificant d\n",
    "min1 = df1.query('results1 > 0.05').results1.min()\n",
    "for i in range(len(df1)):\n",
    "    if df1.iloc[i,1] == min1:\n",
    "        print(df1.iloc[i,:])\n",
    "        mind1 = df1.iloc[i,0]\n",
    "min2 = df2.query('results2 > 0.05').results2.min()\n",
    "for i in range(len(df2)):\n",
    "    if df2.iloc[i,1] == min2:\n",
    "        print(df2.iloc[i,:])\n",
    "        mind2 = df2.iloc[i,0]"
   ]
  },
  {
   "cell_type": "code",
   "execution_count": null,
   "metadata": {},
   "outputs": [],
   "source": [
    "max1 = df1.query('results1 <= 0.05').results1.max()\n",
    "for i in range(len(df1)):\n",
    "    if df1.iloc[i,1] == max1:\n",
    "        print(df1.iloc[i,:])\n",
    "        maxd1 = df1.iloc[i,0]\n",
    "max2 = df2.query('results2 <= 0.05').results2.max()\n",
    "for i in range(len(df2)):\n",
    "    if df2.iloc[i,1] == max2:\n",
    "        print(df2.iloc[i,:])\n",
    "        maxd2 = df2.iloc[i,0]"
   ]
  },
  {
   "cell_type": "code",
   "execution_count": null,
   "metadata": {},
   "outputs": [],
   "source": [
    "lower, upper = -1,3\n",
    "with sns.axes_style('darkgrid'):\n",
    "    _, bins, _ = plt.hist(x=df1.d1, density=1, bins=50, color='lightseagreen')\n",
    "    mu, sigma = stats.norm.fit(df1.d1)\n",
    "    curve = stats.norm.pdf(bins, mu, sigma)\n",
    "    plt.plot(bins,curve, color='navy')\n",
    "    plt.axvline(mind1,color='maroon')\n",
    "    plt.text(s='smallest \\nsignificant \\neffect',x=0,y=1, color='maroon', fontsize='large')\n",
    "    plt.xlim(lower,upper)\n",
    "    plt.xlabel('cohen`s d')\n",
    "    plt.ylabel('density')\n",
    "    plt.text(s='power = 90%',x=1.8,y=1.2,fontsize='x-large')\n",
    "plt.savefig(r'C:\\Users\\phili\\OneDrive\\Dokumente_One Drive\\KIT\\Bachelorarbeit\\plots\\chapter3.1\\plot1')"
   ]
  },
  {
   "cell_type": "code",
   "execution_count": null,
   "metadata": {},
   "outputs": [],
   "source": [
    "lower, upper = -1,3\n",
    "with sns.axes_style('darkgrid'):\n",
    "    _, bins, _ = plt.hist(x=df2.d2, density=1, bins=50, color='lightseagreen')\n",
    "    mu, sigma = stats.norm.fit(df2.d2)\n",
    "    curve = stats.norm.pdf(bins, mu, sigma)\n",
    "    plt.plot(bins,curve, color='navy')\n",
    "    plt.axvline(mind2,color='maroon')\n",
    "    plt.text(s='smallest \\nsignificant \\neffect',x=1.8,y=0.5, color='maroon', fontsize='large')\n",
    "    plt.xlim(lower,upper)\n",
    "    plt.xlabel('cohen`s d')\n",
    "    plt.ylabel('density')\n",
    "    plt.text(s='power = 30%',x=-.9,y=.6,fontsize='x-large')\n",
    "plt.savefig(r'C:\\Users\\phili\\OneDrive\\Dokumente_One Drive\\KIT\\Bachelorarbeit\\plots\\chapter3.1\\plot2')"
   ]
  }
 ],
 "metadata": {
  "kernelspec": {
   "display_name": "Python 3",
   "language": "python",
   "name": "python3"
  },
  "language_info": {
   "codemirror_mode": {
    "name": "ipython",
    "version": 3
   },
   "file_extension": ".py",
   "mimetype": "text/x-python",
   "name": "python",
   "nbconvert_exporter": "python",
   "pygments_lexer": "ipython3",
   "version": "3.7.6"
  }
 },
 "nbformat": 4,
 "nbformat_minor": 4
}
