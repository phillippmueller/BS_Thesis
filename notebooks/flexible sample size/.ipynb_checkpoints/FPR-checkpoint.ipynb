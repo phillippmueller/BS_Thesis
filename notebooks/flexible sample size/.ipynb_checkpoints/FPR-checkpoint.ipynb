{
 "cells": [
  {
   "cell_type": "code",
   "execution_count": null,
   "metadata": {},
   "outputs": [],
   "source": [
    "import pandas as pd\n",
    "import numpy as np\n",
    "import scipy.stats as stats\n",
    "import matplotlib.pyplot as plt"
   ]
  },
  {
   "cell_type": "code",
   "execution_count": null,
   "metadata": {},
   "outputs": [],
   "source": [
    "nsim = 1000\n",
    "size = 100\n",
    "\n",
    "# minsize = 10\n",
    "# minsize = 20\n",
    "minsize = 30\n",
    "\n",
    "alpha = 0.01\n",
    "# alpha = 0.05\n",
    "# alpha = 0.1"
   ]
  },
  {
   "cell_type": "code",
   "execution_count": null,
   "metadata": {},
   "outputs": [],
   "source": [
    "# deleting outliers \n",
    "count = []\n",
    "for n in range(nsim):\n",
    "    df1 = pd.DataFrame([np.random.normal(0,1,size)]).transpose()\n",
    "    df2 = pd.DataFrame([np.random.normal(0,1,size)]).transpose()\n",
    "    data1, data2 = df1.values.tolist(), df2.values.tolist()\n",
    "    hit = 0\n",
    "    for i in range(minsize,size+1):\n",
    "        data1.remove(np.min(data1))\n",
    "        data2.remove(np.max(data2))\n",
    "        p = stats.ttest_rel(a=data1, b=data2)[1]\n",
    "        if p <= alpha:\n",
    "            hit += 1\n",
    "    count.append(hit)"
   ]
  },
  {
   "cell_type": "code",
   "execution_count": null,
   "metadata": {},
   "outputs": [],
   "source": [
    "# intermediate testing \n",
    "inter_count = []\n",
    "for n in range(nsim):\n",
    "    df1 = pd.DataFrame([np.random.normal(0,1,size)]).transpose()\n",
    "    df2 = pd.DataFrame([np.random.normal(0,1,size)]).transpose()\n",
    "    data1, data2 = df1.values.tolist(), df2.values.tolist()\n",
    "    hit = 0\n",
    "    for i in range(minsize,size):\n",
    "        del (data1[len(data1)-1])\n",
    "        del (data2[len(data2)-1])\n",
    "        p = stats.ttest_rel(a=data1, b=data2)[1]\n",
    "        if p <= alpha:\n",
    "            hit += 1\n",
    "    inter_count.append(hit)"
   ]
  },
  {
   "cell_type": "code",
   "execution_count": null,
   "metadata": {},
   "outputs": [],
   "source": [
    "df = pd.DataFrame(data = [inter_count, count],index = ['intermediate','outlier']).transpose()\n",
    "FPR_outlier = len(df.query('outlier > 0'))/nsim\n",
    "FPR_intermediate = len(df.query('intermediate > 0.05'))/nsim\n",
    "\n",
    "[FPR_intermediate, FPR_outlier]"
   ]
  },
  {
   "cell_type": "code",
   "execution_count": null,
   "metadata": {},
   "outputs": [],
   "source": [
    "# arbitrary sample size \n",
    "arb_result = np.array([[0.0]*(size-minsize)]*nsim)\n",
    "for n in range(nsim):\n",
    "    arb = []\n",
    "    for i in range(minsize,size):\n",
    "        data1 = np.random.normal(loc=0, scale=1, size=i)\n",
    "        data2 = np.random.normal(loc=0, scale=1, size=i)\n",
    "        p = stats.ttest_rel(data1,data2)[1] \n",
    "        arb.append(p)\n",
    "    arb_result[n,:] = arb\n",
    "arb_count = []\n",
    "for i in range(size-minsize): \n",
    "    hit = 0\n",
    "    for n in range(nsim):\n",
    "        if arb_result[n,i] <= alpha: \n",
    "            hit += 1\n",
    "    arb_count.append(hit)\n",
    "np.mean([arb_count[i]/nsim for i in range(size-minsize)])"
   ]
  }
 ],
 "metadata": {
  "kernelspec": {
   "display_name": "Python 3",
   "language": "python",
   "name": "python3"
  },
  "language_info": {
   "codemirror_mode": {
    "name": "ipython",
    "version": 3
   },
   "file_extension": ".py",
   "mimetype": "text/x-python",
   "name": "python",
   "nbconvert_exporter": "python",
   "pygments_lexer": "ipython3",
   "version": "3.7.6"
  }
 },
 "nbformat": 4,
 "nbformat_minor": 4
}
