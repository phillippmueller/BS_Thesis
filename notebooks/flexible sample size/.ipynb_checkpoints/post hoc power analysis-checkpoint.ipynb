{
 "cells": [
  {
   "cell_type": "code",
   "execution_count": null,
   "metadata": {},
   "outputs": [],
   "source": [
    "import numpy as np\n",
    "import seaborn as sns\n",
    "import matplotlib.pyplot as plt\n",
    "import scipy.stats as stats\n",
    "import scipy.integrate as integrate\n",
    "from statsmodels.stats.power import zt_ind_solve_power \n",
    "from statsmodels.stats.proportion import proportions_ztest\n",
    "from statsmodels.stats.power import normal_power "
   ]
  },
  {
   "cell_type": "code",
   "execution_count": null,
   "metadata": {},
   "outputs": [],
   "source": [
    "n1, n2 = 29, 37\n",
    "N = n1+n2\n",
    "x1, x2 = 8, 26\n",
    "p1_hat, p2_hat = x1/n1, x2/n2\n",
    "p_hat = (x1+x2)/(n1+n2)\n",
    "\n",
    "se = (p_hat*(1-p_hat)*((1/n1)+(1/n2)))**0.5 # standard error\n",
    "\n",
    "mean_null = 0 # H0: mean2-mean1=0\n",
    "mean_sample = p2_hat-p1_hat # sample: mean2-mean1= 0.7-0.28=0.42"
   ]
  },
  {
   "cell_type": "code",
   "execution_count": null,
   "metadata": {},
   "outputs": [],
   "source": [
    "# reported effect size = 0.426\n",
    "# measured effect size = mean_sample = 0.42684\n",
    "mean_reported = 0.426\n",
    "z_measured = (mean_sample - mean_null)/se\n",
    "p_measured = 2*stats.norm.sf(x=z_measured) # assuming two-tailed test was conducted\n",
    "# reported p=0.0013:\n",
    "z_reported = stats.norm.isf(q = 0.0013/2) # assuming two-tailed test was conducted \n",
    "# z = (effect - 0 /se) <=> se = effect/z\n",
    "se_reported = mean_reported/z_reported\n",
    "p_reported = 2*stats.norm.sf(x=z_reported) # assuming two-tailed test was conducted\n",
    "\n",
    "print(f'measured effect size = {mean_sample}')\n",
    "print(f'reported effect size = {mean_reported}')\n",
    "print(f'measured z = {z_measured}')\n",
    "print(f'reported z = {z_reported}')\n",
    "print(f'measured se = {se}')\n",
    "print(f'reported se = {se_reported}')\n",
    "print(f'measured p = {p_measured}')\n",
    "print(f'reported p = {p_reported}')\n",
    "# se_reported - se\n",
    "p_reported/p_measured\n",
    "p_reported-p_measured"
   ]
  },
  {
   "cell_type": "code",
   "execution_count": null,
   "metadata": {},
   "outputs": [],
   "source": [
    "### power analysis: reported effect and se ###"
   ]
  },
  {
   "cell_type": "code",
   "execution_count": null,
   "metadata": {},
   "outputs": [],
   "source": [
    "sd_reported = se_reported * np.sqrt(N)\n",
    "sd_measured = se*np.sqrt(N)\n",
    "d_reported = mean_reported/sd_reported\n",
    "d_measured = mean_sample/sd_measured\n",
    "c_reported = stats.norm.isf(q=p_reported) - d_reported*np.sqrt(N)\n",
    "c_measured = stats.norm.isf(q=p_measured) - d_measured*np.sqrt(N)\n",
    "d_reported, d_measured"
   ]
  },
  {
   "cell_type": "code",
   "execution_count": null,
   "metadata": {},
   "outputs": [],
   "source": [
    "x = np.linspace(-5,5,100)\n",
    "curve = stats.norm.pdf(x=x, loc=0, scale=1)\n",
    "sns.lineplot(x=x, y=curve)\n",
    "plt.axvline(c_reported)\n",
    "plt.axvline(c_measured, color='orange')"
   ]
  },
  {
   "cell_type": "code",
   "execution_count": null,
   "metadata": {},
   "outputs": [],
   "source": [
    "power1 = stats.norm.sf(c_reported)\n",
    "power2 = stats.norm.sf(c_measured)\n",
    "print(power1)\n",
    "print(power2)\n",
    "power1-power2"
   ]
  },
  {
   "cell_type": "code",
   "execution_count": null,
   "metadata": {},
   "outputs": [],
   "source": [
    "### power analysis: estimated effects and reported se ###"
   ]
  },
  {
   "cell_type": "code",
   "execution_count": null,
   "metadata": {},
   "outputs": [],
   "source": [
    "effects = [.2, .4, .6, .8]\n",
    "d = [effects[0]/sd_reported, effects[1]/sd_reported, effects[2]/sd_reported, effects[3]/sd_reported]\n",
    "c_base = stats.norm.isf(q=p_reported)\n",
    "c = [c_base-d[0]*np.sqrt(N), c_base-d[1]*np.sqrt(N), c_base-d[2]*np.sqrt(N), c_base-d[3]*np.sqrt(N)]\n",
    "d"
   ]
  },
  {
   "cell_type": "code",
   "execution_count": null,
   "metadata": {},
   "outputs": [],
   "source": [
    "sns.lineplot(x=x, y=curve)\n",
    "plt.axvline(c[0])\n",
    "plt.axvline(c[1])\n",
    "plt.axvline(c[2])\n",
    "plt.axvline(c[3])\n",
    "power = [stats.norm.sf(c[0]),stats.norm.sf(c[1]),stats.norm.sf(c[2]),stats.norm.sf(c[3])]\n",
    "power"
   ]
  },
  {
   "cell_type": "code",
   "execution_count": null,
   "metadata": {},
   "outputs": [],
   "source": [
    "### power analysis: estimated effects and estimated se ###"
   ]
  },
  {
   "cell_type": "code",
   "execution_count": null,
   "metadata": {},
   "outputs": [],
   "source": [
    "d_est = [0.2, 0.5, 0.8]\n",
    "c_est = [c_base-d_est[0]*np.sqrt(N), c_base-d_est[1]*np.sqrt(N), c_base-d_est[2]*np.sqrt(N)]\n",
    "sns.lineplot(x=x, y=curve)\n",
    "plt.axvline(c_est[0])\n",
    "plt.axvline(c_est[1])\n",
    "plt.axvline(c_est[2])\n",
    "power = [stats.norm.sf(c_est[0]),stats.norm.sf(c_est[1]),stats.norm.sf(c_est[2])]\n",
    "power"
   ]
  }
 ],
 "metadata": {
  "kernelspec": {
   "display_name": "Python 3",
   "language": "python",
   "name": "python3"
  },
  "language_info": {
   "codemirror_mode": {
    "name": "ipython",
    "version": 3
   },
   "file_extension": ".py",
   "mimetype": "text/x-python",
   "name": "python",
   "nbconvert_exporter": "python",
   "pygments_lexer": "ipython3",
   "version": "3.7.6"
  }
 },
 "nbformat": 4,
 "nbformat_minor": 4
}
