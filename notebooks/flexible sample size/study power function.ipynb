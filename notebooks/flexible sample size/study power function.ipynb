{
 "cells": [
  {
   "cell_type": "code",
   "execution_count": null,
   "metadata": {},
   "outputs": [],
   "source": [
    "import numpy as np\n",
    "import scipy.stats as stats\n",
    "import seaborn as sns\n",
    "import matplotlib.pyplot as plt"
   ]
  },
  {
   "cell_type": "code",
   "execution_count": null,
   "metadata": {},
   "outputs": [],
   "source": [
    "### plot power on effect size axis ###\n",
    "p, alpha = 0.0013, 0.05\n",
    "c_p = stats.norm.isf(p)\n",
    "c_alpha = stats.norm.isf(alpha)\n",
    "\n",
    "N = 66\n",
    "mean_reported = 0.426\n",
    "z_reported = stats.norm.isf(q = p/2) # assuming two-tailed test was performed \n",
    "se_reported = mean_reported/z_reported\n",
    "d = np.linspace(0,1,1000)\n",
    "\n",
    "# based on estimates\n",
    "c_est_p, c_est_alpha = np.array([0.0]*len(d)), np.array([0.0]*len(d))\n",
    "pow_est_p, pow_est_alpha = np.array([0.0]*len(d)),np.array([0.0]*len(d))\n",
    "# based on reported se    \n",
    "d_se = d/(se_reported*np.sqrt(N))\n",
    "c_se_p, c_se_alpha = np.array([0.0]*len(d)), np.array([0.0]*len(d))\n",
    "pow_se_p, pow_se_alpha = np.array([0.0]*len(d)), np.array([0.0]*len(d))\n",
    "\n",
    "for i in range(len(d)):\n",
    "    c_est_p[i], c_est_alpha[i] = c_p-d[i]*np.sqrt(N), c_alpha-d[i]*np.sqrt(N)\n",
    "    pow_est_p[i], pow_est_alpha[i] = stats.norm.sf(c_est_p[i]), stats.norm.sf(c_est_alpha[i])\n",
    "    c_se_p[i], c_se_alpha[i] = c_p-d_se[i]*np.sqrt(N), c_alpha-d_se[i]*np.sqrt(N)\n",
    "    pow_se_p[i], pow_se_alpha[i] = stats.norm.sf(c_se_p[i]), stats.norm.sf(c_se_alpha[i])\n",
    "    \n",
    "with sns.axes_style('darkgrid'):\n",
    "    g = sns.lineplot(x=d, y=pow_est_p, color='firebrick', label='estimated sd, p=0.13%')\n",
    "    sns.lineplot(x=d, y=pow_est_alpha, color='orangered', label='estimated sd, alpha=5%')\n",
    "    sns.lineplot(x=d, y=pow_se_p, color='darkcyan', label='reported sd, p=0.13%')\n",
    "    sns.lineplot(x=d, y=pow_se_alpha, color='darkturquoise', label='reported sd, alpha=5%')\n",
    "    g.set(xlabel='cohen`s d', ylabel='power', ylim=(-0.05,1.05))\n",
    "plt.savefig(r'C:\\Users\\phili\\OneDrive\\Dokumente_One Drive\\KIT\\Bachelorarbeit\\plots\\chapter3.4\\plot')"
   ]
  }
 ],
 "metadata": {
  "kernelspec": {
   "display_name": "Python 3",
   "language": "python",
   "name": "python3"
  },
  "language_info": {
   "codemirror_mode": {
    "name": "ipython",
    "version": 3
   },
   "file_extension": ".py",
   "mimetype": "text/x-python",
   "name": "python",
   "nbconvert_exporter": "python",
   "pygments_lexer": "ipython3",
   "version": "3.7.6"
  }
 },
 "nbformat": 4,
 "nbformat_minor": 4
}
