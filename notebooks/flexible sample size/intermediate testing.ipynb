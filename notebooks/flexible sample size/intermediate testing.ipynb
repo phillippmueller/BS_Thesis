{
 "cells": [
  {
   "cell_type": "code",
   "execution_count": null,
   "metadata": {},
   "outputs": [],
   "source": [
    "import pandas as pd\n",
    "import numpy as np\n",
    "import scipy.stats as stats\n",
    "import seaborn as sns\n",
    "import matplotlib.pyplot as plt"
   ]
  },
  {
   "cell_type": "code",
   "execution_count": null,
   "metadata": {},
   "outputs": [],
   "source": [
    "# generate a sample with H0=true\n",
    "# generate a sample with H0=false\n",
    "# perform paired t-test\n",
    "# measure: p, test statistic = t, false positives = fp, false negatives = fn\n",
    "# increase sample size by one observation \n",
    "# repeat test\n",
    "\n",
    "# !!! use generated data to know truth value of test decision !!!"
   ]
  },
  {
   "cell_type": "code",
   "execution_count": null,
   "metadata": {},
   "outputs": [],
   "source": [
    "df_pos = pd.read_csv(r'C:\\Users\\phili\\OneDrive\\Dokumente_One Drive\\KIT\\Bachelorarbeit\\data\\df1.csv').query('location==0.5 and scale==1')\n",
    "df_neg = pd.read_csv(r'C:\\Users\\phili\\OneDrive\\Dokumente_One Drive\\KIT\\Bachelorarbeit\\data\\df1.csv').query('location==0 and scale==1')\n",
    "df_base = pd.read_csv(r'C:\\Users\\phili\\OneDrive\\Dokumente_One Drive\\KIT\\Bachelorarbeit\\data\\df2.csv').query('scale==1')"
   ]
  },
  {
   "cell_type": "code",
   "execution_count": null,
   "metadata": {},
   "outputs": [],
   "source": [
    "# truth = H1 = positive\n",
    "# H0: equal means \n",
    "# possible outcomes in the population: false negative, true positive \n",
    "sample1_pos = df_pos.iloc[:,3].values.tolist()\n",
    "sample2_pos = df_base.iloc[:,2].values.tolist()\n",
    "effect = (np.mean(sample1_pos)-np.mean(sample2_pos))\n",
    "d = np.round(effect/np.sqrt((np.std(sample1_pos)**2+np.std(sample2_pos)**2)/2), 4)\n",
    "print(f'd = {d}')\n",
    "# truth = H0 = negative\n",
    "# H0: equal means\n",
    "# possible outcomes in the population: false positive, true negative\n",
    "\n",
    "sample1_neg = df_neg.iloc[:,3].values.tolist()\n",
    "sample2_neg = sample2_pos"
   ]
  },
  {
   "cell_type": "code",
   "execution_count": null,
   "metadata": {},
   "outputs": [],
   "source": [
    "group1_pos, group2_pos = [], []\n",
    "t_pos = np.array([0.0]*len(sample1_pos))\n",
    "p_pos = np.array([0.0]*len(sample1_pos))\n",
    "fn = np.array([0.0]*len(sample1_pos))\n",
    "\n",
    "group1_neg, group2_neg = [], []\n",
    "t_neg = np.array([0.0]*len(sample1_pos))\n",
    "p_neg = np.array([0.0]*len(sample1_pos))\n",
    "fp = np.array([0.0]*len(sample1_pos))\n",
    "\n",
    "for i in range(len(df_base)):\n",
    "    # H0 false\n",
    "    group1_pos.append(sample1_pos[i])\n",
    "    group2_pos.append(sample2_pos[i])\n",
    "    statistic_pos = stats.ttest_ind(a=group1_pos,b=group2_pos)\n",
    "    t_pos[i], p_pos[i] = statistic_pos[0], statistic_pos[1]\n",
    "    # H0 true\n",
    "    group1_neg.append(sample1_neg[i])\n",
    "    group2_neg.append(sample2_neg[i])\n",
    "    statistic_neg = stats.ttest_ind(a=group1_neg, b=group2_neg)\n",
    "    t_neg[i], p_neg[i] = statistic_neg[0], statistic_neg[1]"
   ]
  },
  {
   "cell_type": "code",
   "execution_count": null,
   "metadata": {},
   "outputs": [],
   "source": [
    "x = np.arange(0,101,).astype(int)\n",
    "df = pd.DataFrame(data=[t_pos, p_pos, t_neg, p_neg], index=['t_pos', 'p_pos', 't_neg', 'p_neg'], columns=x)\n",
    "results = df.dropna(axis=1)\n",
    "results"
   ]
  },
  {
   "cell_type": "code",
   "execution_count": null,
   "metadata": {},
   "outputs": [],
   "source": [
    "x = np.linspace(2,len(sample1_pos),len(sample1_pos)-1).astype(int)\n",
    "alpha = 0.05\n",
    "with sns.axes_style('darkgrid'):\n",
    "    ax = sns.lineplot(x=x, y=results.iloc[1,:], color='orangered', label='H0=false')\n",
    "    sns.lineplot(x=x, y=results.iloc[3,:], color='lightseagreen', label='H0=true')\n",
    "    sns.lineplot(x=x, y=alpha, color='lime', label='alpha=5%')\n",
    "    ax.set(xlabel='sample size', ylabel='p-value')\n",
    "    plt.legend(bbox_to_anchor=(0.7,0.2))\n",
    "plt.savefig(r'C:\\Users\\phili\\OneDrive\\Dokumente_One Drive\\KIT\\Bachelorarbeit\\plots\\chapter3.3\\plot8')"
   ]
  },
  {
   "cell_type": "code",
   "execution_count": null,
   "metadata": {},
   "outputs": [],
   "source": [
    "with sns.axes_style('darkgrid'):\n",
    "    g = sns.lineplot(x=x, y=results.iloc[0,:], color='orangered', label='H0=false')\n",
    "    sns.lineplot(x=x, y=results.iloc[2,:], color='lightseagreen', label='H0=true')\n",
    "    g.set(xlabel='sample size', ylabel='test statistic')"
   ]
  },
  {
   "cell_type": "code",
   "execution_count": null,
   "metadata": {},
   "outputs": [],
   "source": [
    "# varying effects\n",
    "df1 = pd.read_csv(r'C:\\Users\\phili\\OneDrive\\Dokumente_One Drive\\KIT\\Bachelorarbeit\\data\\df1.csv')\n",
    "df2 = pd.read_csv(r'C:\\Users\\phili\\OneDrive\\Dokumente_One Drive\\KIT\\Bachelorarbeit\\data\\df2.csv')"
   ]
  },
  {
   "cell_type": "code",
   "execution_count": null,
   "metadata": {},
   "outputs": [],
   "source": [
    "sample1 = df1.query('location==0.75 and scale==1').iloc[:,3].values.tolist()\n",
    "sample2 = df1.query('location==0.5 and scale==1').iloc[:,3].values.tolist()\n",
    "sample3 = df1.query('location==0.75 and scale==2').iloc[:,3].values.tolist()\n",
    "sample4 = df1.query('location==0.5 and scale==2').iloc[:,3].values.tolist()\n",
    "sample5 = df1.query('location==0.25 and scale==2').iloc[:,3].values.tolist()\n",
    "sample6 = df1.query('location==0.25 and scale==3').iloc[:,3].values.tolist()\n",
    "baseline1 = df2.query('scale==1').iloc[:,2].values.tolist()\n",
    "baseline2 = df2.query('scale==2').iloc[:,2].values.tolist()\n",
    "baseline3 = df2.query('scale==3').iloc[:,2].values.tolist()"
   ]
  },
  {
   "cell_type": "code",
   "execution_count": null,
   "metadata": {},
   "outputs": [],
   "source": [
    "p1,p2,p3 = np.array([0.0]*(len(sample1)-1)), np.array([0.0]*(len(sample1)-1)), np.array([0.0]*(len(sample1)-1))\n",
    "p4,p5,p6 = np.array([0.0]*(len(sample1)-1)), np.array([0.0]*(len(sample1)-1)), np.array([0.0]*(len(sample1)-1))\n",
    "\n",
    "cond1_1, cond1_2, cond1_3 = [sample1[0]],[sample2[0]],[sample3[0]]\n",
    "cond1_4, cond1_5, cond1_6 = [sample4[0]],[sample5[0]],[sample6[0]]\n",
    "\n",
    "cond2_1, cond2_2, cond2_3 = [baseline1[0]], [baseline2[0]], [baseline3[0]]\n",
    "for i in range(1,len(sample1)):\n",
    "    cond1_1.append(sample1[i])\n",
    "    cond1_2.append(sample2[i])\n",
    "    cond1_3.append(sample3[i])\n",
    "    cond1_4.append(sample4[i])\n",
    "    cond1_5.append(sample5[i])\n",
    "    cond1_6.append(sample6[i])\n",
    "    cond2_1.append(baseline1[i])\n",
    "    cond2_2.append(baseline2[i])\n",
    "    cond2_3.append(baseline3[i])\n",
    "    p1[i-1] = stats.ttest_ind(a=cond1_1,b=cond2_1)[1]\n",
    "    p2[i-1] = stats.ttest_ind(a=cond1_2, b=cond2_1)[1]\n",
    "    p3[i-1] = stats.ttest_ind(a=cond1_3,b=cond2_2)[1] \n",
    "    p4[i-1] = stats.ttest_ind(a=cond1_4,b=cond2_2)[1]\n",
    "    p5[i-1] = stats.ttest_ind(a=cond1_5,b=cond2_2)[1]\n",
    "    p6[i-1] = stats.ttest_ind(a=cond1_6,b=cond2_3)[1]"
   ]
  },
  {
   "cell_type": "code",
   "execution_count": null,
   "metadata": {},
   "outputs": [],
   "source": [
    "d1 = np.round((np.mean(sample1)-np.mean(baseline1)) / np.sqrt((np.std(sample1)**2+np.std(baseline1)**2)/2),4)\n",
    "d2 = np.round((np.mean(sample2)-np.mean(baseline1)) / np.sqrt((np.std(sample2)**2+np.std(baseline1)**2)/2),4)\n",
    "d3 = np.round((np.mean(sample3)-np.mean(baseline2)) / np.sqrt((np.std(sample3)**2+np.std(baseline2)**2)/2),4)\n",
    "d4 = np.round((np.mean(sample4)-np.mean(baseline2)) / np.sqrt((np.std(sample4)**2+np.std(baseline2)**2)/2),4)\n",
    "d5 = np.round((np.mean(sample5)-np.mean(baseline2)) / np.sqrt((np.std(sample5)**2+np.std(baseline2)**2)/2),4)\n",
    "d6 = np.round((np.mean(sample6)-np.mean(baseline3)) / np.sqrt((np.std(sample6)**2+np.std(baseline3)**2)/2),4)\n",
    "print(f'{d1,d2,d3,d4,d5,d6}')"
   ]
  },
  {
   "cell_type": "code",
   "execution_count": null,
   "metadata": {},
   "outputs": [],
   "source": [
    "print(np.mean(sample1)-np.mean(baseline1))\n",
    "print(np.mean(sample2)-np.mean(baseline1))\n",
    "print(np.mean(sample3)-np.mean(baseline2))\n",
    "print(np.mean(sample4)-np.mean(baseline2))\n",
    "print(np.mean(sample5)-np.mean(baseline2))\n",
    "print(np.mean(sample6)-np.mean(baseline3))"
   ]
  },
  {
   "cell_type": "code",
   "execution_count": null,
   "metadata": {},
   "outputs": [],
   "source": [
    "print(np.mean(baseline3))"
   ]
  },
  {
   "cell_type": "code",
   "execution_count": null,
   "metadata": {},
   "outputs": [],
   "source": [
    "with sns.axes_style('darkgrid'):\n",
    "    ax = sns.lineplot(x=x, y=p6, color='lightblue', label=f'p at d={d6}')\n",
    "    sns.lineplot(x=x, y=p5, color='dodgerblue', label=f'p at d={d5}')\n",
    "    sns.lineplot(x=x, y=p4, color='royalblue', label=f'p at d={d4}')\n",
    "    sns.lineplot(x=x, y=p3, color='darkblue', label=f'p at d={d3}') \n",
    "    sns.lineplot(x=x, y=0.05, color='lime', label='alpha = 5%')\n",
    "    ax.set(xlabel='sample size', ylabel='p-value')\n",
    "    plt.legend(bbox_to_anchor=(.18,1))\n",
    "plt.savefig(r'C:\\Users\\phili\\OneDrive\\Dokumente_One Drive\\KIT\\Bachelorarbeit\\plots\\chapter3.3\\plot7')"
   ]
  }
 ],
 "metadata": {
  "kernelspec": {
   "display_name": "Python 3",
   "language": "python",
   "name": "python3"
  },
  "language_info": {
   "codemirror_mode": {
    "name": "ipython",
    "version": 3
   },
   "file_extension": ".py",
   "mimetype": "text/x-python",
   "name": "python",
   "nbconvert_exporter": "python",
   "pygments_lexer": "ipython3",
   "version": "3.7.6"
  }
 },
 "nbformat": 4,
 "nbformat_minor": 4
}
