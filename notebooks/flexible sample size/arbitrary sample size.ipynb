{
 "cells": [
  {
   "cell_type": "code",
   "execution_count": null,
   "metadata": {},
   "outputs": [],
   "source": [
    "import pandas as pd\n",
    "import numpy as np\n",
    "import scipy.stats as stats\n",
    "import seaborn as sns\n",
    "import matplotlib.pyplot as plt"
   ]
  },
  {
   "cell_type": "code",
   "execution_count": null,
   "metadata": {},
   "outputs": [],
   "source": [
    "size = 101\n",
    "x = np.linspace(2,size-1,size-2).astype(int)\n",
    "data = [np.random.normal(loc=0, scale=1, size=i) for i in range(2,size)]\n",
    "# truth = H1 = positive\n",
    "# H0: mean = 1\n",
    "statistic_pos = [stats.ttest_1samp(a=data[i], popmean=0.5)[0] for i in range(size-2)]\n",
    "p_pos = [stats.ttest_1samp(a=data[i], popmean=0.5)[1] for i in range(size-2)]\n",
    "# truth = H0 = negative\n",
    "# H0: mean = 0\n",
    "statistic_neg = [stats.ttest_1samp(a=data[i], popmean=0)[0] for i in range(size-2)]\n",
    "p_neg = [stats.ttest_1samp(a=data[i], popmean=0)[1] for i in range(size-2)]\n",
    "\n",
    "df = pd.DataFrame(data=[statistic_pos, p_pos, statistic_neg, p_neg], index=['statistic_pos', 'p_pos', 'statistic_neg', 'p_neg'])\n",
    "df.columns=x\n",
    "results = df.transpose()"
   ]
  },
  {
   "cell_type": "code",
   "execution_count": null,
   "metadata": {},
   "outputs": [],
   "source": [
    "# calculate measured standardized effect sizes \n",
    "mean = [np.mean(data[i]) for i in range(len(data))]\n",
    "std = [np.std(data[i]) for i in range(len(data))]\n",
    "effect_pos = [np.abs(mean[i]-0.5) for i in range(len(data))]\n",
    "effect_neg = [np.abs(mean[i]-0) for i in range(len(data))]\n",
    "d_pos = [effect_pos/(np.sqrt(std[i]**2+1)/2) for i in range(len(data))]\n",
    "d_neg = [effect_neg/(np.sqrt(std[i]**2+1)/2) for i in range(len(data))]\n",
    "np.mean(d_pos),np.mean(d_neg)"
   ]
  },
  {
   "cell_type": "code",
   "execution_count": null,
   "metadata": {},
   "outputs": [],
   "source": [
    "with sns.axes_style('darkgrid'):\n",
    "    g = sns.lineplot(x=x, y=results.p_pos, color='orangered', label='H0=false')\n",
    "    sns.lineplot(x=x, y=results.p_neg, color='lightseagreen', label='H0=true')\n",
    "    sns.lineplot(x=x, y=0.05, color='lime', label='alpha=5%')\n",
    "    g.set(xlabel='sample size', ylabel='p-value')\n",
    "    plt.legend(loc='upper right')\n",
    "plt.savefig(r'C:\\Users\\phili\\OneDrive\\Dokumente_One Drive\\KIT\\Bachelorarbeit\\plots\\chapter3.3\\plot2')"
   ]
  },
  {
   "cell_type": "code",
   "execution_count": null,
   "metadata": {},
   "outputs": [],
   "source": [
    "with sns.axes_style('darkgrid'):\n",
    "    g = sns.lineplot(x=x, y=results.statistic_pos,color='orangered', label='H0=false')\n",
    "    sns.lineplot(x=x, y=results.statistic_neg, color='lightseagreen', label='H0=true')\n",
    "    g.set(xlabel='sample size', ylabel='test statistic')\n",
    "plt.savefig(r'C:\\Users\\phili\\OneDrive\\Dokumente_One Drive\\KIT\\Bachelorarbeit\\plots\\chapter3.3\\plot1')"
   ]
  },
  {
   "cell_type": "code",
   "execution_count": null,
   "metadata": {},
   "outputs": [],
   "source": [
    "# repetition\n",
    "nsim=1000\n",
    "size = 101\n",
    "x = np.linspace(2,size-1,size-2).astype(int)\n",
    "result_p_pos, result_p_neg = np.array([[0.0]*nsim]*(size-2)), np.array([[0.0]*nsim]*(size-2))\n",
    "\n",
    "for i in range(nsim):\n",
    "    data = [np.random.normal(loc=0, scale=1, size=i) for i in range(2,size)]\n",
    "    statistic_pos = [stats.ttest_1samp(a=data[i], popmean=0.5)[0] for i in range(size-2)]\n",
    "    statistic_neg = [stats.ttest_1samp(a=data[i], popmean=0)[0] for i in range(size-2)]\n",
    "    p_pos = [stats.ttest_1samp(a=data[i], popmean=0.5)[1] for i in range(size-2)]\n",
    "    p_neg = [stats.ttest_1samp(a=data[i], popmean=0)[1] for i in range(size-2)]\n",
    "    result_p_pos[:,i] = p_pos\n",
    "    result_p_neg[:,i] = p_neg"
   ]
  },
  {
   "cell_type": "code",
   "execution_count": null,
   "metadata": {},
   "outputs": [],
   "source": [
    "sns.heatmap(result_p_pos)"
   ]
  },
  {
   "cell_type": "code",
   "execution_count": null,
   "metadata": {},
   "outputs": [],
   "source": [
    "sns.heatmap(result_p_neg)"
   ]
  },
  {
   "cell_type": "code",
   "execution_count": null,
   "metadata": {},
   "outputs": [],
   "source": [
    "fn, fp = np.array([[0.0]*nsim]*(size-2)), np.array([[0.0]*nsim]*(size-2))\n",
    "for i in range(size-2):\n",
    "    for j in range(nsim):\n",
    "        if result_p_pos[i,j] < 0.05:\n",
    "            fn[i,j] = 0 #true positive\n",
    "        else:\n",
    "            fn[i,j] = 1 #false negative \n",
    "        if result_p_neg[i,j] < 0.05:\n",
    "            fp[i,j] = 1 #false positive \n",
    "        else:\n",
    "            fp[i,j] = 0 #true negative"
   ]
  },
  {
   "cell_type": "code",
   "execution_count": null,
   "metadata": {},
   "outputs": [],
   "source": [
    "mean_p_pos = [np.mean(result_p_pos[i,:]) for i in range(size-2)]\n",
    "mean_p_neg = [np.mean(result_p_neg[i,:]) for i in range(size-2)]\n",
    "fn_rate = [np.mean(fn[i,:]) for i in range(size-2)]\n",
    "fp_rate = [np.mean(fp[i,:]) for i in range(size-2)]\n",
    "tp_rate = [1-fn_rate[i] for i in range(size-2)]\n",
    "tn_rate = [1-fp_rate[i] for i in range(size-2)]\n",
    "\n",
    "FDR = [fp_rate[i]/(tp_rate[i]+fp_rate[i]) for i in range(size-2)]"
   ]
  },
  {
   "cell_type": "code",
   "execution_count": null,
   "metadata": {},
   "outputs": [],
   "source": [
    "std_p_neg = [np.std(result_p_neg[i,:]) for i in range(size-2)]\n",
    "std_p_pos = [np.std(result_p_pos[i,:]) for i in range(size-2)]\n",
    "print(f' std in p_neg: {np.mean(std_p_neg)}')\n",
    "print(f' std in p_pos: {np.mean(std_p_pos)}')\n",
    "print(f' ratio={np.mean(std_p_pos)/np.mean(std_p_neg)}')"
   ]
  },
  {
   "cell_type": "code",
   "execution_count": null,
   "metadata": {},
   "outputs": [],
   "source": [
    "with sns.axes_style('darkgrid'):\n",
    "    g = sns.lineplot(x=x, y=mean_p_pos, color='orangered', label='H0=false')\n",
    "    sns.lineplot(x=x, y=mean_p_neg, color='lightseagreen', label='H0=true')\n",
    "    sns.lineplot(x=x, y=0.05, color='lime', label='alpha=5%')\n",
    "    g.set(xlabel='sample size', ylabel='p-value')\n",
    "plt.savefig(r'C:\\Users\\phili\\OneDrive\\Dokumente_One Drive\\KIT\\Bachelorarbeit\\plots\\chapter3.3\\plot4')"
   ]
  },
  {
   "cell_type": "code",
   "execution_count": null,
   "metadata": {},
   "outputs": [],
   "source": [
    "with sns.axes_style('darkgrid'):\n",
    "    g = sns.lineplot(x=x, y=fn_rate, color='orangered', label='false negative rate')\n",
    "    sns.lineplot(x=x, y=fp_rate, color='lightseagreen', label='false positive rate')\n",
    "    sns.lineplot(x=x, y=FDR, color='maroon', label='false discovery rate')\n",
    "    g.set(xlabel='sample size', ylabel='probability')\n",
    "plt.savefig(r'C:\\Users\\phili\\OneDrive\\Dokumente_One Drive\\KIT\\Bachelorarbeit\\plots\\chapter3.3\\plot3')"
   ]
  },
  {
   "cell_type": "code",
   "execution_count": null,
   "metadata": {},
   "outputs": [],
   "source": [
    "np.mean(fp_rate)\n",
    "np.mean(fn_rate[:30])\n",
    "np.mean(fn_rate[30:])"
   ]
  },
  {
   "cell_type": "code",
   "execution_count": null,
   "metadata": {},
   "outputs": [],
   "source": [
    "np.mean(fn_rate[30:])"
   ]
  },
  {
   "cell_type": "code",
   "execution_count": null,
   "metadata": {},
   "outputs": [],
   "source": [
    "# varying effect sizes \n",
    "nsim=1000\n",
    "new_size = 201\n",
    "new_x = np.linspace(2,new_size-1,new_size-2).astype(int)\n",
    "result1, result2, result3 = np.array([[0.0]*nsim]*(new_size-2)), np.array([[0.0]*nsim]*(new_size-2)), np.array([[0.0]*nsim]*(new_size-2))\n",
    "\n",
    "for i in range(nsim):\n",
    "    data = [np.random.normal(loc=0, scale=1, size=i) for i in range(2,new_size)]\n",
    "    p1 = [stats.ttest_1samp(a=data[i], popmean=-0.2)[1] for i in range(new_size-2)]\n",
    "    p2 = [stats.ttest_1samp(a=data[i], popmean=-0.5)[1] for i in range(new_size-2)]\n",
    "    p3 = [stats.ttest_1samp(a=data[i], popmean=-0.8)[1] for i in range(new_size-2)] \n",
    "    result1[:,i] = p1\n",
    "    result2[:,i] = p2\n",
    "    result3[:,i] = p3"
   ]
  },
  {
   "cell_type": "code",
   "execution_count": null,
   "metadata": {},
   "outputs": [],
   "source": [
    "fn1, fn2, fn3 = np.array([[0.0]*nsim]*(new_size-2)), np.array([[0.0]*nsim]*(new_size-2)), np.array([[0.0]*nsim]*(new_size-2))\n",
    "for i in range(new_size-2):\n",
    "    for j in range(nsim):\n",
    "        if result1[i,j] < 0.05:\n",
    "            fn1[i,j] = 0 #true positive\n",
    "        else:\n",
    "            fn1[i,j] = 1\n",
    "        if result2[i,j] < 0.05:\n",
    "            fn2[i,j] = 0\n",
    "        else:\n",
    "            fn2[i,j] = 1\n",
    "        if result3[i,j] < 0.05:\n",
    "            fn3[i,j] = 0\n",
    "        else:\n",
    "            fn3[i,j] = 1"
   ]
  },
  {
   "cell_type": "code",
   "execution_count": null,
   "metadata": {},
   "outputs": [],
   "source": [
    "FNR1 = [np.mean(fn1[i,:]) for i in range(new_size-2)]\n",
    "FNR2 = [np.mean(fn2[i,:]) for i in range(new_size-2)]\n",
    "FNR3 = [np.mean(fn3[i,:]) for i in range(new_size-2)]\n",
    "\n",
    "p_val1 = [np.mean(result1[i,:]) for i in range(new_size-2)]\n",
    "p_val2 = [np.mean(result2[i,:]) for i in range(new_size-2)]\n",
    "p_val3 = [np.mean(result3[i,:]) for i in range(new_size-2)]"
   ]
  },
  {
   "cell_type": "code",
   "execution_count": null,
   "metadata": {},
   "outputs": [],
   "source": [
    "with sns.axes_style('darkgrid'):\n",
    "    g = sns.lineplot(x=new_x, y=FNR1, color='salmon', label='FNR at d=0.2')\n",
    "    sns.lineplot(x=new_x, y=FNR2, color='indianred', label='FNR at d=0.5')\n",
    "    sns.lineplot(x=new_x, y=FNR3, color='darkred', label='FNR at d=0.8')\n",
    "    g.set(xlabel='sample size', ylabel='probability')\n",
    "plt.savefig(r'C:\\Users\\phili\\OneDrive\\Dokumente_One Drive\\KIT\\Bachelorarbeit\\plots\\chapter3.3\\plot5')"
   ]
  },
  {
   "cell_type": "code",
   "execution_count": null,
   "metadata": {},
   "outputs": [],
   "source": [
    "with sns.axes_style('darkgrid'):\n",
    "    g = sns.lineplot(x=new_x, y=p_val1, color='skyblue', label='p at d=0.2')\n",
    "    sns.lineplot(x=new_x, y=p_val2, color='royalblue', label='p at d=0.5')\n",
    "    sns.lineplot(x=new_x, y=p_val3, color='navy', label='p at d=0.8')\n",
    "    sns.lineplot(x=new_x, y=0.05, color='lime', label='alpha=5%')\n",
    "    g.set(xlabel='sample size', ylabel='p-value')\n",
    "plt.savefig(r'C:\\Users\\phili\\OneDrive\\Dokumente_One Drive\\KIT\\Bachelorarbeit\\plots\\chapter3.3\\plot6')"
   ]
  }
 ],
 "metadata": {
  "kernelspec": {
   "display_name": "Python 3",
   "language": "python",
   "name": "python3"
  },
  "language_info": {
   "codemirror_mode": {
    "name": "ipython",
    "version": 3
   },
   "file_extension": ".py",
   "mimetype": "text/x-python",
   "name": "python",
   "nbconvert_exporter": "python",
   "pygments_lexer": "ipython3",
   "version": "3.7.6"
  }
 },
 "nbformat": 4,
 "nbformat_minor": 4
}
