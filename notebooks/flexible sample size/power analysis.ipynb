{
 "cells": [
  {
   "cell_type": "code",
   "execution_count": null,
   "metadata": {},
   "outputs": [],
   "source": [
    "from statsmodels.stats.power import normal_power \n",
    "import numpy as np\n",
    "import scipy.stats as stats\n",
    "import scipy.integrate as integrate\n",
    "import matplotlib.pyplot as plt\n",
    "import seaborn as sns"
   ]
  },
  {
   "cell_type": "code",
   "execution_count": null,
   "metadata": {},
   "outputs": [],
   "source": [
    "alpha = 0.05\n",
    "mean_null = 3 # null hypothesis\n",
    "sd = 3 # standard deviation in the population \n",
    "n = 10 # sample size \n",
    "se = sd/np.sqrt(n) # standard error of the sampling distribution\n",
    "data = np.random.normal(loc=4.5, scale=3, size=n) # sample\n",
    "d = (np.mean(data)-mean_null)/sd # effect size in cohens' d\n",
    "z = (np.mean(data)-mean_null)/se # test statistic in one-sample z-test"
   ]
  },
  {
   "cell_type": "code",
   "execution_count": null,
   "metadata": {},
   "outputs": [],
   "source": [
    "c = stats.norm.isf(q=alpha) # identical to statsmodels computation\n",
    "c_shifted = c - d*np.sqrt(n)/1 # in statsmodels: sigma=1, shifted in amount of z-score\n",
    "c_null = stats.norm.isf(q=alpha, loc=mean_null, scale=se)\n",
    "power = stats.norm.sf(c_shifted)"
   ]
  },
  {
   "cell_type": "code",
   "execution_count": null,
   "metadata": {},
   "outputs": [],
   "source": [
    "pow_ = normal_power(effect_size=d, nobs=n, alpha=alpha, alternative='larger')"
   ]
  },
  {
   "cell_type": "code",
   "execution_count": null,
   "metadata": {},
   "outputs": [],
   "source": [
    "# build plot\n",
    "power_area = np.linspace(c_null, np.mean(data)+5*se, num=1000)\n",
    "pow_area = np.linspace(c_shifted, 5, num=1000)\n",
    "\n",
    "x = np.linspace(start=-4, stop=9, num=1000)\n",
    "null_dist = stats.norm.pdf(x=x, loc=mean_null, scale=se) # sampling distribution under H0\n",
    "alternative_dist = stats.norm.pdf(x=x, loc=np.mean(data), scale=se) # sampling distirbution under sample\n",
    "sample_dist = stats.norm.pdf(x=x, loc=0, scale=1) # sample distribution in z-test\n",
    "with sns.axes_style('darkgrid'):\n",
    "    ax1 = sns.lineplot(x=x, y=sample_dist, color='seagreen',label='null distribution')\n",
    "    ax1.fill_between(x=pow_area, y1=stats.norm.pdf(x=pow_area, loc=0, scale=1),\n",
    "                     color='paleturquoise')\n",
    "    ax2 = sns.lineplot(x=x, y=null_dist, color='orangered', label='probability under H0')\n",
    "    ax3 = sns.lineplot(x=x, y=alternative_dist, color='lightseagreen', label='probability under H1')\n",
    "    ax3.fill_between(x=power_area, y1=stats.norm.pdf(x=power_area, loc=np.mean(data), scale=se), \n",
    "                     color='paleturquoise', label='power')\n",
    "    plt.axvline(c_null, color='orangered') # critical value under the null distribution \n",
    "    plt.axvline(c, color='seagreen') # critical value under the sample distribution\n",
    "    plt.text(y=0.455, x=1.6, s='c',color='seagreen')\n",
    "    plt.text(y=0.455, x=4.5, s='c_sample', color='orangered')\n",
    "    plt.legend(bbox_to_anchor=(0.7,0.9))\n",
    "    ax1.set(xlabel='test statistic', ylabel='density')\n",
    "plt.savefig(r'C:\\Users\\phili\\OneDrive\\Dokumente_One Drive\\KIT\\Bachelorarbeit\\plots\\chapter3.2\\plot3.png')"
   ]
  },
  {
   "cell_type": "code",
   "execution_count": null,
   "metadata": {},
   "outputs": [],
   "source": [
    "for i in range(x.size):\n",
    "    if x[i] > c_null and x[i-1] <= c_null:\n",
    "        index = i\n",
    "print(index)\n",
    "print(f'c={c_null}, x[index]={x[index]}')\n",
    "print(f'diff={x[index]-c_null}')"
   ]
  },
  {
   "cell_type": "code",
   "execution_count": null,
   "metadata": {},
   "outputs": [],
   "source": [
    "power_by_integral = integrate.simps(y=alternative_dist[index:alternative_dist.size+1], x=x[index:x.size+1])"
   ]
  },
  {
   "cell_type": "code",
   "execution_count": null,
   "metadata": {
    "scrolled": true
   },
   "outputs": [],
   "source": [
    "print(f'power = {power}, sigma=1')\n",
    "print(f'pow_ = {pow_}, sigma=1')\n",
    "print(f'integral = {power_by_integral}')\n",
    "1-power"
   ]
  }
 ],
 "metadata": {
  "kernelspec": {
   "display_name": "Python 3",
   "language": "python",
   "name": "python3"
  },
  "language_info": {
   "codemirror_mode": {
    "name": "ipython",
    "version": 3
   },
   "file_extension": ".py",
   "mimetype": "text/x-python",
   "name": "python",
   "nbconvert_exporter": "python",
   "pygments_lexer": "ipython3",
   "version": "3.7.6"
  }
 },
 "nbformat": 4,
 "nbformat_minor": 4
}
