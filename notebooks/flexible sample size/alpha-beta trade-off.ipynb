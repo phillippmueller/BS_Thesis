{
 "cells": [
  {
   "cell_type": "code",
   "execution_count": null,
   "metadata": {},
   "outputs": [],
   "source": [
    "import seaborn as sns\n",
    "import matplotlib.pyplot as plt\n",
    "import scipy.stats as stats\n",
    "import numpy as np"
   ]
  },
  {
   "cell_type": "code",
   "execution_count": null,
   "metadata": {},
   "outputs": [],
   "source": [
    "# null hypothesis: N(0,1)\n",
    "mu = 0\n",
    "sigma = 1\n",
    "alpha = 0.05\n",
    "\n",
    "# sample data\n",
    "mean = 3\n",
    "sd = 1\n",
    "num=1000\n",
    "\n",
    "# beta = 0.2\n",
    "critical_value = stats.norm.ppf(0.975) # alpha = 5%, two-tailed\n",
    "rejection_area = np.linspace(critical_value, mu+5*sigma, num=num)\n",
    "beta_area = np.linspace(mu-1*sigma, critical_value, num=num)\n",
    "\n",
    "x = np.linspace(mu-1*sigma, mu+5*sigma, num=num)\n",
    "curve = stats.norm.pdf(x=x, loc=mu, scale=sigma)\n",
    "sample_curve = stats.norm.pdf(x=x, loc=mean, scale=sd)"
   ]
  },
  {
   "cell_type": "code",
   "execution_count": null,
   "metadata": {},
   "outputs": [],
   "source": [
    "with sns.axes_style('darkgrid'):\n",
    "    # plot null distribution\n",
    "    ax = sns.lineplot(x=x, y=curve, color='orangered')\n",
    "    # plot sample distribution \n",
    "    sns.lineplot(x=x, y=sample_curve, color='lightseagreen')\n",
    "    #shade in error areas \n",
    "    ax.fill_between(x=beta_area, y1=stats.norm.pdf(x=beta_area, loc=mean, scale=sd),\n",
    "                    color='paleturquoise')\n",
    "    ax.fill_between(x=rejection_area, y1=stats.norm.pdf(x=rejection_area, loc=mu, scale=sigma), \n",
    "                    color='salmon')\n",
    "    plt.axvline(x=critical_value, color='black')\n",
    "    plt.text(s='critical \\nvalue', x=1.2, y=0.3)\n",
    "    # plot expected value under H0\n",
    "    plt.axvline(x=mu, color='orangered')\n",
    "    plt.text(s='H0:\\nmean=0', x=0.1, y=0.15, color='orangered')\n",
    "    plt.axvline(x=mean, color='lightseagreen')\n",
    "    plt.text(s='H1:\\nmean=3', x=3.1, y=0.15 ,color='lightseagreen')\n",
    "    ax.set(xlabel='test statistic', ylabel='density')\n",
    "    plt.title('alpha=5%')\n",
    "plt.savefig(r'C:\\Users\\phili\\OneDrive\\Dokumente_One Drive\\KIT\\Bachelorarbeit\\plots\\chapter3.2\\plot1')"
   ]
  },
  {
   "cell_type": "code",
   "execution_count": null,
   "metadata": {},
   "outputs": [],
   "source": [
    "power = stats.norm.sf(x=critical_value, loc=mean, scale=sd)\n",
    "beta = stats.norm.cdf(x=critical_value, loc=mean, scale=sd)\n",
    "print(power)\n",
    "print(beta)\n",
    "power + beta "
   ]
  },
  {
   "cell_type": "code",
   "execution_count": null,
   "metadata": {},
   "outputs": [],
   "source": [
    "# increase alpha area to show trade-off\n",
    "new_alpha = 0.2\n",
    "new_crit = stats.norm.isf(new_alpha/2)\n",
    "print(critical_value)\n",
    "print(new_crit)\n",
    "\n",
    "new_alpha_area = np.linspace(new_crit, mu+5*sigma, num=num)\n",
    "new_beta_area = np.linspace(mu-1*sigma, new_crit, num=num)\n"
   ]
  },
  {
   "cell_type": "code",
   "execution_count": null,
   "metadata": {},
   "outputs": [],
   "source": [
    "with sns.axes_style('darkgrid'):\n",
    "    ax = sns.lineplot(x=x, y=curve, color='orangered')\n",
    "    sns.lineplot(x=x, y=sample_curve, color='lightseagreen')\n",
    "    ax.fill_between(x=new_beta_area, y1=stats.norm.pdf(x=new_beta_area, loc=mean, scale=sd), color='paleturquoise') \n",
    "    ax.fill_between(x=new_alpha_area, y1=stats.norm.pdf(x=new_alpha_area, loc=mu, scale=sigma), color='salmon')\n",
    "    plt.axvline(x=new_crit, color='black')\n",
    "    plt.text(s='critical \\nvalue', x=1.3, y=0.3)\n",
    "    plt.axvline(x=mu, color='orangered')\n",
    "    plt.text(s='H0:\\nmean=0', x=0.1, y=0.15, color='orangered')\n",
    "    plt.axvline(x=mean, color='lightseagreen')\n",
    "    plt.text(s='H1:\\nmean=3', x=3.1, y=0.15 ,color='lightseagreen')\n",
    "    ax.set(xlabel='test statistic', ylabel='density')\n",
    "    plt.title('alpha=20%')\n",
    "plt.savefig(r'C:\\Users\\phili\\OneDrive\\Dokumente_One Drive\\KIT\\Bachelorarbeit\\plots\\chapter3.2\\plot2')"
   ]
  },
  {
   "cell_type": "code",
   "execution_count": null,
   "metadata": {},
   "outputs": [],
   "source": [
    "new_power = stats.norm.sf(x=new_crit, loc=mean, scale=sd)\n",
    "new_beta = stats.norm.cdf(x=new_crit, loc=mean, scale=sd)\n",
    "print(new_power)\n",
    "print(new_beta)\n",
    "new_power + new_beta "
   ]
  }
 ],
 "metadata": {
  "kernelspec": {
   "display_name": "Python 3",
   "language": "python",
   "name": "python3"
  },
  "language_info": {
   "codemirror_mode": {
    "name": "ipython",
    "version": 3
   },
   "file_extension": ".py",
   "mimetype": "text/x-python",
   "name": "python",
   "nbconvert_exporter": "python",
   "pygments_lexer": "ipython3",
   "version": "3.7.6"
  }
 },
 "nbformat": 4,
 "nbformat_minor": 4
}
