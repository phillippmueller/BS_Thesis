{
 "cells": [
  {
   "cell_type": "code",
   "execution_count": null,
   "metadata": {},
   "outputs": [],
   "source": [
    "import pandas as pd\n",
    "import numpy as np\n",
    "import seaborn as sns\n",
    "import scipy.stats as stats\n",
    "import matplotlib.pyplot as plt\n",
    "from statsmodels.stats.proportion import proportions_ztest\n",
    "from statsmodels.stats.weightstats import ztest\n",
    "from statsmodels.stats.weightstats import ttest_ind\n",
    "from statsmodels.stats.power import normal_power "
   ]
  },
  {
   "cell_type": "code",
   "execution_count": null,
   "metadata": {},
   "outputs": [],
   "source": [
    "data = pd.read_csv(r'C:\\Users\\phili\\OneDrive\\Dokumente_One Drive\\KIT\\Bachelorarbeit\\data\\heart.csv')\n",
    "data"
   ]
  },
  {
   "cell_type": "code",
   "execution_count": null,
   "metadata": {},
   "outputs": [],
   "source": [
    "# exploratory analysis "
   ]
  },
  {
   "cell_type": "code",
   "execution_count": null,
   "metadata": {},
   "outputs": [],
   "source": [
    "data.shape"
   ]
  },
  {
   "cell_type": "code",
   "execution_count": null,
   "metadata": {},
   "outputs": [],
   "source": [
    "data.nunique()"
   ]
  },
  {
   "cell_type": "code",
   "execution_count": null,
   "metadata": {},
   "outputs": [],
   "source": [
    "data.isnull().sum()"
   ]
  },
  {
   "cell_type": "code",
   "execution_count": null,
   "metadata": {},
   "outputs": [],
   "source": [
    "sns.pairplot(data)"
   ]
  },
  {
   "cell_type": "code",
   "execution_count": null,
   "metadata": {},
   "outputs": [],
   "source": [
    "# correlations "
   ]
  },
  {
   "cell_type": "code",
   "execution_count": null,
   "metadata": {},
   "outputs": [],
   "source": [
    "cor = data.corr()\n",
    "sns.heatmap(cor, cmap='coolwarm')\n",
    "cor"
   ]
  },
  {
   "cell_type": "code",
   "execution_count": null,
   "metadata": {},
   "outputs": [],
   "source": [
    "normal_data = data[['age','trestbps','chol','thalach']]\n",
    "normal_cor = normal_data.corr(method='pearson')\n",
    "with sns.axes_style('darkgrid'):\n",
    "    sns.heatmap(normal_cor, annot=True, cmap='coolwarm')\n",
    "plt.savefig(r'C:\\Users\\phili\\OneDrive\\Dokumente_One Drive\\KIT\\Bachelorarbeit\\plots\\chapter6\\plot1.png')"
   ]
  },
  {
   "cell_type": "code",
   "execution_count": null,
   "metadata": {},
   "outputs": [],
   "source": [
    "# test for significance of correlations "
   ]
  },
  {
   "cell_type": "code",
   "execution_count": null,
   "metadata": {},
   "outputs": [],
   "source": [
    "# assumption: normal distribution\n",
    "# kolmogorov smirnov test for normality\n",
    "stats.kstest(rvs=normal_data.age, cdf='norm')# significant\n",
    "stats.kstest(rvs=normal_data.trestbps, cdf='norm')# significant\n",
    "stats.kstest(rvs=normal_data.chol, cdf='norm')# significant\n",
    "stats.kstest(rvs=normal_data.thalach, cdf='norm')# significant \n",
    "# shapiro-wikls test \n",
    "stats.shapiro(normal_data.age)# significant\n",
    "stats.shapiro(normal_data.trestbps)# significant\n",
    "stats.shapiro(normal_data.chol)# significant\n",
    "stats.shapiro(normal_data.thalach)# significant\n",
    "# omnibus test\n",
    "stats.normaltest(normal_data.age)# significant \n",
    "# stats.normaltest(normal_data.trestbps)# significant\n",
    "# stats.normaltest(normal_data.chol)# significant\n",
    "# stats.normaltest(normal_data.thalach)# significant\n",
    "\n",
    "# 'all three tests reject H0:normal distribution for all four variables! '"
   ]
  },
  {
   "cell_type": "code",
   "execution_count": null,
   "metadata": {},
   "outputs": [],
   "source": [
    "# H1: thalach and age are correated \n",
    "n = len(normal_data)\n",
    "df = n-2\n",
    "r1 = normal_cor.thalach.age\n",
    "# calculate test: Skript zur Vorlesung Analyse multivariater Daten, p.53\n",
    "# H0: cor = 0\n",
    "t = (r1*np.sqrt(n-2))/np.sqrt(1-r1**2) # test statistic\n",
    "x = np.linspace(-10,10,1000)\n",
    "sampling_dist = stats.t.pdf(x=x, df=df) # distribution under the null hypothesis\n",
    "sns.lineplot(x=x, y=sampling_dist)\n",
    "plt.axvline(t)\n",
    "p_two = stats.t.cdf(x=t,df=df)*2\n",
    "p_large = stats.t.sf(x=t, df=df)\n",
    "p_small = stats.t.cdf(t, df=df)\n",
    "print(f'two-tailed (H1:cor!=0): test statistic = {t}, p-value = {p_two}') \n",
    "print(f'right-tailed (H1:cor>0): test statistic = {t}, p-value = {p_large}') \n",
    "print(f'left-tailed (H1:cor<0): test statistic = {t}, p-value = {p_small}') "
   ]
  },
  {
   "cell_type": "code",
   "execution_count": null,
   "metadata": {},
   "outputs": [],
   "source": [
    "# H1: age and trestbps are correlated\n",
    "r2 = normal_cor.age.trestbps\n",
    "t = (r2*np.sqrt(n-2))/np.sqrt(1-r2**2) # test statistic\n",
    "sns.lineplot(x=x, y=sampling_dist)\n",
    "plt.axvline(t)\n",
    "p_two = stats.t.sf(x=t, df=df)*2\n",
    "p_large = stats.t.sf(x=t, df=df)\n",
    "p_small = stats.t.cdf(t, df=df)\n",
    "print(f'two-tailed (H1:cor!=0): test statistic = {t}, p-value = {p_two}') \n",
    "print(f'right-tailed (H1:cor>0): test statistic = {t}, p-value = {p_large}') \n",
    "print(f'left-tailed (H1:cor<0): test statistic = {t}, p-value = {p_small}') "
   ]
  },
  {
   "cell_type": "code",
   "execution_count": null,
   "metadata": {},
   "outputs": [],
   "source": [
    "# H1: age and chol are correlated\n",
    "r3 = normal_cor.age.chol\n",
    "t = (r3*np.sqrt(n-2))/np.sqrt(1-r3**2) # test statistic\n",
    "sns.lineplot(x=x, y=sampling_dist)\n",
    "plt.axvline(t)\n",
    "p_two = stats.t.sf(x=t, df=df)*2\n",
    "p_large = stats.t.sf(x=t, df=df)\n",
    "p_small = stats.t.cdf(t, df=df)\n",
    "print(f'two-tailed (H1:cor!=0): test statistic = {t}, p-value = {p_two}') \n",
    "print(f'right-tailed (H1:cor>0): test statistic = {t}, p-value = {p_large}') \n",
    "print(f'left-tailed (H1:cor<0): test statistic = {t}, p-value = {p_small}') "
   ]
  },
  {
   "cell_type": "code",
   "execution_count": null,
   "metadata": {},
   "outputs": [],
   "source": [
    "# H1: chol and trestbps are correlated \n",
    "r4 = normal_cor.chol.trestbps\n",
    "t = (r4*np.sqrt(n-2))/np.sqrt(1-r4**2) # test statistic\n",
    "sns.lineplot(x=x, y=sampling_dist)\n",
    "plt.axvline(t)\n",
    "p_two = stats.t.sf(x=t, df=df)*2\n",
    "p_large = stats.t.sf(x=t, df=df)\n",
    "p_small = stats.t.cdf(t, df=df)\n",
    "print(f'two-tailed (H1:cor!=0): test statistic = {t}, p-value = {p_two}') \n",
    "print(f'right-tailed (H1:cor>0): test statistic = {t}, p-value = {p_large}') \n",
    "print(f'left-tailed (H1:cor<0): test statistic = {t}, p-value = {p_small}') \n"
   ]
  },
  {
   "cell_type": "code",
   "execution_count": null,
   "metadata": {},
   "outputs": [],
   "source": [
    "# H1:thalach and trestbps are correlated \n",
    "r5 = normal_cor.thalach.trestbps\n",
    "t = (r5*np.sqrt(n-2))/np.sqrt(1-r5**2) # test statistic\n",
    "sns.lineplot(x=x, y=sampling_dist)\n",
    "plt.axvline(t)\n",
    "p_two = stats.t.cdf(x=t, df=df)*2\n",
    "p_large = stats.t.sf(x=t, df=df)\n",
    "p_small = stats.t.cdf(t, df=df)\n",
    "print(f'two-tailed (H1:cor!=0): test statistic = {t}, p-value = {p_two}') \n",
    "print(f'right-tailed (H1:cor>0): test statistic = {t}, p-value = {p_large}') \n",
    "print(f'left-tailed (H1:cor<0): test statistic = {t}, p-value = {p_small}') \n"
   ]
  },
  {
   "cell_type": "code",
   "execution_count": null,
   "metadata": {},
   "outputs": [],
   "source": [
    "# pearson r test \n",
    "stats.pearsonr(x=data.thalach, y=data.age)# significant\n",
    "stats.pearsonr(x=data.trestbps, y=data.age)# significant\n",
    "stats.pearsonr(x=data.chol, y=data.age)# significant\n",
    "stats.pearsonr(x=data.chol, y=data.trestbps)# significant\n",
    "# stats.pearsonr(x=data.thalach, y=data.trestbps)# insignificant\n",
    "# 'test decissions similar to result sabove'"
   ]
  },
  {
   "cell_type": "code",
   "execution_count": null,
   "metadata": {},
   "outputs": [],
   "source": [
    "a =  5.628106676351095e-13/5.628106676351095e-13\n",
    "b = 7.762269074809919e-07/7.762269074809851e-07\n",
    "c = 0.00017862864341450013/0.00017862864341449124\n",
    "d = 0.032082053610872296/0.032082053610871034\n",
    "a,b,c,d"
   ]
  },
  {
   "cell_type": "code",
   "execution_count": null,
   "metadata": {},
   "outputs": [],
   "source": [
    "# spearman rank correlation test \n",
    "stats.spearmanr(a=data.thalach, b=data.age) # significant \n",
    "stats.spearmanr(a=data.trestbps, b=data.age) # signficant\n",
    "stats.spearmanr(a=data.chol, b=data.age) # significant\n",
    "stats.spearmanr(a=data.chol, b=data.trestbps) # significant\n",
    "# stats.spearmanr(a=data.thalach, b=data.trestbps) # insignificant"
   ]
  },
  {
   "cell_type": "code",
   "execution_count": null,
   "metadata": {},
   "outputs": [],
   "source": [
    "a = 6.024320734620622e-13/5.628106676351095e-13 \n",
    "b = 4.2617094650125134e-07/7.762269074809851e-07\n",
    "c = 0.0006099143222853829/0.00017862864341449124 \n",
    "d = 0.027608539162108658/0.032082053610871034 \n",
    "a,b,c,d"
   ]
  },
  {
   "cell_type": "code",
   "execution_count": null,
   "metadata": {},
   "outputs": [],
   "source": [
    "# sort by data type\n",
    "n = len(data)\n",
    "print(n)\n",
    "binary = data[['sex','fbs','exang','target']]\n",
    "# sex: 1=male\n",
    "# fbs(fasting blood sugar > 120mg/dl): 1=true\n",
    "# exang (exercise induced angina): 1=yes \n",
    "# target (diagnosis of heart disease): 0 = yes\n",
    "numer = data[['age','trestbps','chol','thalach','oldpeak']]\n",
    "# trestbps: resting blood pressure on admission to hospital\n",
    "# chol: choloestorol levels \n",
    "#restecg: resting electroradiographic results\n",
    "# thalach: maximum heart rate acchieved \n",
    "# oldpeak: ST depression induced by exercise relative to rest\n",
    "# ca: number of major vessels colored by flourosopy \n",
    "categ = data[['cp','restecg','slope','thal','ca']]\n",
    "# cp(chest pain type): 0=typical, 1=atypical, 2=non-anginal, 3=asymptomatic\n",
    "# restecg (resting electrocardiographic resutls): 0=normal, 1=ST-T wave abnormal, 2=left ventricular hypertrophy\n",
    "# slope (pf peak exercise ST segment): 0=up, 1=flat, 2=down\n",
    "# thal: 1=normal, 2=fixed defect, 3=reversable defect "
   ]
  },
  {
   "cell_type": "code",
   "execution_count": null,
   "metadata": {},
   "outputs": [],
   "source": [
    "# boxplots of numeric variables "
   ]
  },
  {
   "cell_type": "code",
   "execution_count": null,
   "metadata": {},
   "outputs": [],
   "source": [
    "fig, axs = plt.subplots(2,3)\n",
    "axs[0,0].boxplot(x=data.age)\n",
    "axs[0,1].boxplot(x=data.trestbps)\n",
    "axs[0,2].boxplot(x=data.chol)\n",
    "axs[1,0].boxplot(x=data.thalach)\n",
    "axs[1,1].boxplot(x=data.oldpeak)\n",
    "axs[1,2].boxplot(x=data.ca)\n",
    "axs[0,0].set_title('age')\n",
    "axs[0,1].set_title('resting bps')\n",
    "axs[0,2].set_title('cholestorol levels')\n",
    "axs[1,0].set_title('max heart rate')\n",
    "axs[1,1].set_title('ST depression time?')\n",
    "axs[1,2].set_title('# major vessels')\n",
    "fig.tight_layout()"
   ]
  },
  {
   "cell_type": "code",
   "execution_count": null,
   "metadata": {},
   "outputs": [],
   "source": [
    "# confidence intervals of binary variables "
   ]
  },
  {
   "cell_type": "code",
   "execution_count": null,
   "metadata": {},
   "outputs": [],
   "source": [
    "p = binary.mean()\n",
    "se_binary = np.sqrt(p*(1-p)/n)\n",
    "z_score = stats.norm.ppf(0.975)\n",
    "\n",
    "sex_ci = [p.sex-z_score*se_binary.sex,p.sex+z_score*se_binary.sex]\n",
    "fbs_ci = [p.fbs-z_score*se_binary.fbs, p.fbs+z_score*se_binary.fbs]\n",
    "exang_ci = [p.exang-z_score*se_binary.exang, p.exang+z_score*se_binary.exang]\n",
    "target_ci = [p.target-z_score*se_binary.target, p.target+z_score*se_binary.target]"
   ]
  },
  {
   "cell_type": "code",
   "execution_count": null,
   "metadata": {},
   "outputs": [],
   "source": [
    "# plot 95% confidence intervals (dark)\n",
    "# plt mean values (light)\n",
    "with sns.axes_style('darkgrid'):\n",
    "    plt.scatter(x='% male', y=sex_ci[0], color='darkblue')\n",
    "    plt.scatter(x='% male', y=sex_ci[1], color='darkblue')\n",
    "    plt.scatter(x='% male', y=p.sex, color='dodgerblue')\n",
    "    plt.scatter(x='% fbs>120', y=fbs_ci[0], color='darkblue')\n",
    "    plt.scatter(x='% fbs>120', y=fbs_ci[1], color='darkblue')\n",
    "    plt.scatter(x='% fbs>120', y=p.fbs, color='dodgerblue')\n",
    "    plt.scatter(x='% exercise \\ninduced angina', y=exang_ci[0], color='darkblue')\n",
    "    plt.scatter(x='% exercise \\ninduced angina', y=exang_ci[1], color='darkblue')\n",
    "    plt.scatter(x='% exercise \\ninduced angina', y=p.exang, color='dodgerblue')\n",
    "    plt.scatter(x='% no disease', y=target_ci[0], color='darkblue')\n",
    "    plt.scatter(x='% no disease', y=target_ci[1], color='darkblue')\n",
    "    plt.scatter(x='% no disease', y=p.target, color='dodgerblue')\n",
    "    plt.title('95% confidende interval of binary variables')"
   ]
  },
  {
   "cell_type": "code",
   "execution_count": null,
   "metadata": {},
   "outputs": [],
   "source": [
    "# value count of categorical variables  "
   ]
  },
  {
   "cell_type": "code",
   "execution_count": null,
   "metadata": {},
   "outputs": [],
   "source": [
    "categ.mode()\n",
    "# cp (chest pain type): 0=typical anigna, 1=atypical anigna, 2=non-anginal pain, 3=asymptomatic\n",
    "# restecg (resting electrocardiographic results): 0=normal, 1=ST-T wave abnormality, 2=left ventricular hypertrophy\n",
    "# slpoe (of peak exercise ST segment): 0=up, 1=flat, 2=down\n",
    "# thal: 1=normal, 2=fixed defect, 3=reversable defect"
   ]
  },
  {
   "cell_type": "code",
   "execution_count": null,
   "metadata": {},
   "outputs": [],
   "source": [
    "t_ang, a_ang, n_ang, asymp = 0,0,0,0\n",
    "norm, anorm, ventr = 0,0,0\n",
    "up, flat, down = 0,0,0\n",
    "normal, fixed, revers = 0,0,0\n",
    "fail_cp, fail_restecg, fail_slope, fail_thal = [],[],[],[]\n",
    "for i in range(len(categ)):\n",
    "    if categ.cp.iloc[i] == 0:\n",
    "        t_ang += 1\n",
    "    elif categ.cp.iloc[i] == 1:\n",
    "        a_ang += 1\n",
    "    elif categ.cp.iloc[i] == 2:\n",
    "        n_ang += 1\n",
    "    elif categ.cp.iloc[i] == 3:\n",
    "        asymp += 1\n",
    "    else:\n",
    "        fail_cp.append(i)\n",
    "    if categ.restecg.iloc[i] == 0:\n",
    "        norm += 1\n",
    "    elif categ.restecg.iloc[i] == 1:\n",
    "        anorm += 1\n",
    "    elif categ.restecg.iloc[i] == 2:\n",
    "        ventr += 1\n",
    "    else:\n",
    "        fail_restecg.append(i)\n",
    "    if categ.slope.iloc[i] == 0:\n",
    "        up += 1\n",
    "    elif categ.slope.iloc[i] == 1:\n",
    "        flat += 1\n",
    "    elif categ.slope.iloc[i] == 2:\n",
    "        down += 1\n",
    "    else:\n",
    "        fail_slope.append(i)\n",
    "    if categ.thal.iloc[i] == 1:\n",
    "        normal += 1\n",
    "    elif categ.thal.iloc[i] == 2:\n",
    "        fixed += 1\n",
    "    elif categ.thal.iloc[i] == 3:\n",
    "        revers += 1\n",
    "    else:\n",
    "        fail_thal.append(i)\n",
    "print(fail_cp)\n",
    "print(fail_restecg)\n",
    "print(fail_slope)\n",
    "print(fail_thal)"
   ]
  },
  {
   "cell_type": "code",
   "execution_count": null,
   "metadata": {},
   "outputs": [],
   "source": [
    "plt.bar(x='typical angina', height=t_ang)\n",
    "plt.bar(x='atypical angina', height=a_ang)\n",
    "plt.bar(x='non-aginal pain', height=n_ang)\n",
    "plt.bar(x='asymptotic', height=asymp)\n",
    "print(t_ang/n)\n",
    "print(asymp/n)"
   ]
  },
  {
   "cell_type": "code",
   "execution_count": null,
   "metadata": {},
   "outputs": [],
   "source": [
    "plt.bar(x='normal', height=norm)\n",
    "plt.bar(x='ST-T wave abnormality', height=anorm)\n",
    "plt.bar(x='ventricular hypertrophy', height=ventr)\n",
    "print(norm/n)\n",
    "print(anorm/n)\n",
    "print(ventr/303)"
   ]
  },
  {
   "cell_type": "code",
   "execution_count": null,
   "metadata": {},
   "outputs": [],
   "source": [
    "plt.bar(x='up', height=up)\n",
    "plt.bar(x='flat', height=flat)\n",
    "plt.bar(x='down', height=down)\n",
    "print(up/303)\n",
    "print(flat/303)\n",
    "print(down/303)"
   ]
  },
  {
   "cell_type": "code",
   "execution_count": null,
   "metadata": {
    "scrolled": true
   },
   "outputs": [],
   "source": [
    "plt.bar(x='normal', height=normal)\n",
    "plt.bar(x='fixed defect', height=fixed)\n",
    "plt.bar(x='reversable defect', height=revers)\n",
    "plt.bar(x='measurement error', height=len(fail_thal))\n",
    "print(normal)\n",
    "print(normal/301)\n",
    "print(fixed/303)"
   ]
  },
  {
   "cell_type": "code",
   "execution_count": null,
   "metadata": {},
   "outputs": [],
   "source": [
    "# multiple tests of mean on binary variables"
   ]
  },
  {
   "cell_type": "code",
   "execution_count": null,
   "metadata": {},
   "outputs": [],
   "source": [
    "disease, no_disease = binary.query('target==0'), binary.query('target==1')\n",
    "\n",
    "m, f = binary.query('sex==1'), binary.query('sex==0')\n",
    "male, female = m.drop(columns=['sex']), f.drop(columns=['sex'])\n",
    "\n",
    "y,n_= binary.query('exang==1'), binary.query('exang==0')\n",
    "yes, no = y.drop(columns=['exang']), n_.drop(columns=['exang'])\n",
    "\n",
    "fy, fn = binary.query('fbs==1'), binary.query('fbs==0')\n",
    "fbs_yes, fbs_no = fy.drop(columns=['fbs']), fn.drop(columns=['fbs'])\n",
    "\n",
    "count_dis, count_nod = disease.sum(), no_disease.sum()\n",
    "count_male, count_fem = male.sum(), female.sum()\n",
    "count_yes, count_no = yes.sum(), no.sum()\n",
    "count_fbsy, count_fbsn = fbs_yes.sum(), fbs_no.sum()\n",
    "\n",
    "p_male = p.drop(index=['sex'])\n",
    "p_yes = p.drop(index=['exang'])\n",
    "p_fbs = p.drop(index=['fbs'])"
   ]
  },
  {
   "cell_type": "code",
   "execution_count": null,
   "metadata": {},
   "outputs": [],
   "source": [
    "dis_basel, nod_basel, dis_nod = [],[],[]\n",
    "yes_basel, no_basel, yes_no = [],[],[]\n",
    "male_basel, fem_basel, male_fem = [],[],[]\n",
    "fbsy_basel, fbsn_basel, fbs_yes_no = [],[],[]\n",
    "design = ['smaller','two-sided','larger']\n",
    "for i in range(3):\n",
    "    for d in range(3):\n",
    "        # search for mean differences in target\n",
    "        dis_basel.append(proportions_ztest(nobs=len(disease), count=count_dis[i], value=p[i], prop_var=True,  alternative=design[d])[0])\n",
    "        dis_basel.append(proportions_ztest(nobs=len(disease), count=count_dis[i], value=p[i], alternative=design[d])[1])\n",
    "        nod_basel.append(proportions_ztest(nobs=len(no_disease), count=count_nod[i], value=p[i], alternative=design[d])[0])\n",
    "        nod_basel.append(proportions_ztest(nobs=len(no_disease), count=count_nod[i], value=p[i], alternative=design[d])[1])\n",
    "        dis_nod.append(proportions_ztest(nobs=len(disease), count=count_dis[i], value=(count_nod[i]/len(no_disease)), alternative=design[d])[0])\n",
    "        dis_nod.append(proportions_ztest(nobs=len(disease), count=count_dis[i], value=(count_nod[i]/len(no_disease)), alternative=design[d])[1])\n",
    "        #search for mean differences in exang(exercise induced angina)\n",
    "        yes_basel.append(proportions_ztest(nobs=len(yes), count=count_yes[i], value=p_yes[i], prop_var=True,alternative=design[d])[0])\n",
    "        yes_basel.append(proportions_ztest(nobs=len(yes), count=count_yes[i], value=p_yes[i], alternative=design[d])[1])\n",
    "        no_basel.append(proportions_ztest(nobs=len(no), count=count_no[i], value=p_yes[i], alternative=design[d])[0])\n",
    "        no_basel.append(proportions_ztest(nobs=len(no), count=count_no[i], value=p_yes[i], alternative=design[d])[1])\n",
    "        yes_no.append(proportions_ztest(nobs=len(yes), count=count_yes[i], value=(count_no[i]/len(no)), alternative=design[d])[0])\n",
    "        yes_no.append(proportions_ztest(nobs=len(yes), count=count_yes[i], value=(count_no[i]/len(no)), alternative=design[d])[1])\n",
    "        # search for mean differences in gender \n",
    "        male_basel.append(proportions_ztest(nobs=len(male), count=count_male[i], value=p_male[i], alternative=design[d])[0])\n",
    "        male_basel.append(proportions_ztest(nobs=len(male), count=count_male[i], value=p_male[i], alternative=design[d])[1])\n",
    "        fem_basel.append(proportions_ztest(nobs=len(female), count=count_fem[i], value=p_male[i], alternative=design[d])[0])\n",
    "        fem_basel.append(proportions_ztest(nobs=len(female), count=count_fem[i], value=p_male[i], alternative=design[d])[1])\n",
    "        male_fem.append(proportions_ztest(nobs=len(male), count=count_male[i], value=(count_fem[i]/len(female)), alternative=design[d])[0])\n",
    "        male_fem.append(proportions_ztest(nobs=len(male), count=count_male[i], value=(count_fem[i]/len(female)), alternative=design[d])[1])\n",
    "        # search for mean differences in fbs (fasting blood sugar)\n",
    "        fbsy_basel.append(proportions_ztest(nobs=len(fbs_yes), count=count_fbsy[i], value=p_fbs[i], alternative=design[d])[0])\n",
    "        fbsy_basel.append(proportions_ztest(nobs=len(fbs_yes), count=count_fbsy[i], value=p_fbs[i], alternative=design[d])[1])\n",
    "        fbsn_basel.append(proportions_ztest(nobs=len(fbs_no), count=count_fbsn[i], value=p_fbs[i], alternative=design[d])[0])\n",
    "        fbsn_basel.append(proportions_ztest(nobs=len(fbs_no), count=count_fbsn[i], value=p_fbs[i], alternative=design[d])[1])\n",
    "        fbs_yes_no.append(proportions_ztest(nobs=len(fbs_yes), count=count_fbsy[i], value=(count_fbsn[i]/len(fbs_no)), alternative=design[d])[0])\n",
    "        fbs_yes_no.append(proportions_ztest(nobs=len(fbs_yes), count=count_fbsy[i], value=(count_fbsn[i]/len(fbs_no)), alternative=design[d])[1])\n",
    "\n",
    "target_iterables = [['sex','fbs','exang'],['left-tailed', 'two-tailed', 'right-tailed'],['statistic', 'p-value']]\n",
    "sex_iterables = [['fbs','exang','target'],['left-tailed', 'two-tailed', 'right-tailed'],['statistic', 'p-value']]\n",
    "exang_interables = [['sex','fbs','target'],['left-tailed', 'two-tailed', 'right-tailed'],['statistic', 'p-value']]\n",
    "fbs_iterables = [['sex','exang','target'],['left-tailed', 'two-tailed', 'right-tailed'],['statistic', 'p-value']]\n",
    "\n",
    "target_index = pd.MultiIndex.from_product(target_iterables, names=['test', 'design', 'result'])\n",
    "sex_index = pd.MultiIndex.from_product(sex_iterables, names=['test', 'design', 'result'])\n",
    "exang_index = pd.MultiIndex.from_product(exang_interables, names=['test', 'design', 'result'])\n",
    "fbs_index = pd.MultiIndex.from_product(fbs_iterables, names=['test','design','result'])\n",
    "\n",
    "df_dis_basel, df_nod_basel, df_dis_nod = pd.DataFrame(dis_basel,index=target_index), pd.DataFrame(nod_basel,index=target_index), pd.DataFrame(dis_nod,index=target_index)\n",
    "df_male_basel, df_fem_basel, df_male_fem = pd.DataFrame(male_basel, index=sex_index), pd.DataFrame(fem_basel, index=sex_index), pd.DataFrame(male_fem, index=sex_index)\n",
    "df_yes_basel, df_no_basel, df_yes_no = pd.DataFrame(yes_basel, index=exang_index), pd.DataFrame(no_basel, index=exang_index), pd.DataFrame(yes_no, index=exang_index)\n",
    "df_fbs_yes_basel, df_fbs_no_basel, df_fbs_yes_no = pd.DataFrame(fbsy_basel, index=fbs_index), pd.DataFrame(fbsn_basel, index=fbs_index), pd.DataFrame(fbs_yes_no, index=fbs_index)"
   ]
  },
  {
   "cell_type": "code",
   "execution_count": null,
   "metadata": {},
   "outputs": [],
   "source": [
    "# couble check p-value calculation in stats.models.proportion -> statsmodels.stats.weighstats\n",
    "\n",
    "def p_value (statistic):\n",
    "    p_small = stats.norm.cdf(x=statistic)\n",
    "    p_two = stats.norm.sf(x=statistic)*2\n",
    "    p_large = stats.norm.sf(x=statistic)\n",
    "    print(f'p_small={p_small}')\n",
    "    print(f'p_two={p_two}')\n",
    "    print(f'p_large={p_large}')\n",
    "    \n",
    "statistic=[]\n",
    "\n",
    "for i in range(3): # number of characteristics to test\n",
    "    a = proportions_ztest(nobs=len(disease), count=count_dis[i], value=(count_nod[i]/len(no_disease)), alternative='two-sided')[0] \n",
    "    statistic.append(a)\n",
    "    if np.abs(a) > 1.646:\n",
    "        print(f'significant finding detected in iteration {i}, statistic={a}')\n",
    "        p_value(a)\n",
    "        if np.abs(a) < 1.96:\n",
    "            print(f'vague hypothesis detected in iteration {i}')\n",
    "# results are correct!"
   ]
  },
  {
   "cell_type": "code",
   "execution_count": null,
   "metadata": {},
   "outputs": [],
   "source": [
    "# flexible sample size "
   ]
  },
  {
   "cell_type": "code",
   "execution_count": null,
   "metadata": {},
   "outputs": [],
   "source": [
    "# delete latest observation on selected non-significant z-test findings "
   ]
  },
  {
   "cell_type": "code",
   "execution_count": null,
   "metadata": {},
   "outputs": [],
   "source": [
    "# sex in (data, exang)\n",
    "sex, e_sex = data.sex.values.tolist(), yes.sex.values.tolist()\n",
    "statistic, p_val = [],[]\n",
    "for i in range(len(e_sex)-2):\n",
    "    count = np.sum(e_sex)\n",
    "    p = np.mean(sex)\n",
    "    statistic.append(proportions_ztest(nobs=len(e_sex), count=count, value=p, alternative='larger')[0])\n",
    "    p_val.append(proportions_ztest(nobs=len(e_sex), count=count, value=p, alternative='larger')[1])\n",
    "    if p_val[i] <= 0.05:\n",
    "        print(p_val[i])\n",
    "        print(i)\n",
    "        break\n",
    "    del(e_sex[len(e_sex)-1])\n",
    "    del(sex[len(sex)-1])"
   ]
  },
  {
   "cell_type": "code",
   "execution_count": null,
   "metadata": {},
   "outputs": [],
   "source": [
    "# exang in (sex, data)\n",
    "exang, m_exang = data.exang.values.tolist(), male.exang.values.tolist()\n",
    "statistic, p_val = [],[]\n",
    "for i in range(len(m_exang)-2):\n",
    "    count = np.sum(m_exang)\n",
    "    p = np.mean(exang)\n",
    "    statistic.append(proportions_ztest(nobs=len(m_exang), count=count, value=p, alternative='larger')[0])\n",
    "    p_val.append(proportions_ztest(nobs=len(m_exang), count=count, value=p, alternative='larger')[1])\n",
    "    if p_val[i] <= 0.05:\n",
    "        print(statistic[i])\n",
    "        print(p_val[i])\n",
    "        print(i)    \n",
    "        # compute power on alpha = 5% and measured effect size\n",
    "        mean = count/(len(m_exang)) - p\n",
    "        se = mean/p_val[i]\n",
    "        n = len(m_exang)+len(exang)\n",
    "        d = mean/se*np.sqrt(n)\n",
    "        c = stats.norm.isf(q=0.05) - d*np.sqrt(n)\n",
    "        power = stats.norm.sf(c)\n",
    "        print(f'power={power}')\n",
    "        break\n",
    "    del(m_exang[len(m_exang)-1])\n",
    "    del(exang[len(exang)-1])\n"
   ]
  },
  {
   "cell_type": "code",
   "execution_count": null,
   "metadata": {},
   "outputs": [],
   "source": [
    "# fbs in (data, disease)\n",
    "fbs, d_fbs = data.fbs.values.tolist(), disease.fbs.values.tolist()\n",
    "statistic, p_val = [],[]\n",
    "for i in range(len(d_fbs)-2):\n",
    "    count = np.sum(d_fbs)\n",
    "    p = np.mean(fbs)\n",
    "    statistic.append(proportions_ztest(nobs=len(d_fbs), count=count, value=p, alternative='larger')[0])\n",
    "    p_val.append(proportions_ztest(nobs=len(d_fbs), count=count, value=p, alternative='larger')[1])\n",
    "    if p_val[i] <= 0.05:\n",
    "        print(p_val[i])\n",
    "        print(i)\n",
    "        break\n",
    "    del(d_fbs[len(d_fbs)-1])\n",
    "    del(fbs[len(fbs)-1])"
   ]
  },
  {
   "cell_type": "code",
   "execution_count": null,
   "metadata": {},
   "outputs": [],
   "source": [
    "# fbs in (disease, no disease)\n",
    "n_fbs, d_fbs = no_disease.fbs.values.tolist(), disease.fbs.values.tolist()\n",
    "statistic, p_val = [],[]\n",
    "for i in range(len(d_fbs)-2):\n",
    "    count = np.sum(d_fbs)\n",
    "    p = np.mean(n_fbs)\n",
    "    statistic.append(proportions_ztest(nobs=len(d_fbs), count=count, value=p, alternative='larger')[0])\n",
    "    p_val.append(proportions_ztest(nobs=len(d_fbs), count=count, value=p, alternative='larger')[1])\n",
    "    if p_val[i] <= 0.05:\n",
    "        print(p_val[i])\n",
    "        print(i)\n",
    "        break\n",
    "    del(d_fbs[len(d_fbs)-1])\n",
    "    del(n_fbs[len(n_fbs)-1])"
   ]
  },
  {
   "cell_type": "code",
   "execution_count": null,
   "metadata": {},
   "outputs": [],
   "source": [
    "# fbs in (male, female)\n",
    "m_fbs, f_fbs = male.fbs.values.tolist(), female.fbs.values.tolist()\n",
    "statistic, p_val = [],[]\n",
    "for i in range(len(d_fbs)-2):\n",
    "    count = np.sum(m_fbs)\n",
    "    p = np.mean(f_fbs)\n",
    "    statistic.append(proportions_ztest(nobs=len(m_fbs), count=count, value=p, alternative='larger')[0])\n",
    "    p_val.append(proportions_ztest(nobs=len(m_fbs), count=count, value=p, alternative='larger')[1])\n",
    "    if p_val[i] <= 0.05:\n",
    "        print(p_val[i])\n",
    "        break\n",
    "    del(m_fbs[len(m_fbs)-1])\n",
    "    del(f_fbs[len(f_fbs)-1])"
   ]
  },
  {
   "cell_type": "code",
   "execution_count": null,
   "metadata": {},
   "outputs": [],
   "source": [
    "# fbs in (exang no exang)\n",
    "e_fbs, n_fbs = yes.fbs.values.tolist(), no.fbs.values.tolist()\n",
    "statistic, p_val = [],[]\n",
    "for i in range(len(d_fbs)-2):\n",
    "    count = np.sum(e_fbs)\n",
    "    p = np.mean(n_fbs)\n",
    "    statistic.append(proportions_ztest(nobs=len(e_fbs), count=count, value=p, alternative='larger')[0])\n",
    "    p_val.append(proportions_ztest(nobs=len(e_fbs), count=count, value=p, alternative='larger')[1])\n",
    "    if p_val[i] <= 0.05:\n",
    "        print(p_val[i])\n",
    "        print(i)\n",
    "        break\n",
    "    del(e_fbs[len(e_fbs)-1])\n",
    "    del(n_fbs[len(n_fbs)-1])"
   ]
  },
  {
   "cell_type": "code",
   "execution_count": null,
   "metadata": {},
   "outputs": [],
   "source": [
    "# try again with deleting outliers "
   ]
  },
  {
   "cell_type": "code",
   "execution_count": null,
   "metadata": {},
   "outputs": [],
   "source": [
    "# exang in (sex, data)\n",
    "exang, m_exang = data.exang.values.tolist(), male.exang.values.tolist()\n",
    "statistic, p_val = [],[]\n",
    "for i in range(len(m_exang)-2):\n",
    "    count = np.sum(m_exang)\n",
    "    p = np.mean(exang)\n",
    "    statistic.append(proportions_ztest(nobs=len(m_exang), count=count, value=p, alternative='larger')[0])\n",
    "    p_val.append(proportions_ztest(nobs=len(m_exang), count=count, value=p, alternative='larger')[1])\n",
    "    if p_val[i] <= 0.05:\n",
    "        print(statistic[i])\n",
    "        print(p_val[i])\n",
    "        print(f'sample1 size={len(m_exang)}, sample2 size={len(exang)}')\n",
    "        # compute power on alpha = 5% and measured effect size\n",
    "        mean = count/(len(m_exang)) - p\n",
    "        se = mean/p_val[i]\n",
    "        n = len(m_exang)+len(exang)\n",
    "        d = mean/se*np.sqrt(n)\n",
    "        c = stats.norm.isf(q=0.05) - d*np.sqrt(n)\n",
    "        power = stats.norm.sf(c)\n",
    "        print(f'power={power}')\n",
    "        break\n",
    "    if m_exang[i] == 0:\n",
    "        del(m_exang[i])    \n",
    "    if exang[i] == 1:\n",
    "        del(exang[i])"
   ]
  },
  {
   "cell_type": "code",
   "execution_count": null,
   "metadata": {},
   "outputs": [],
   "source": [
    "# sex in (data, exang)\n",
    "sex, e_sex = data.sex.values.tolist(), yes.sex.values.tolist()\n",
    "statistic, p_val = [],[]\n",
    "for i in range(len(e_sex)-2):\n",
    "    count = np.sum(e_sex)\n",
    "    p = np.mean(sex)\n",
    "    statistic.append(proportions_ztest(nobs=len(e_sex), count=count, value=p, alternative='larger')[0])\n",
    "    p_val.append(proportions_ztest(nobs=len(e_sex), count=count, value=p, alternative='larger')[1])\n",
    "    if p_val[i] <= 0.05:\n",
    "        print(statistic[i])\n",
    "        print(p_val[i])\n",
    "        print(f'sample1 size={len(e_sex)}, sample2 size={len(sex)}')\n",
    "        # compute power on alpha = 5% and measured effect size\n",
    "        mean = count/(len(e_sex)) - p\n",
    "        se = mean/p_val[i]\n",
    "        n = len(e_sex)+len(sex)\n",
    "        d = mean/se*np.sqrt(n)\n",
    "        c = stats.norm.isf(q=0.05) - d*np.sqrt(n)\n",
    "        power = stats.norm.sf(c)\n",
    "        print(f'power={power}')\n",
    "        break\n",
    "    if e_sex[i] == 0:\n",
    "        del(e_sex[i])    \n",
    "    if sex[i] == 1:\n",
    "        del(sex[i])"
   ]
  },
  {
   "cell_type": "code",
   "execution_count": null,
   "metadata": {},
   "outputs": [],
   "source": [
    "# fbs in (data, disease)\n",
    "fbs, d_fbs = data.fbs.values.tolist(), disease.fbs.values.tolist()\n",
    "statistic, p_val = [],[]\n",
    "for i in range(len(d_fbs)-2):\n",
    "    count = np.sum(d_fbs)\n",
    "    p = np.mean(fbs)\n",
    "    statistic.append(proportions_ztest(nobs=len(d_fbs), count=count, value=p, alternative='larger')[0])\n",
    "    p_val.append(proportions_ztest(nobs=len(d_fbs), count=count, value=p, alternative='larger')[1])\n",
    "    if p_val[i] <= 0.05:\n",
    "        print(p_val[i])\n",
    "        print(f'sample1 size={len(d_fbs)}, sample2 size={len(fbs)}')\n",
    "        # compute power on alpha = 5% and measured effect size\n",
    "        mean = count/(len(d_fbs)) - p\n",
    "        se = mean/p_val[i]\n",
    "        n = len(d_fbs)+len(fbs)\n",
    "        d = mean/se*np.sqrt(n)\n",
    "        c = stats.norm.isf(q=0.05) - d*np.sqrt(n)\n",
    "        power = stats.norm.sf(c)\n",
    "        print(f'power={power}')\n",
    "        break\n",
    "    if d_fbs[i] == 0:\n",
    "        del(d_fbs[i])    \n",
    "    if fbs[i] == 1:\n",
    "        del(fbs[i])"
   ]
  },
  {
   "cell_type": "code",
   "execution_count": null,
   "metadata": {},
   "outputs": [],
   "source": [
    "# fbs in (disease, no disease)\n",
    "n_fbs, d_fbs = no_disease.fbs.values.tolist(), disease.fbs.values.tolist()\n",
    "statistic, p_val = [],[]\n",
    "for i in range(len(d_fbs)-2):\n",
    "    count = np.sum(d_fbs)\n",
    "    p = np.mean(n_fbs)\n",
    "    statistic.append(proportions_ztest(nobs=len(d_fbs), count=count, value=p, alternative='larger')[0])\n",
    "    p_val.append(proportions_ztest(nobs=len(d_fbs), count=count, value=p, alternative='larger')[1])\n",
    "    if p_val[i] <= 0.05:\n",
    "        print(p_val[i])\n",
    "        print(f'sample1 size={len(d_fbs)}, sample2 size={len(n_fbs)}')\n",
    "        # compute power on alpha = 5% and measured effect size\n",
    "        mean = count/(len(d_fbs)) - p\n",
    "        se = mean/p_val[i]\n",
    "        n = len(d_fbs)+len(n_fbs)\n",
    "        d = mean/se*np.sqrt(n)\n",
    "        c = stats.norm.isf(q=0.05) - d*np.sqrt(n)\n",
    "        power = stats.norm.sf(c)\n",
    "        print(f'power={power}')\n",
    "        break\n",
    "    if d_fbs[i] == 0:\n",
    "        del(d_fbs[i])    \n",
    "    if n_fbs[i] == 1:\n",
    "        del(n_fbs[i])\n",
    "print('\\ntest for opposite effect direction: \\n')\n",
    "n_fbs, d_fbs = no_disease.fbs.values.tolist(), disease.fbs.values.tolist()\n",
    "statistic, p_val = [],[]\n",
    "for i in range(len(n_fbs)-2):\n",
    "    count = np.sum(n_fbs)\n",
    "    p = np.mean(d_fbs)\n",
    "    statistic.append(proportions_ztest(nobs=len(n_fbs), count=count, value=p, alternative='larger')[0])\n",
    "    p_val.append(proportions_ztest(nobs=len(n_fbs), count=count, value=p, alternative='larger')[1])\n",
    "    if p_val[i] <= 0.05:\n",
    "        print(p_val[i])\n",
    "        print(f'sample1 size={len(n_fbs)}, sample2 size={len(d_fbs)}')\n",
    "        # compute power on alpha = 5% and measured effect size\n",
    "        mean = count/(len(n_fbs)) - p\n",
    "        se = mean/p_val[i]\n",
    "        n = len(d_fbs)+len(n_fbs)\n",
    "        d = mean/se*np.sqrt(n)\n",
    "        c = stats.norm.isf(q=0.05) - d*np.sqrt(n)\n",
    "        power = stats.norm.sf(c)\n",
    "        print(f'power={power}')\n",
    "        break\n",
    "    if d_fbs[i] == 1:\n",
    "        del(d_fbs[i])    \n",
    "    if n_fbs[i] == 0:\n",
    "        del(n_fbs[i])\n"
   ]
  },
  {
   "cell_type": "code",
   "execution_count": null,
   "metadata": {},
   "outputs": [],
   "source": [
    "# fbs in (male, female)\n",
    "m_fbs, f_fbs = data.fbs.values.tolist(), disease.fbs.values.tolist()\n",
    "statistic, p_val = [],[]\n",
    "for i in range(len(m_fbs)-2):\n",
    "    count = np.sum(m_fbs)\n",
    "    p = np.mean(f_fbs)\n",
    "    statistic.append(proportions_ztest(nobs=len(m_fbs), count=count, value=p, alternative='larger')[0])\n",
    "    p_val.append(proportions_ztest(nobs=len(m_fbs), count=count, value=p, alternative='larger')[1])\n",
    "    if p_val[i] <= 0.05:\n",
    "        print(p_val[i])\n",
    "        print(f'sample1 size={len(m_fbs)}, sample2 size={len(f_fbs)}')\n",
    "        # compute power on alpha = 5% and measured effect size\n",
    "        mean = count/(len(m_fbs)) - p\n",
    "        se = mean/p_val[i]\n",
    "        n = len(m_fbs)+len(f_fbs)\n",
    "        d = mean/se*np.sqrt(n)\n",
    "        c = stats.norm.isf(q=0.05) - d*np.sqrt(n)\n",
    "        power = stats.norm.sf(c)\n",
    "        print(f'power={power}')\n",
    "        break\n",
    "    if m_fbs[i] == 0:\n",
    "        del(m_fbs[i])    \n",
    "    if f_fbs[i] == 1:\n",
    "        del(f_fbs[i])\n",
    "        \n",
    "print('\\ntest for opposite effect direction: \\n')\n",
    "\n",
    "m_fbs, f_fbs = data.fbs.values.tolist(), disease.fbs.values.tolist()\n",
    "statistic, p_val = [],[]\n",
    "for i in range(len(f_fbs)-2):\n",
    "    count = np.sum(f_fbs)\n",
    "    p = np.mean(m_fbs)\n",
    "    statistic.append(proportions_ztest(nobs=len(f_fbs), count=count, value=p, alternative='larger')[0])\n",
    "    p_val.append(proportions_ztest(nobs=len(f_fbs), count=count, value=p, alternative='larger')[1])\n",
    "    if p_val[i] <= 0.05:\n",
    "        print(p_val[i])\n",
    "        print(f'sample1 size={len(f_fbs)}, sample2 size={len(m_fbs)}')\n",
    "        # compute power on alpha = 5% and measured effect size\n",
    "        mean = count/(len(f_fbs)) - p\n",
    "        se = mean/p_val[i]\n",
    "        n = len(f_fbs)+len(m_fbs)\n",
    "        d = mean/se*np.sqrt(n)\n",
    "        c = stats.norm.isf(q=0.05) - d*np.sqrt(n)\n",
    "        power = stats.norm.sf(c)\n",
    "        print(f'power={power}')\n",
    "        break\n",
    "    if m_fbs[i] == 1:\n",
    "        del(m_fbs[i])    \n",
    "    if f_fbs[i] == 0:\n",
    "        del(f_fbs[i])"
   ]
  },
  {
   "cell_type": "code",
   "execution_count": null,
   "metadata": {},
   "outputs": [],
   "source": [
    "# flexible sample size on numerical data: multiple small studies "
   ]
  },
  {
   "cell_type": "code",
   "execution_count": null,
   "metadata": {},
   "outputs": [],
   "source": [
    "sns.pairplot(numer)"
   ]
  },
  {
   "cell_type": "code",
   "execution_count": null,
   "metadata": {},
   "outputs": [],
   "source": [
    "# test for differences between disease and no disease \n",
    "# sample size = 46, ngroups = 3\n",
    "disease = data.query('target == 0') \n",
    "nodisease = data.query('target == 1')\n",
    "disease1, nodisease1 = disease.iloc[0:46], nodisease.iloc[0:55]\n",
    "disease2, nodisease2 = disease.iloc[46:92], nodisease.iloc[55:110]\n",
    "disease3, nodisease3 = disease.iloc[92:138], nodisease.iloc[110:165]"
   ]
  },
  {
   "cell_type": "code",
   "execution_count": null,
   "metadata": {},
   "outputs": [],
   "source": [
    "# age"
   ]
  },
  {
   "cell_type": "code",
   "execution_count": null,
   "metadata": {},
   "outputs": [],
   "source": [
    "sns.histplot(disease1.age, color='navy')\n",
    "sns.histplot(nodisease1.age, color='lightseagreen')"
   ]
  },
  {
   "cell_type": "code",
   "execution_count": null,
   "metadata": {},
   "outputs": [],
   "source": [
    "sns.histplot(disease2.age, color='navy')\n",
    "sns.histplot(nodisease2.age, color='lightseagreen')"
   ]
  },
  {
   "cell_type": "code",
   "execution_count": null,
   "metadata": {},
   "outputs": [],
   "source": [
    "stats.levene(disease.age, nodisease.age)# significant\n",
    "stats.levene(disease1.age, nodisease1.age)# significant\n",
    "stats.levene(disease2.age, nodisease2.age)# insignificant\n",
    "# stats.levene(disease3.age, nodisease3.age)# significant \n",
    "\n",
    "# stats.mannwhitneyu(x=disease.age, y=nodisease.age, alternative='larger') #significant \n",
    "# stats.mannwhitneyu(x=disease1.age, y=nodisease1.age, alternative='largerd') #significant\n",
    "stats.mannwhitneyu(x=disease2.age, y=nodisease2.age, alternative='greater') #significant\n",
    "# stats.mannwhitneyu(x=disease3.age, y=nodisease3.age, alternative='greater') # insignificant in 'two-sided' (significant in 'greater')"
   ]
  },
  {
   "cell_type": "code",
   "execution_count": null,
   "metadata": {},
   "outputs": [],
   "source": [
    "# try to reach equal variance in both groups (sub-set 1)\n",
    "print(disease1.age.std()) # increase std \n",
    "print(nodisease1.age.std()) # decrease std -> del outlier  "
   ]
  },
  {
   "cell_type": "code",
   "execution_count": null,
   "metadata": {},
   "outputs": [],
   "source": [
    "group1, group2 = disease1.age.values.tolist(), nodisease1.age.values.tolist()\n",
    "std = []\n",
    "for i in range(len(group1)):\n",
    "    t = stats.levene(group1, group2)[0]\n",
    "    p = stats.levene(group1, group2)[1]\n",
    "    std.append(np.std(group2))\n",
    "    if p > 0.05:\n",
    "        group2.remove(np.max(group2)) # pushes group2 down, better for later test of mean difference\n",
    "    else:\n",
    "        print(f'statsitic = {t}, p = {p}')\n",
    "        print(len(group2))\n",
    "        break\n",
    "    if len(group2) < 2:\n",
    "        break\n",
    "stats.mannwhitneyu(group1, group2, alternative='greater') # significant"
   ]
  },
  {
   "cell_type": "code",
   "execution_count": null,
   "metadata": {
    "scrolled": true
   },
   "outputs": [],
   "source": [
    "# try to reach equal variance in both groups (sub-set 2)\n",
    "print(disease2.age.std()) # decrease std -> del outlier  \n",
    "print(nodisease2.age.std()) # increase std"
   ]
  },
  {
   "cell_type": "code",
   "execution_count": null,
   "metadata": {},
   "outputs": [],
   "source": [
    "group1, group2 = disease2.age.values.tolist(), nodisease2.age.values.tolist()\n",
    "for i in range(len(group2)):\n",
    "    t = stats.levene(group1, group2)[0]\n",
    "    p = stats.levene(group1, group2)[1]\n",
    "    if p > 0.05:\n",
    "        group1.remove(np.min(group1)) # pushes group1 up, better for later test of mean difference\n",
    "    else:\n",
    "        print(f'statsitic = {t}, p = {p}')\n",
    "        print(len(group1))\n",
    "        break\n",
    "    if len(group1) < 2:\n",
    "        break\n",
    "stats.mannwhitneyu(group1, group2, alternative='greater') # significant"
   ]
  },
  {
   "cell_type": "code",
   "execution_count": null,
   "metadata": {},
   "outputs": [],
   "source": [
    "# oldpeak differences in both group (ST-deppression from exang, relative to rest)"
   ]
  },
  {
   "cell_type": "code",
   "execution_count": null,
   "metadata": {},
   "outputs": [],
   "source": [
    "# assumption violated: normal distribution (see histogram above)\n",
    "# -> non-parametric test for mean differences"
   ]
  },
  {
   "cell_type": "code",
   "execution_count": null,
   "metadata": {},
   "outputs": [],
   "source": [
    "# test assumption: equal variance in both groups  \n",
    "stats.levene(disease1.oldpeak, nodisease1.oldpeak)# significant\n",
    "stats.levene(disease2.oldpeak, nodisease2.oldpeak)# significant\n",
    "stats.levene(disease3.oldpeak, nodisease3.oldpeak)# significant \n",
    "stats.levene(disease.oldpeak, nodisease.oldpeak)# significant"
   ]
  },
  {
   "cell_type": "code",
   "execution_count": null,
   "metadata": {},
   "outputs": [],
   "source": [
    "# -> assumption satisfied: equal variance\n",
    "stats.mannwhitneyu(x=disease.oldpeak, y=nodisease.oldpeak, alternative='greater') #significant \n",
    "stats.mannwhitneyu(x=disease1.oldpeak, y=nodisease1.oldpeak, alternative='greater') #significant\n",
    "stats.mannwhitneyu(x=disease2.oldpeak, y=nodisease2.oldpeak, alternative='greater') #significant\n",
    "stats.mannwhitneyu(x=disease3.oldpeak, y=nodisease3.oldpeak, alternative='greater') #significant"
   ]
  },
  {
   "cell_type": "code",
   "execution_count": null,
   "metadata": {},
   "outputs": [],
   "source": [
    "sns.histplot(data.oldpeak)"
   ]
  },
  {
   "cell_type": "code",
   "execution_count": null,
   "metadata": {},
   "outputs": [],
   "source": [
    "with sns.axes_style('darkgrid'):\n",
    "    g = sns.histplot(data=data, x='oldpeak', hue='target', palette=['orangered','lightseagreen'])\n",
    "    g.set(ylabel='absolute frequency', xlabel='ST depression induced by exercise (oldpeak) in mm')\n",
    "plt.savefig(r'C:\\Users\\phili\\OneDrive\\Dokumente_One Drive\\KIT\\Bachelorarbeit\\plots\\chapter6\\plot2.png')"
   ]
  },
  {
   "cell_type": "code",
   "execution_count": null,
   "metadata": {},
   "outputs": [],
   "source": [
    "sns.histplot(nodisease1.oldpeak, color='orange')\n",
    "sns.histplot(disease1.oldpeak, color='blue')\n",
    "print(nodisease1.oldpeak.std())\n",
    "print(disease1.oldpeak.std())"
   ]
  },
  {
   "cell_type": "code",
   "execution_count": null,
   "metadata": {},
   "outputs": [],
   "source": [
    "sns.histplot(nodisease2.oldpeak, color='orange')\n",
    "sns.histplot(disease2.oldpeak, color='blue')\n",
    "print(nodisease2.oldpeak.std())\n",
    "print(disease2.oldpeak.std())"
   ]
  },
  {
   "cell_type": "code",
   "execution_count": null,
   "metadata": {},
   "outputs": [],
   "source": [
    "sns.histplot(nodisease3.oldpeak, color='orange')\n",
    "sns.histplot(disease3.oldpeak, color='blue')\n",
    "print(nodisease3.oldpeak.std())\n",
    "print(disease3.oldpeak.std())"
   ]
  },
  {
   "cell_type": "code",
   "execution_count": null,
   "metadata": {},
   "outputs": [],
   "source": [
    "group1 = disease1.oldpeak.values.tolist()\n",
    "group2 = disease2.oldpeak.values.tolist()\n",
    "group3 = disease3.oldpeak.values.tolist()\n",
    "print(len(group1))\n",
    "print(len(group2))\n",
    "print(len(group3))\n",
    "for i in range(len(data)):\n",
    "    p1 = stats.levene(group1, nodisease1.oldpeak)[1]\n",
    "    p2 = stats.levene(group2, nodisease2.oldpeak)[1]\n",
    "    p3 = stats.levene(group3, nodisease3.oldpeak)[1]\n",
    "    if p1 > 0.05:\n",
    "        print('group1 is insignificant')\n",
    "        print(stats.levene(group1, nodisease1.oldpeak))\n",
    "        print(stats.mannwhitneyu(x=group1, y=nodisease1.oldpeak))\n",
    "        print(len(group1))\n",
    "    if p2 > 0.05:\n",
    "        print('group2 is insignificant')\n",
    "        print(stats.levene(group2, nodisease2.oldpeak))\n",
    "        print(stats.mannwhitneyu(x=group2, y=nodisease2.oldpeak))\n",
    "        print(len(group2))\n",
    "    if p3 > 0.05:\n",
    "        print('group3 is insignificant')\n",
    "        print(stats.levene(group3, nodisease3.oldpeak))\n",
    "        print(stats.mannwhitneyu(x=group3, y=nodisease3.oldpeak))\n",
    "        print(len(group3))\n",
    "    if p1 > 0.05 and p2 > 0.05 and p3 > 0.05:\n",
    "        print(f'{stats.levene(group1, nodisease1.oldpeak)}, on sample size={len(group1)}')\n",
    "        print(f'{stats.levene(group2, nodisease2.oldpeak)}, on sample size={len(group2)}')\n",
    "        print(f'{stats.levene(group3, nodisease3.oldpeak)}, on sample size={len(group3)}')\n",
    "        break\n",
    "    else:\n",
    "        group1.remove(np.min(group1))\n",
    "        group2.remove(np.min(group2))\n",
    "        group3.remove(np.min(group3))"
   ]
  },
  {
   "cell_type": "code",
   "execution_count": null,
   "metadata": {},
   "outputs": [],
   "source": [
    "# examplary study results\n",
    "# prove relationship between sex and chol\n",
    "# (false) inference: women eat more fast food "
   ]
  },
  {
   "cell_type": "code",
   "execution_count": null,
   "metadata": {},
   "outputs": [],
   "source": [
    "sns.relplot(data=data, x='sex', y='chol')"
   ]
  },
  {
   "cell_type": "code",
   "execution_count": null,
   "metadata": {},
   "outputs": [],
   "source": [
    "data_female = data.query('sex==0')\n",
    "data_male = data.query('sex==1')\n",
    "mean_m = data_male.chol.mean()\n",
    "std_m = data_male.chol.std()\n",
    "mean_f = data_female.chol.mean()\n",
    "std_f = data_female.chol.std()\n",
    "n_f = len(data_female)\n",
    "n_m = len(data_male)\n",
    "pooled_sd = np.sqrt(((n_f-1)*std_f**2+(n_m-1)*std_m**2)/(n_f+n_m-2))\n",
    "std_f, std_m # equal_va = False -> Welch's test"
   ]
  },
  {
   "cell_type": "code",
   "execution_count": null,
   "metadata": {},
   "outputs": [],
   "source": [
    "print([len(data_female),len(data_male)])\n",
    "print([mean_f, mean_m])\n",
    "ttest_ind(x1=data_female.chol,x2=data_male.chol, usevar = 'unequal', alternative='larger')"
   ]
  },
  {
   "cell_type": "code",
   "execution_count": null,
   "metadata": {},
   "outputs": [],
   "source": [
    "# controlling for all numeric variables \n",
    "print([data_female.age.median(), data_male.age.median()])\n",
    "print([data_female.age.std(),data_male.age.std()])\n",
    "ttest_ind(x1=data_female.age, x2=data_male.age, alternative='two-sided')# insignificant"
   ]
  },
  {
   "cell_type": "code",
   "execution_count": null,
   "metadata": {},
   "outputs": [],
   "source": [
    "print([data_female.trestbps.mean(), data_male.trestbps.mean()])\n",
    "print([data_female.trestbps.std(),data_male.trestbps.std()])\n",
    "ttest_ind(x1=data_female.trestbps, x2=data_male.trestbps, alternative='two-sided')# insignificant"
   ]
  },
  {
   "cell_type": "code",
   "execution_count": null,
   "metadata": {},
   "outputs": [],
   "source": [
    "# 95% confidence interval\n",
    "effect = mean_f-mean_m\n",
    "se = pooled_sd/np.sqrt(n_f+n_m)\n",
    "l_bound = stats.norm.ppf(loc=effect, scale=se, q=0.025)\n",
    "u_bound = stats.norm.ppf(loc=effect, scale=se, q=0.975)\n",
    "conf = 0.975-0.025\n",
    "conf"
   ]
  },
  {
   "cell_type": "code",
   "execution_count": null,
   "metadata": {},
   "outputs": [],
   "source": [
    "print([l_bound, effect, u_bound])\n",
    "print([effect-l_bound, effect+u_bound])"
   ]
  },
  {
   "cell_type": "code",
   "execution_count": null,
   "metadata": {},
   "outputs": [],
   "source": [
    "# prove relationship between exang and target\n",
    "# control for age"
   ]
  },
  {
   "cell_type": "code",
   "execution_count": null,
   "metadata": {},
   "outputs": [],
   "source": [
    "treatment, control = data.query('exang==1'), data.query('exang==0')\n",
    "mean_treatment = len(treatment.query('target==0'))\n",
    "mean_control = len(control.query('target==0'))\n",
    "mean_treatment, mean_control # >5"
   ]
  },
  {
   "cell_type": "code",
   "execution_count": null,
   "metadata": {
    "scrolled": true
   },
   "outputs": [],
   "source": [
    "ztest(disease.age, nodisease.age)"
   ]
  },
  {
   "cell_type": "code",
   "execution_count": null,
   "metadata": {},
   "outputs": [],
   "source": [
    "# show relationship between angina and target \n",
    "prop1 = mean_treatment/len(treatment)\n",
    "prop2 = mean_control/len(control)\n",
    "result = proportions_ztest(nobs=len(treatment), count=mean_treatment, value=prop2) # significant \n",
    "result"
   ]
  },
  {
   "cell_type": "code",
   "execution_count": null,
   "metadata": {},
   "outputs": [],
   "source": [
    "# control for age\n",
    "# step1: levene test for equal group variance\n",
    "stats.levene(treatment.age, control.age) # significant"
   ]
  },
  {
   "cell_type": "code",
   "execution_count": null,
   "metadata": {},
   "outputs": [],
   "source": [
    "sns.histplot(treatment.age, color='navy')\n",
    "sns.histplot(control.age, color='lightseagreen')\n",
    "print(len(treatment))\n",
    "print(len(control))\n",
    "treatment.age.std(), control.age.std()"
   ]
  },
  {
   "cell_type": "code",
   "execution_count": null,
   "metadata": {},
   "outputs": [],
   "source": [
    "# delete min and max from control.age to lower std and keep mean stable \n",
    "control = data.query('exang==0') # assuring no data loss!\n",
    "p = stats.levene(treatment.age, control.age)[1]\n",
    "print(f'p before:{p}')\n",
    "while p <= 0.05:\n",
    "    control = control.drop(control.age.idxmax())\n",
    "    control = control.drop(control.age.idxmin())\n",
    "    p = stats.levene(treatment.age, control.age)[1]\n",
    "    print(p)\n",
    "print(f'p after deleting {204-len(control)} outliers: {p}')"
   ]
  },
  {
   "cell_type": "code",
   "execution_count": null,
   "metadata": {},
   "outputs": [],
   "source": [
    "# step2: U-test for mean difference in both groups \n",
    "stats.mannwhitneyu(treatment.age, control.age) # insignificant"
   ]
  },
  {
   "cell_type": "code",
   "execution_count": null,
   "metadata": {},
   "outputs": [],
   "source": [
    "# repeat main test on cropped data\n",
    "print(len(control)) # still cropped \n",
    "mean_treatment = len(treatment.query('target==0'))\n",
    "mean_control = len(control.query('target==0'))\n",
    "mean_treatment, mean_control # >5"
   ]
  },
  {
   "cell_type": "code",
   "execution_count": null,
   "metadata": {},
   "outputs": [],
   "source": [
    "prop1 = mean_treatment/len(treatment)\n",
    "prop2 = mean_control/len(control)\n",
    "new_result = proportions_ztest(nobs=len(treatment), count=mean_treatment, value=prop2) # significant \n",
    "print(new_result)\n",
    "result[1]-new_result[1]# no change in p-values "
   ]
  },
  {
   "cell_type": "code",
   "execution_count": null,
   "metadata": {},
   "outputs": [],
   "source": [
    "'Regional outcomes of severe acute respiratory syndrome coronavirus 2 infection on hospitalized patients with haematological malignancy'"
   ]
  },
  {
   "cell_type": "code",
   "execution_count": null,
   "metadata": {},
   "outputs": [],
   "source": [
    "# check age for normality\n",
    "age = [1,1,\n",
    "       2,2,2,2,2,2,2,2,2,2,\n",
    "       3,3,3,3,3,3,3,3,3,3,3,3,\n",
    "       4,4,4,4,4,4,4,4,4,4,4,4,4,4,4,4,4,4,4,4,4,4,4,\n",
    "       5,5,5,5,5,5,5,5,5,5,5,5,5,5,5,5,5,5,5]\n",
    "group = [1,1,1,1,1,0,0,0,1,1,1,1,0,0,0,0,1,1,1,1,0,1,1,1,1,1, # treatment=1, control=0\n",
    "        1,1,1,1,1,0,0,0,0,0,1,1,0,0,0,0,0,0,0,0,0,1,1,1,1,1,1,\n",
    "        1,1,1,1,1,1,0,0,0,0,0,0,0]\n",
    "sars_data = pd.DataFrame(data=[age,group], index=['age', 'group']).transpose()\n",
    "stats.shapiro(age)# significant\n",
    "stats.normaltest(age)# insignificant\n",
    "stats.kstest(rvs=age, cdf='norm')# significant "
   ]
  },
  {
   "cell_type": "code",
   "execution_count": null,
   "metadata": {},
   "outputs": [],
   "source": [
    "# attempt to replicate the controlling for age"
   ]
  },
  {
   "cell_type": "code",
   "execution_count": null,
   "metadata": {},
   "outputs": [],
   "source": [
    "# H0: pFCR in treatment > pFCR in control\n",
    "# treatment: immunoyuppressive or cytotoxic medication\n",
    "# controlling for age: employed method is not stated in the study "
   ]
  },
  {
   "cell_type": "code",
   "execution_count": null,
   "metadata": {},
   "outputs": [],
   "source": [
    "# non-parametric test \n",
    "# assumption: equal variance \n",
    "stats.levene(sars_data.query('group==1').age, sars_data.query('group==0').age) # significant\n",
    "# mean difference in age between treatment and control\n",
    "stats.mannwhitneyu(x=sars_data.query('group==1').age, y=sars_data.query('group==0').age) # insignificant "
   ]
  },
  {
   "cell_type": "code",
   "execution_count": null,
   "metadata": {},
   "outputs": [],
   "source": [
    "# parametric test\n",
    "# mean difference in age between tratement and control\n",
    "stats.ttest_ind(a=sars_data.query('group==1').age, b=sars_data.query('group==0').age) # insignficant \n",
    "ztest(x1=sars_data.query('group==1').age, x2=sars_data.query('group==0').age) # insignificant"
   ]
  }
 ],
 "metadata": {
  "kernelspec": {
   "display_name": "Python 3",
   "language": "python",
   "name": "python3"
  },
  "language_info": {
   "codemirror_mode": {
    "name": "ipython",
    "version": 3
   },
   "file_extension": ".py",
   "mimetype": "text/x-python",
   "name": "python",
   "nbconvert_exporter": "python",
   "pygments_lexer": "ipython3",
   "version": "3.7.6"
  }
 },
 "nbformat": 4,
 "nbformat_minor": 4
}
