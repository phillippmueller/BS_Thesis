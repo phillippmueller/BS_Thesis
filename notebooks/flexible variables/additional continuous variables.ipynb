{
 "cells": [
  {
   "cell_type": "code",
   "execution_count": null,
   "metadata": {},
   "outputs": [],
   "source": [
    "import numpy as np\n",
    "import pandas as pd\n",
    "import seaborn as sns\n",
    "import scipy.stats as stats\n",
    "import matplotlib.pyplot as plt\n",
    "import matplotlib.ticker as ticker\n",
    "from itertools import combinations "
   ]
  },
  {
   "cell_type": "code",
   "execution_count": null,
   "metadata": {},
   "outputs": [],
   "source": [
    "nobs = 30\n",
    "nvar = 20\n",
    "nsim = 1000"
   ]
  },
  {
   "cell_type": "code",
   "execution_count": null,
   "metadata": {},
   "outputs": [],
   "source": [
    "denom_res = np.array([[0.0]*nvar]*nsim)\n",
    "numer_res = np.array([[0.0]*nvar]*nsim)\n",
    "prob_res = np.array([[0.0]*nvar]*nsim)\n",
    "for a in range(nsim):\n",
    "    df,columns = pd.DataFrame(np.random.normal(loc=0,scale=2,size=nobs)),[0]\n",
    "    denom, numer = [],[] \n",
    "    for i in range(nvar):\n",
    "        columns.append(i+1)\n",
    "        df.insert(loc=i+1,column=i+1,value=np.random.normal(loc=0,scale=2,size=nobs))\n",
    "        df.columns=columns\n",
    "        tuples = list(combinations(columns,2))\n",
    "        denom.append(len(tuples))\n",
    "        count = []\n",
    "        for j in range(len(tuples)):\n",
    "            sample = tuples[j]\n",
    "            result = (stats.pearsonr(x=df[sample[0]],y=df[sample[1]]))[1] # correlation test\n",
    "#             result = stats.ttest_rel(a=df[sample[0]],b=df[sample[1]])[1] # mean difference test\n",
    "            if result <= 0.05:\n",
    "                count.append(1)\n",
    "            else:\n",
    "                count.append(0)\n",
    "        numer.append(np.sum(count))\n",
    "    denom_res[a,:], numer_res[a,:], prob_res[a,:] = denom, numer, [numer[z]/denom[z] for z in range(len(numer))]\n"
   ]
  },
  {
   "cell_type": "code",
   "execution_count": null,
   "metadata": {},
   "outputs": [],
   "source": [
    "result_df = pd.DataFrame([\n",
    "    [np.mean(prob_res[:,i]) for i in range(nvar)],\n",
    "    [np.mean(numer_res[:,i]) for i in range(nvar)],\n",
    "    [np.mean(denom_res[:,i]) for i in range(nvar)]],\n",
    "    index=['probability','hit_count','trial_count']).transpose()"
   ]
  },
  {
   "cell_type": "code",
   "execution_count": null,
   "metadata": {},
   "outputs": [],
   "source": [
    "nobs = 200\n",
    "nvar = 20\n",
    "nsim = 1000"
   ]
  },
  {
   "cell_type": "code",
   "execution_count": null,
   "metadata": {},
   "outputs": [],
   "source": [
    "denom_res = np.array([[0.0]*nvar]*nsim)\n",
    "numer_res = np.array([[0.0]*nvar]*nsim)\n",
    "prob_res = np.array([[0.0]*nvar]*nsim)\n",
    "for a in range(nsim):\n",
    "    df,columns = pd.DataFrame(np.random.normal(loc=0,scale=2,size=nobs)),[0]\n",
    "    denom, numer = [],[] \n",
    "    for i in range(nvar):\n",
    "        columns.append(i+1)\n",
    "        df.insert(loc=i+1,column=i+1,value=np.random.normal(loc=0,scale=2,size=nobs))\n",
    "        df.columns=columns\n",
    "        tuples = list(combinations(columns,2))\n",
    "        denom.append(len(tuples))\n",
    "        count = []\n",
    "        for j in range(len(tuples)):\n",
    "            sample = tuples[j]\n",
    "            result = (stats.pearsonr(x=df[sample[0]],y=df[sample[1]]))[1] # correlation test\n",
    "#             result = stats.ttest_rel(a=df[sample[0]],b=df[sample[1]])[1] # mean difference test\n",
    "            if result <= 0.05:\n",
    "                count.append(1)\n",
    "            else:\n",
    "                count.append(0)\n",
    "        numer.append(np.sum(count))\n",
    "    denom_res[a,:], numer_res[a,:], prob_res[a,:] = denom, numer, [numer[z]/denom[z] for z in range(len(numer))]\n"
   ]
  },
  {
   "cell_type": "code",
   "execution_count": null,
   "metadata": {},
   "outputs": [],
   "source": [
    "second_result_df = pd.DataFrame([\n",
    "    [np.mean(prob_res[:,i]) for i in range(nvar)],\n",
    "    [np.mean(numer_res[:,i]) for i in range(nvar)],\n",
    "    [np.mean(denom_res[:,i]) for i in range(nvar)]],\n",
    "    index=['probability','hit_count','trial_count']).transpose()"
   ]
  },
  {
   "cell_type": "code",
   "execution_count": null,
   "metadata": {},
   "outputs": [],
   "source": [
    "# mean values:\n",
    "\n",
    "# saving ttest results as csv\n",
    "# result_df.to_csv(r'C:\\Users\\phili\\OneDrive\\Dokumente_One Drive\\KIT\\Bachelorarbeit\\data\\added_nobs30_ttest.csv')\n",
    "# second_result_df.to_csv(r'C:\\Users\\phili\\OneDrive\\Dokumente_One Drive\\KIT\\Bachelorarbeit\\data\\added_nobs200_ttest.csv')\n",
    "\n",
    "# saving correlation test results as csv\n",
    "result_df.to_csv(r'C:\\Users\\phili\\OneDrive\\Dokumente_One Drive\\KIT\\Bachelorarbeit\\data\\added_nobs30_rtest.csv')\n",
    "second_result_df.to_csv(r'C:\\Users\\phili\\OneDrive\\Dokumente_One Drive\\KIT\\Bachelorarbeit\\data\\added_nobs200_rtest.csv')"
   ]
  },
  {
   "cell_type": "code",
   "execution_count": null,
   "metadata": {},
   "outputs": [],
   "source": [
    "df_30r = pd.read_csv(r'C:\\Users\\phili\\OneDrive\\Dokumente_One Drive\\KIT\\Bachelorarbeit\\data\\added_nobs30_rtest.csv')\n",
    "df_200r = pd.read_csv(r'C:\\Users\\phili\\OneDrive\\Dokumente_One Drive\\KIT\\Bachelorarbeit\\data\\added_nobs200_rtest.csv')\n",
    "df_30t = pd.read_csv(r'C:\\Users\\phili\\OneDrive\\Dokumente_One Drive\\KIT\\Bachelorarbeit\\data\\added_nobs30_ttest.csv')\n",
    "df_200t = pd.read_csv(r'C:\\Users\\phili\\OneDrive\\Dokumente_One Drive\\KIT\\Bachelorarbeit\\data\\added_nobs200_ttest.csv')"
   ]
  },
  {
   "cell_type": "code",
   "execution_count": null,
   "metadata": {},
   "outputs": [],
   "source": [
    "x = np.arange(2,22)\n",
    "with sns.axes_style('darkgrid'):\n",
    "    ax = sns.lineplot(x=x, y=df_30r.hit_count, color='darkcyan', label='correlation test, nobs=30')\n",
    "    sns.lineplot(x=x, y=df_200r.hit_count, color='darkturquoise', label='correlation test, nobs=200')\n",
    "    sns.lineplot(x=x, y=df_30t.hit_count, color='firebrick', label='t-test nobs=30')\n",
    "    sns.lineplot(x=x, y=df_200t.hit_count, color='orangered', label='t-test nobs=200')\n",
    "    ax.set(xlim=(2,10), ylim=(0,3), xlabel='number of variables', ylabel='number of significant findings')\n",
    "plt.savefig(r'C:\\Users\\phili\\OneDrive\\Dokumente_One Drive\\KIT\\Bachelorarbeit\\plots\\chapter4\\plot2.png')"
   ]
  },
  {
   "cell_type": "code",
   "execution_count": null,
   "metadata": {},
   "outputs": [],
   "source": [
    "with sns.axes_style('darkgrid'):\n",
    "    ax = sns.lineplot(x=x, y=df_30r.probability, color='darkcyan', label='correlation test, nobs=30')\n",
    "    sns.lineplot(x=x, y=df_200r.probability, color='darkturquoise', label='correlation test, nobs=200')\n",
    "    sns.lineplot(x=x, y=df_30t.probability, color='firebrick', label='t-test nobs=30')\n",
    "    sns.lineplot(x=x, y=df_200t.probability, color='orangered', label='t-test nobs=200')\n",
    "    ax.set(xlim=(2,21),ylim=(0,0.1),xlabel='number of variables', ylabel='percentage of significant findings')\n",
    "    ax.xaxis.set_major_locator(ticker.MultipleLocator(2))\n",
    "plt.savefig(r'C:\\Users\\phili\\OneDrive\\Dokumente_One Drive\\KIT\\Bachelorarbeit\\plots\\chapter4\\plot1.png')"
   ]
  }
 ],
 "metadata": {
  "kernelspec": {
   "display_name": "Python 3",
   "language": "python",
   "name": "python3"
  },
  "language_info": {
   "codemirror_mode": {
    "name": "ipython",
    "version": 3
   },
   "file_extension": ".py",
   "mimetype": "text/x-python",
   "name": "python",
   "nbconvert_exporter": "python",
   "pygments_lexer": "ipython3",
   "version": "3.7.6"
  }
 },
 "nbformat": 4,
 "nbformat_minor": 4
}
