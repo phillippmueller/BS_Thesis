{
 "cells": [
  {
   "cell_type": "code",
   "execution_count": null,
   "metadata": {},
   "outputs": [],
   "source": [
    "import numpy as np\n",
    "import pandas as pd\n",
    "import seaborn as sns\n",
    "import scipy.stats as stats\n",
    "import matplotlib.pyplot as plt\n",
    "import matplotlib.ticker as ticker"
   ]
  },
  {
   "cell_type": "code",
   "execution_count": null,
   "metadata": {},
   "outputs": [],
   "source": [
    "nobs = 120 # number of observations\n",
    "nsim = 100 # number of simulations \n",
    "max_man = 20 # maximum number of additionally measured manipulated variables (categorical)"
   ]
  },
  {
   "cell_type": "code",
   "execution_count": null,
   "metadata": {},
   "outputs": [],
   "source": [
    "# ANOVA: all conditions differ at once\n",
    "denom_res = np.array([[0.0]*max_man]*nsim)\n",
    "numer_res = np.array([[0.0]*max_man]*nsim)\n",
    "prob_res = np.array([[0.0]*max_man]*nsim)\n",
    "numer = []\n",
    "for a in range(nsim):\n",
    "    data = np.random.normal(loc=0, scale=1, size=nobs)\n",
    "    hit, trial = 0, 0\n",
    "    numer, denom = [],[]\n",
    "    for i in range(max_man):\n",
    "        man_var = np.round(np.random.randint(low=0,high=4,size=nobs),1) # manipulated variable\n",
    "        df = pd.DataFrame([data,man_var], index=['data', 'conditions']).transpose()\n",
    "        result = stats.f_oneway(df.query('conditions==0').data,df.query('conditions==1').data,\n",
    "                               df.query('conditions==2').data, df.query('conditions==3').data,)\n",
    "        if result[1] <= 0.05:\n",
    "            hit += 1\n",
    "        trial += 1\n",
    "        numer.append(hit)\n",
    "        denom.append(trial)\n",
    "    denom_res[a,:], numer_res[a,:], prob_res[a,:] = denom, numer, [numer[z]/denom[z] for z in range(len(numer))]"
   ]
  },
  {
   "cell_type": "code",
   "execution_count": null,
   "metadata": {},
   "outputs": [],
   "source": [
    "ANOVA_df = pd.DataFrame([\n",
    "    [np.mean(prob_res[:,i]) for i in range(max_man)],\n",
    "    [np.mean(numer_res[:,i]) for i in range(max_man)],\n",
    "    [np.mean(denom_res[:,i]) for i in range(max_man)]],\n",
    "    index=['probability','hit_count','trial_count']).transpose()"
   ]
  },
  {
   "cell_type": "code",
   "execution_count": null,
   "metadata": {},
   "outputs": [],
   "source": [
    "# t-test: detect each single mean difference \n",
    "denom_res = np.array([[0.0]*max_man]*nsim)\n",
    "numer_res = np.array([[0.0]*max_man]*nsim)\n",
    "prob_res = np.array([[0.0]*max_man]*nsim)\n",
    "\n",
    "for a in range(nsim):\n",
    "    hit,trial = 0,0\n",
    "    numer, denom = [],[]\n",
    "    data = np.random.normal(loc=0, scale=1, size=nobs)\n",
    "    for i in range(max_man):\n",
    "        man_var = np.round(np.random.randint(low=0,high=4,size=nobs),1) # manipulated variable\n",
    "        df = pd.DataFrame([data,man_var], index=['data', 'condition']).transpose()\n",
    "        result1 = stats.ttest_ind(a=df.query('condition==0').data, b=df.query('condition==1').data)[1]\n",
    "        if result1 <= 0.05:\n",
    "            hit += 1\n",
    "        result2 = stats.ttest_ind(a=df.query('condition==0').data, b=df.query('condition==2').data)[1]\n",
    "        if result2 <= 0.05:\n",
    "            hit += 1\n",
    "        result3 = stats.ttest_ind(a=df.query('condition==0').data, b=df.query('condition==3').data)[1]\n",
    "        if result3 <= 0.05:\n",
    "            hit += 1\n",
    "        result4 = stats.ttest_ind(a=df.query('condition==1').data, b=df.query('condition==2').data)[1]\n",
    "        if result4 <= 0.05:\n",
    "            hit += 1\n",
    "        result5 = stats.ttest_ind(a=df.query('condition==1').data, b=df.query('condition==3').data)[1]\n",
    "        if result5 <= 0.05:\n",
    "            hit += 1\n",
    "        result6 = stats.ttest_ind(a=df.query('condition==2').data, b=df.query('condition==3').data)[1]\n",
    "        if result6 <= 0.05:\n",
    "            hit += 1\n",
    "        trial += 6\n",
    "        numer.append(hit)\n",
    "        denom.append(trial)\n",
    "    denom_res[a,:], numer_res[a,:], prob_res[a,:] = denom, numer, [numer[z]/denom[z] for z in range(len(numer))]\n"
   ]
  },
  {
   "cell_type": "code",
   "execution_count": null,
   "metadata": {},
   "outputs": [],
   "source": [
    "t_df = pd.DataFrame([\n",
    "    [np.mean(prob_res[:,i]) for i in range(max_man)],\n",
    "    [np.mean(numer_res[:,i]) for i in range(max_man)],\n",
    "    [np.mean(denom_res[:,i]) for i in range(max_man)]],\n",
    "    index=['probability','hit_count','trial_count']).transpose()"
   ]
  },
  {
   "cell_type": "code",
   "execution_count": null,
   "metadata": {},
   "outputs": [],
   "source": [
    "with sns.axes_style('darkgrid'):\n",
    "    plt.plot(t_df.probability)\n",
    "    plt.plot(ANOVA_df.probability)"
   ]
  },
  {
   "cell_type": "code",
   "execution_count": null,
   "metadata": {},
   "outputs": [],
   "source": [
    "with sns.axes_style('darkgrid'):\n",
    "    plt.plot(t_df.hit_count)\n",
    "    plt.plot(ANOVA_df.hit_count)"
   ]
  },
  {
   "cell_type": "code",
   "execution_count": null,
   "metadata": {},
   "outputs": [],
   "source": [
    "with sns.axes_style('darkgrid'):\n",
    "    plt.plot(t_df.trial_count)\n",
    "    plt.plot(ANOVA_df.trial_count)"
   ]
  },
  {
   "cell_type": "code",
   "execution_count": null,
   "metadata": {},
   "outputs": [],
   "source": [
    "# import dataframes from additional continuous variables \n",
    "df_30r = pd.read_csv(r'C:\\Users\\phili\\OneDrive\\Dokumente_One Drive\\KIT\\Bachelorarbeit\\data\\added_nobs30_rtest.csv')\n",
    "df_200r = pd.read_csv(r'C:\\Users\\phili\\OneDrive\\Dokumente_One Drive\\KIT\\Bachelorarbeit\\data\\added_nobs200_rtest.csv')\n",
    "df_30t = pd.read_csv(r'C:\\Users\\phili\\OneDrive\\Dokumente_One Drive\\KIT\\Bachelorarbeit\\data\\added_nobs30_ttest.csv')\n",
    "df_200t = pd.read_csv(r'C:\\Users\\phili\\OneDrive\\Dokumente_One Drive\\KIT\\Bachelorarbeit\\data\\added_nobs200_ttest.csv')"
   ]
  },
  {
   "cell_type": "code",
   "execution_count": null,
   "metadata": {},
   "outputs": [],
   "source": [
    "x = np.arange(1,21)\n",
    "with sns.axes_style('darkgrid'):\n",
    "    ax = sns.lineplot(x=x, y=df_30r.hit_count, color='darkturquoise', label='continuous variable, correlation test')\n",
    "    sns.lineplot(x=x, y=df_30t.hit_count, color='darkcyan', label='continuous variable, t-test')\n",
    "    sns.lineplot(x=x, y=ANOVA_df.hit_count, color='orangered', label='categorical variable, ANOVA')\n",
    "    sns.lineplot(x=x, y=t_df.hit_count, color='firebrick', label='categorical variable, t-test')\n",
    "    ax.xaxis.set_major_locator(ticker.MultipleLocator(1))\n",
    "    ax.yaxis.set_major_locator(ticker.MultipleLocator(1))\n",
    "    ax.set(xlim=(1,20),xlabel='number of independent variables',ylabel='number of positive findings')\n",
    "plt.savefig(r'C:\\Users\\phili\\OneDrive\\Dokumente_One Drive\\KIT\\Bachelorarbeit\\plots\\chapter4\\plot3')"
   ]
  },
  {
   "cell_type": "code",
   "execution_count": null,
   "metadata": {},
   "outputs": [],
   "source": [
    "with sns.axes_style('darkgrid'):\n",
    "    ax = sns.lineplot(x=x, y=df_30r.probability, color='darkturquoise', label='continuouse variable, correlation test')\n",
    "    sns.lineplot(x=x, y=df_30t.probability, color='darkcyan', label='continuous variable, t-test')\n",
    "    sns.lineplot(x=x, y=ANOVA_df.probability, color='orangered', label='categorical variable ANOVA')\n",
    "    sns.lineplot(x=x, y=t_df.probability, color='firebrick', label='categorical variable, t-test')    \n",
    "    ax.xaxis.set_major_locator(ticker.MultipleLocator(1))\n",
    "    ax.set(xlim=(1,20),xlabel='number of independent variables',ylabel='probaiblity of positive finding')"
   ]
  }
 ],
 "metadata": {
  "kernelspec": {
   "display_name": "Python 3",
   "language": "python",
   "name": "python3"
  },
  "language_info": {
   "codemirror_mode": {
    "name": "ipython",
    "version": 3
   },
   "file_extension": ".py",
   "mimetype": "text/x-python",
   "name": "python",
   "nbconvert_exporter": "python",
   "pygments_lexer": "ipython3",
   "version": "3.7.6"
  }
 },
 "nbformat": 4,
 "nbformat_minor": 4
}
