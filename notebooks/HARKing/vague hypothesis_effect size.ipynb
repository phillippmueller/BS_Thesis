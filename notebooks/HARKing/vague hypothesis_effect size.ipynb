{
 "cells": [
  {
   "cell_type": "code",
   "execution_count": null,
   "metadata": {},
   "outputs": [],
   "source": [
    "import pandas as pd\n",
    "import numpy as np\n",
    "import scipy.stats as stats\n",
    "import sys\n",
    "import seaborn as sns\n",
    "import matplotlib.pyplot as plt\n",
    "\n",
    "np.set_printoptions(threshold=sys.maxsize)\n",
    "np.random.seed(0)\n",
    "\n",
    "mu = 0\n",
    "sigma = 1\n",
    "exp_effect = np.round(np.arange(-1, 1.01, 0.01),2)\n",
    "# exp_effect = [0.1]\n",
    "sample_size = np.round(np.arange(1,101,1))\n",
    "# sample_size = [100]\n",
    "n = 1000 # n iterations over each effect size \n",
    "upper_one = stats.norm.ppf(q = 0.95)\n",
    "upper_two = stats.norm.ppf(q = 0.975)\n",
    "\n",
    "#create matrices to contain T:test statistics, Decision_one, Decision_two: test decisions for one- and two-sided tests, respectively\n",
    "T = np.array([[[0.0]*n]*len(exp_effect)] * len(sample_size)) \n",
    "Decision_one = np.array([[[0]*n]*len(exp_effect)] * len(sample_size)) \n",
    "Decision_two = np.array([[[0]*n]*len(exp_effect)] * len(sample_size))"
   ]
  },
  {
   "cell_type": "code",
   "execution_count": null,
   "metadata": {},
   "outputs": [],
   "source": [
    "# columns: increase effect size (mu-mean)\n",
    "# hues: increase sample size\n",
    "# rows: repeat 10 times, on random data \n",
    "\n",
    "for j in range(0, len(exp_effect)):\n",
    "    for k in range(0, len(sample_size)):\n",
    "        for i in range(0,n):       \n",
    "            sample = np.random.normal(loc=exp_effect[j], size=sample_size[k], scale=sigma)\n",
    "            T[k,j,i] = (((np.mean(sample) - mu)/sigma)*np.sqrt(sample_size[k])).astype(float)\n",
    "            # positive = 1, negative = 0\n",
    "            if(T[k,j,i] < upper_one):\n",
    "                Decision_one[k,j,i] = 0\n",
    "            else:\n",
    "                Decision_one[k,j,i] = 1\n",
    "            if (T[k,j,i] < upper_two):\n",
    "                Decision_two[k,j,i] = 0\n",
    "            else:\n",
    "                Decision_two[k,j,i] = 1   "
   ]
  },
  {
   "cell_type": "code",
   "execution_count": null,
   "metadata": {},
   "outputs": [],
   "source": [
    "def mean(data):\n",
    "    n = len(data)\n",
    "    mean = sum(data) / n\n",
    "    return mean"
   ]
  },
  {
   "cell_type": "code",
   "execution_count": null,
   "metadata": {},
   "outputs": [],
   "source": [
    "def variance(data):\n",
    "    # Number of observations\n",
    "    n = len(data)\n",
    "    # Mean of the data\n",
    "    mean = sum(data) / n\n",
    "    # Square deviations\n",
    "    deviations = [(x - mean) ** 2 for x in data]\n",
    "    # Variance\n",
    "    variance = sum(deviations) / n\n",
    "    return variance"
   ]
  },
  {
   "cell_type": "code",
   "execution_count": null,
   "metadata": {},
   "outputs": [],
   "source": [
    "probability_one = np.array([[0.0]*len(exp_effect)] * len(sample_size))\n",
    "probability_two = np.array([[0.0]*len(exp_effect)] * len(sample_size))\n",
    "deviation_one = np.array([[0.0]*len(exp_effect)] * len(sample_size))\n",
    "deviation_two = np.array([[0.0]*len(exp_effect)] * len(sample_size))\n",
    "\n",
    "for k in range(0,len(sample_size)):\n",
    "    for j in range(0,len(exp_effect)):\n",
    "        probability_one[k,j] = mean(Decision_one[k,j,:])\n",
    "        probability_two[k,j] = mean(Decision_two[k,j,:])\n",
    "        deviation_one[k,j] = variance(Decision_one[k,j,:])\n",
    "        deviation_two[k,j] = variance(Decision_two[k,j,:])"
   ]
  },
  {
   "cell_type": "code",
   "execution_count": null,
   "metadata": {},
   "outputs": [],
   "source": [
    "df_one = pd.DataFrame(probability_one, index=sample_size, columns=exp_effect)\n",
    "df_two = pd.DataFrame(probability_two, index=sample_size, columns=exp_effect)\n",
    "df_diff = df_one-df_two\n",
    "df_std1 = pd.DataFrame(deviation_one, index=sample_size, columns=exp_effect)\n",
    "df_std2 = pd.DataFrame(deviation_two, index=sample_size, columns=exp_effect)\n",
    "df_stddiff = df_std1-df_std2"
   ]
  },
  {
   "cell_type": "code",
   "execution_count": null,
   "metadata": {},
   "outputs": [],
   "source": [
    "df_one.iloc[:,100:201]"
   ]
  },
  {
   "cell_type": "code",
   "execution_count": null,
   "metadata": {},
   "outputs": [],
   "source": [
    "sns.heatmap(df_one.iloc[:,100:201], cmap='flare')\n",
    "plt.savefig(r'C:\\Users\\phili\\OneDrive\\Dokumente_One Drive\\KIT\\Bachelorarbeit\\plots\\chapter5\\plot2.png')"
   ]
  },
  {
   "cell_type": "code",
   "execution_count": null,
   "metadata": {},
   "outputs": [],
   "source": [
    "sns.set_theme(palette='pastel')\n",
    "g = sns.lineplot(x=exp_effect, y=df_one.iloc[0,:], label='sample size = 1')\n",
    "sns.lineplot(x=exp_effect, y=df_two.iloc[24,:], label='sample size = 25')\n",
    "sns.lineplot(x=exp_effect, y=df_one.iloc[39,:], label='sample size = 40')\n",
    "sns.lineplot(x=exp_effect, y=df_one.iloc[99,:], label='sample size = 100')\n",
    "g.set(xlabel='effect size', ylabel='p(one-tailed = positive=')"
   ]
  },
  {
   "cell_type": "code",
   "execution_count": null,
   "metadata": {},
   "outputs": [],
   "source": [
    "sns.heatmap(df_two.iloc[:,100:201], cmap='flare')\n",
    "plt.savefig(r'C:\\Users\\phili\\OneDrive\\Dokumente_One Drive\\KIT\\Bachelorarbeit\\plots\\chapter5\\plot3.png')"
   ]
  },
  {
   "cell_type": "code",
   "execution_count": null,
   "metadata": {},
   "outputs": [],
   "source": [
    "sns.set_theme(palette='colorblind')\n",
    "g = sns.lineplot(x=exp_effect, y=df_two.iloc[0,:], label='sample size = 1')\n",
    "sns.lineplot(x=exp_effect, y=df_two.iloc[24,:], label='sample size = 25')\n",
    "sns.lineplot(x=exp_effect, y=df_two.iloc[39,:], label='sample size = 40')\n",
    "sns.lineplot(x=exp_effect, y=df_two.iloc[99,:], label='sample size = 100')\n",
    "g.set(xlabel='effect size', ylabel='p(two-tailed = positive)')"
   ]
  },
  {
   "cell_type": "code",
   "execution_count": null,
   "metadata": {},
   "outputs": [],
   "source": [
    "sns.heatmap(df_diff, cmap='flare')"
   ]
  },
  {
   "cell_type": "code",
   "execution_count": null,
   "metadata": {},
   "outputs": [],
   "source": [
    "with sns.axes_style('darkgrid'):\n",
    "    g = sns.scatterplot(x=exp_effect, y=df_diff.iloc[4,:], color='dodgerblue', label='sample size = 5')\n",
    "    sns.scatterplot(x=exp_effect, y=df_diff.iloc[24,:], color='orangered',label='sample size = 25')\n",
    "    sns.scatterplot(x=exp_effect, y=df_diff.iloc[49,:], color='navy', label='sample size = 50')\n",
    "    sns.scatterplot(x=exp_effect, y=df_diff.iloc[99,:], color='firebrick', label='sample size = 100')\n",
    "    g.set(xlabel='absolute effect size', ylabel='probability difference')\n",
    "plt.savefig(r'C:\\Users\\phili\\OneDrive\\Dokumente_One Drive\\KIT\\Bachelorarbeit\\plots\\chapter5\\plot4.png')\n",
    "print(stats.normaltest(df_one.iloc[:,4]))\n",
    "print(stats.normaltest(df_diff.iloc[24,:]))\n",
    "print(stats.normaltest(df_diff.iloc[49,:]))\n",
    "print(stats.normaltest(df_diff.iloc[99,:]))"
   ]
  },
  {
   "cell_type": "code",
   "execution_count": null,
   "metadata": {},
   "outputs": [],
   "source": [
    "with sns.axes_style('darkgrid'):\n",
    "    ax = sns.scatterplot(x=exp_effect, y=df_std1.iloc[0,:], color='seagreen', label='one-tailed, sample = 1')\n",
    "    sns.scatterplot(x=exp_effect, y=df_std2.iloc[0,:], color='lightseagreen', label='two-tailed, sample = 1')\n",
    "    sns.scatterplot(x=exp_effect, y=df_std1.iloc[9,:], color='navy', label='one-tailed, sample = 10')\n",
    "    sns.scatterplot(x=exp_effect, y=df_std2.iloc[9,:], color='dodgerblue', label='two-tailed, sample = 10')\n",
    "    sns.scatterplot(x=exp_effect, y=df_std1.iloc[99,:], color='firebrick', label='one-tailed, sample = 100')\n",
    "    sns.scatterplot(x=exp_effect, y=df_std2.iloc[99,:], color='orangered', label='two-tailed, sample = 100')\n",
    "    ax.set(xlabel='ansolute effect size', ylabel='variance')\n",
    "plt.savefig(r'C:\\Users\\phili\\OneDrive\\Dokumente_One Drive\\KIT\\Bachelorarbeit\\plots\\chapter5\\plot5.png')"
   ]
  },
  {
   "cell_type": "code",
   "execution_count": null,
   "metadata": {},
   "outputs": [],
   "source": [
    "sns.heatmap(df_std1, cmap='flare')"
   ]
  },
  {
   "cell_type": "code",
   "execution_count": null,
   "metadata": {},
   "outputs": [],
   "source": [
    "sns.heatmap(df_std2, cmap='flare')"
   ]
  },
  {
   "cell_type": "code",
   "execution_count": null,
   "metadata": {},
   "outputs": [],
   "source": [
    "sample_size = np.arange(start=500, stop=1000, step=1)\n",
    "effect_size = np.round(np.arange(start=-1, stop=1, step=0.01),2)\n",
    "iteration = 100\n",
    "t = np.array([[[0.0]*n]*len(exp_effect)] * len(sample_size)) \n",
    "d_one = np.array([[[0]*n]*len(exp_effect)] * len(sample_size)) \n",
    "d_two = np.array([[[0]*n]*len(exp_effect)] * len(sample_size))\n",
    "\n",
    "for j in range(0, len(effect_size)):\n",
    "    for k in range(0, len(sample_size)):\n",
    "        for i in range(0,iteration):       \n",
    "            sample = np.random.normal(loc=effect_size[j], size=sample_size[k], scale=sigma)\n",
    "            t[k,j,i] = (((np.mean(sample) - mu)/sigma)*np.sqrt(sample_size[k])).astype(float)\n",
    "            # positive = 1, negative = 0\n",
    "            if(t[k,j,i] < upper_one):\n",
    "                d_one[k,j,i] = 0\n",
    "            else:\n",
    "                d_one[k,j,i] = 1\n",
    "            if (t[k,j,i] < upper_two):\n",
    "                d_two[k,j,i] = 0\n",
    "            else:\n",
    "                d_two[k,j,i] = 1   "
   ]
  },
  {
   "cell_type": "code",
   "execution_count": null,
   "metadata": {},
   "outputs": [],
   "source": [
    "s_one = np.array([[0.0]*len(effect_size)] * len(sample_size))\n",
    "s_two = np.array([[0.0]*len(effect_size)] * len(sample_size))\n",
    "prob_one = np.array([[0.0]*len(effect_size)] * len(sample_size))\n",
    "prob_two = np.array([[0.0]*len(effect_size)] * len(sample_size))\n",
    "\n",
    "for j in range(0, len(effect_size)):\n",
    "    for k in range(0,len(sample_size)):\n",
    "        for i in range(0,iteration):\n",
    "            s_one[k,j] = s_one[k,j] + d_one[k,j,i] \n",
    "            s_two[k,j] = s_two[k,j] + d_two[k,j,i]\n",
    "            prob_one[k,j] = s_one[k,j] / iteration\n",
    "            prob_two[k,j] = s_two[k,j] / iteration\n",
    "dfOne = pd.DataFrame(prob_one, index=sample_size, columns=effect_size)\n",
    "dfTwo = pd.DataFrame(prob_two,index=sample_size, columns=effect_size)\n",
    "dfDiff = dfOne - dfTwo"
   ]
  },
  {
   "cell_type": "code",
   "execution_count": null,
   "metadata": {},
   "outputs": [],
   "source": [
    "sns.heatmap(dfDiff, cmap='flare')"
   ]
  }
 ],
 "metadata": {
  "kernelspec": {
   "display_name": "Python 3",
   "language": "python",
   "name": "python3"
  },
  "language_info": {
   "codemirror_mode": {
    "name": "ipython",
    "version": 3
   },
   "file_extension": ".py",
   "mimetype": "text/x-python",
   "name": "python",
   "nbconvert_exporter": "python",
   "pygments_lexer": "ipython3",
   "version": "3.7.6"
  }
 },
 "nbformat": 4,
 "nbformat_minor": 4
}
