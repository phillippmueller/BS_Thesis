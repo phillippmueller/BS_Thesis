{
 "cells": [
  {
   "cell_type": "code",
   "execution_count": null,
   "metadata": {},
   "outputs": [],
   "source": [
    "import pandas as pd\n",
    "import numpy as np\n",
    "import scipy.stats as stats\n",
    "import scipy.special as special\n",
    "import sys\n",
    "import seaborn as sns\n",
    "import matplotlib.pyplot as plt\n",
    "\n",
    "\n",
    "test_statistic = np.arange(start=0,stop=50,step=0.001)\n",
    "degf = np.arange(start=1, stop=31, step=1)\n",
    "n = (len(test_statistic))\n",
    "m = (len(degf))\n",
    "\n",
    "#upper_one: one-sided critical value\n",
    "#upper_two: two-sided critical value \n",
    "upper_one = np.array([0.0]*m)\n",
    "upper_two = np.array([0.0]*m)\n",
    "\n",
    "p_one = np.array([[0.0]*m]*n)\n",
    "p_two = np.array([[0.0]*m]*n)\n",
    "\n",
    "print(m)\n",
    "print(n)"
   ]
  },
  {
   "cell_type": "code",
   "execution_count": null,
   "metadata": {},
   "outputs": [],
   "source": [
    "for j in range(0,m):\n",
    "    upper_one[j] = stats.chi2.ppf(df=degf[j], q=0.95)\n",
    "    upper_two[j] = stats.chi2.ppf(df=degf[j], q=0.975)\n",
    "    for i in range(0,n):\n",
    "        p_one[i,j] = (1-stats.chi2.cdf(x=test_statistic[i], df=degf[j]))\n",
    "        if test_statistic[i] > stats.chi2.ppf(q=0.5,df=degf[j]): #Expected value =df\n",
    "            p_two[i,j] = ((1-stats.chi2.cdf(x=test_statistic[i], df=degf[j]))*2)\n",
    "        else:\n",
    "            p_two[i,j] = stats.chi2.cdf(x=test_statistic[i], df=degf[j])*2  "
   ]
  },
  {
   "cell_type": "code",
   "execution_count": null,
   "metadata": {},
   "outputs": [],
   "source": [
    "with sns.axes_style('darkgrid'):\n",
    "    g = sns.lineplot(x = test_statistic, y = p_one[:,0], color='darkred', label='one-tailed, df=1')\n",
    "    sns.lineplot(x = test_statistic, y = p_two[:,0], color='indianred', label='two-tailed, df=1')\n",
    "    sns.lineplot(x = test_statistic, y = p_one[:,9], color='purple', label='one-tailed, df=10')\n",
    "    sns.lineplot(x = test_statistic, y = p_two[:,9], color='magenta', label='two-tailed, df=10')\n",
    "    sns.lineplot(x = test_statistic, y = p_one[:,19], color='green', label='one-tailed, df=20')\n",
    "    sns.lineplot(x = test_statistic, y = p_two[:,19], color='springgreen', label='two-tailed, df=20')\n",
    "    sns.lineplot(x = test_statistic, y = p_one[:,29], color='navy', label='one-tailed, df=30')\n",
    "    sns.lineplot(x = test_statistic, y = p_two[:,29], color='blue', label='two-tailed, df=30')\n",
    "    sns.lineplot(x = test_statistic, y = 0.05, color='black', label='significance level')\n",
    "    g.set(xlabel='test statistic', ylabel='p-value')\n",
    "plt.savefig(r'C:\\Users\\phili\\OneDrive\\Dokumente_One Drive\\KIT\\Bachelorarbeit\\plots\\chapter5\\plot9.png')"
   ]
  },
  {
   "cell_type": "code",
   "execution_count": null,
   "metadata": {},
   "outputs": [],
   "source": [
    " with sns.axes_style('darkgrid'):\n",
    "    g = sns.lineplot(x = test_statistic, y = p_one[:,0], color='darkred', label='one-tailed, df=1')\n",
    "    sns.lineplot(x = test_statistic, y = p_two[:,0], color='indianred', label='two-tailed, df=1')\n",
    "    sns.lineplot(x = test_statistic, y = p_one[:,9], color='purple', label='one-tailed, df=10')\n",
    "    sns.lineplot(x = test_statistic, y = p_two[:,9], color='magenta', label='two-tailed, df=10')\n",
    "    sns.lineplot(x = test_statistic, y = p_one[:,19], color='green', label='one-tailed, df=20')\n",
    "    sns.lineplot(x = test_statistic, y = p_two[:,19], color='springgreen', label='two-tailed, df=20')\n",
    "    sns.lineplot(x = test_statistic, y = p_one[:,29], color='navy', label='one-tailed, df=30')\n",
    "    sns.lineplot(x = test_statistic, y = p_two[:,29], color='blue', label='two-tailed, df=30')\n",
    "    sns.lineplot(x = test_statistic, y = 0.05, color='black')\n",
    "    g.set(xlabel='test statistic', ylabel='p-value',xlim=(0,60), ylim=(0,0.1))"
   ]
  },
  {
   "cell_type": "code",
   "execution_count": null,
   "metadata": {},
   "outputs": [],
   "source": [
    "p1_statistic = np.array([0.0]*m)\n",
    "p2_statistic = np.array([0.0]*m)\n",
    "statistic_diff = np.array([0.0]*m)\n",
    "df = pd.DataFrame([p1_statistic,p2_statistic,statistic_diff], \n",
    "                  index=['p1_statistic', 'p2_statistic', 'statistic_diff'], \n",
    "                  columns=['df=1', 'df=2', 'df=3', 'df=4', 'df=5', 'df=6', 'df=7', 'df=8', 'df=9', \n",
    "                           'df=10', 'df=11', 'df=12', 'df=13', 'df=14', 'df=15', 'df=16', 'df=17', \n",
    "                           'df=18', 'df=19', 'df=20', 'df=21', 'df=22', 'df=23', 'df=24', 'df=25', \n",
    "                           'df=26', 'df=27', 'df=28', 'df=29', 'df=30']) "
   ]
  },
  {
   "cell_type": "code",
   "execution_count": null,
   "metadata": {},
   "outputs": [],
   "source": [
    "for j in range(0,m):\n",
    "    for i in range(0,n):\n",
    "        if p_one[i-1,j] > 0.05 and p_one[i,j] < 0.05 or p_one[i,j] == 0.05:\n",
    "            df.iloc[0,j] = i*0.001\n",
    "for j in range(0,m):\n",
    "    for i in range(0,n):   \n",
    "        if p_two[i-1,j] > 0.05 and p_two[i,j] < 0.05 or p_two[i,j] == 0.05:\n",
    "            df.iloc[1,j] = i*0.001\n",
    "for j in range(0,m):\n",
    "    df.iloc[2,j] = df.iloc[1,j]-df.iloc[0,j]  "
   ]
  },
  {
   "cell_type": "code",
   "execution_count": null,
   "metadata": {},
   "outputs": [],
   "source": [
    "df = np.around(df, decimals=8)\n",
    "df.to_csv(r'C:\\Users\\phili\\OneDrive\\Dokumente_One Drive\\KIT\\Bachelorarbeit\\data\\chi_results.csv')\n",
    "df"
   ]
  },
  {
   "cell_type": "code",
   "execution_count": null,
   "metadata": {},
   "outputs": [],
   "source": [
    "sns.lineplot(x = test_statistic, y = (p_one[:,29]*2*0.01), color='navy', label='one-tailed, df=30')\n",
    "sns.lineplot(x = test_statistic, y = (p_two[:,29]*0.01), color='blue', label='two-tailed, df=30')\n",
    "sns.lineplot(x = test_statistic, y = stats.chi2.pdf(x=test_statistic, df=30))"
   ]
  },
  {
   "cell_type": "code",
   "execution_count": null,
   "metadata": {},
   "outputs": [],
   "source": [
    "sns.lineplot(x = test_statistic, y = (p_one[:,9]*2), color='navy', label='one-tailed, df=30')\n",
    "sns.lineplot(x = test_statistic, y = p_two[:,9], color='blue', label='two-tailed, df=30')\n",
    "sns.lineplot(x = test_statistic, y = stats.chi2.pdf(x=test_statistic, df=10))"
   ]
  }
 ],
 "metadata": {
  "kernelspec": {
   "display_name": "Python 3",
   "language": "python",
   "name": "python3"
  },
  "language_info": {
   "codemirror_mode": {
    "name": "ipython",
    "version": 3
   },
   "file_extension": ".py",
   "mimetype": "text/x-python",
   "name": "python",
   "nbconvert_exporter": "python",
   "pygments_lexer": "ipython3",
   "version": "3.7.6"
  }
 },
 "nbformat": 4,
 "nbformat_minor": 4
}
