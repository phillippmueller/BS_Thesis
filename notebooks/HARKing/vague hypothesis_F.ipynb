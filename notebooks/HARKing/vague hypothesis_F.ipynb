{
 "cells": [
  {
   "cell_type": "code",
   "execution_count": null,
   "metadata": {
    "scrolled": true
   },
   "outputs": [],
   "source": [
    "from mpl_toolkits.mplot3d import Axes3D\n",
    "import seaborn as sns\n",
    "import matplotlib.pyplot as plt\n",
    "import pandas as pd\n",
    "import numpy as np\n",
    "import scipy.stats as stats\n",
    "import sys\n",
    "np.set_printoptions(threshold=sys.maxsize)\n",
    "\n",
    "degf_n = np.arange(start=1, stop=31, step=1)\n",
    "degf_d = np.arange(start=1, stop=31, step=1)\n",
    "test_statistic = np.arange(start=1,stop=50,step=0.1)\n",
    "length = (len(test_statistic))\n",
    "N = (len(degf_n))\n",
    "D = (len(degf_d))\n",
    "# N = D required!\n",
    "p_one = np.array([[[0.0]*length]*D]*N)\n",
    "p_two = np.array([[[0.0]*length]*D]*N)"
   ]
  },
  {
   "cell_type": "code",
   "execution_count": null,
   "metadata": {},
   "outputs": [],
   "source": [
    "for n in range(0,N):\n",
    "    for d in range(0,D):\n",
    "        for i in range(0,length):\n",
    "            p_one[n,d,i] = (1-stats.f.cdf(x=test_statistic[i], dfn=degf_n[n], dfd=degf_d[d]))\n",
    "            if test_statistic[i] > stats.f.ppf(q=0.5,dfn=degf_n[n], dfd=degf_d[d]):\n",
    "                p_two[n,d,i] = (1-stats.f.cdf(x=test_statistic[i], dfn=degf_n[n], dfd=degf_d[d]))*2\n",
    "            else:\n",
    "                p_two[n,d,i] = (stats.f.cdf(x=test_statistic[i], dfn=degf_n[n], dfd=degf_d[d]))*2"
   ]
  },
  {
   "cell_type": "code",
   "execution_count": null,
   "metadata": {},
   "outputs": [],
   "source": [
    "with sns.axes_style('darkgrid'):\n",
    "    g = sns.lineplot(x=test_statistic, y=p_one[0,0,:], color='orangered', label='p1, df=(1,1)')\n",
    "\n",
    "    sns.lineplot(x=test_statistic, y=p_one[1,1,:], color='skyblue', label='p1, df=(2,2)')\n",
    "    sns.lineplot(x=test_statistic, y=p_one[2,2,:], color='dodgerblue', label='p1, df=(3,3)')\n",
    "    sns.lineplot(x=test_statistic, y=p_one[3,3,:], color='navy', label='p1, df=(4,4)')\n",
    "\n",
    "    sns.lineplot(x=test_statistic, y=p_one[9,9,:], color='lightgrey', label='p1, df=(10,10)')\n",
    "    sns.lineplot(x=test_statistic, y=p_one[19,19,:], color='grey', label='p1, df=(20,20)')\n",
    "    sns.lineplot(x=test_statistic, y=p_one[29,29,:], color='black', label='p1, df=(30,30)')          \n",
    "\n",
    "    sns.lineplot(x=test_statistic, y=0.05, color='limegreen', label='significance level')\n",
    "    g.set(xlabel='test statistic', ylabel='p-value')\n",
    "plt.savefig(r'C:\\Users\\phili\\OneDrive\\Dokumente_One Drive\\KIT\\Bachelorarbeit\\plots\\chapter5\\plot10.png')"
   ]
  },
  {
   "cell_type": "code",
   "execution_count": null,
   "metadata": {},
   "outputs": [],
   "source": [
    "sns.lineplot(x=test_statistic, y=p_two[1,1,:])\n",
    "sns.lineplot(x=test_statistic, y=(p_one[1,1,:]*2))\n",
    "\n",
    "sns.lineplot(x=test_statistic, y=p_two[12,12,:])\n",
    "sns.lineplot(x=test_statistic, y=(p_one[12,12,:]*2))\n",
    "\n",
    "sns.lineplot(x=test_statistic, y=p_two[29,29,:])\n",
    "sns.lineplot(x=test_statistic, y=(p_one[29,29,:]*2))\n"
   ]
  },
  {
   "cell_type": "code",
   "execution_count": null,
   "metadata": {},
   "outputs": [],
   "source": [
    "with sns.axes_style('darkgrid'):\n",
    "    g = sns.lineplot(x=test_statistic, y=p_two[0,0,:], color='orangered', label='p2, df=(1,1)')\n",
    "\n",
    "    sns.lineplot(x=test_statistic, y=p_two[1,1,:], color='skyblue', label='p2, df=(2,2)')\n",
    "    sns.lineplot(x=test_statistic, y=p_two[2,2,:], color='dodgerblue', label='p2, df=(3,3)')\n",
    "    sns.lineplot(x=test_statistic, y=p_two[3,3,:], color='navy', label='p2, df=(4,4)')\n",
    "\n",
    "    sns.lineplot(x=test_statistic, y=p_two[9,9,:], color='lightgrey', label='p2, df=(10,10)')\n",
    "    sns.lineplot(x=test_statistic, y=p_two[19,19,:], color='grey', label='p2, df=(20,20)')\n",
    "    sns.lineplot(x=test_statistic, y=p_two[29,29,:], color='black', label='p2, df=(30,30)')          \n",
    "\n",
    "    sns.lineplot(x=test_statistic, y=0.05, color='limegreen', label='significance level')\n",
    "    g.set(xlabel='test statistic', ylabel='p-value')\n",
    "plt.savefig(r'C:\\Users\\phili\\OneDrive\\Dokumente_One Drive\\KIT\\Bachelorarbeit\\plots\\chapter5\\plot11.png')"
   ]
  },
  {
   "cell_type": "code",
   "execution_count": null,
   "metadata": {},
   "outputs": [],
   "source": [
    "with sns.axes_style('darkgrid'):\n",
    "    g = sns.lineplot(x=test_statistic, y=p_one[1,0,:], color='salmon', label='p1, df=(2,1)')\n",
    "    sns.lineplot(x=test_statistic, y=p_one[2,0,:], color='orangered', label='p1, df=(3,1)')\n",
    "    sns.lineplot(x=test_statistic, y=p_one[29,0,:], color='firebrick', label='p1, df=(30,1)')\n",
    "\n",
    "    sns.lineplot(x=test_statistic, y=p_one[0,1,:], color='skyblue', label='p1, df=(1,2)')\n",
    "    sns.lineplot(x=test_statistic, y=p_one[0,2,:], color='dodgerblue', label='p1, df=(1,3)')\n",
    "    sns.lineplot(x=test_statistic, y=p_one[0,29,:], color='navy', label='p1, df=(1,30)')\n",
    "\n",
    "    sns.lineplot(x=test_statistic, y=0.05, color='limegreen',label='significance level')\n",
    "    g.set(xlabel='test statistic', ylabel='p-value')\n",
    "plt.savefig(r'C:\\Users\\phili\\OneDrive\\Dokumente_One Drive\\KIT\\Bachelorarbeit\\plots\\chapter5\\plot12.png')"
   ]
  },
  {
   "cell_type": "code",
   "execution_count": null,
   "metadata": {},
   "outputs": [],
   "source": [
    "with sns.axes_style('darkgrid'):\n",
    "    g = sns.lineplot(x=test_statistic, y=p_two[1,0,:], color='salmon', label='p2, df=(2,1)')\n",
    "    sns.lineplot(x=test_statistic, y=p_two[2,0,:], color='orangered', label='p2, df=(3,1)')\n",
    "    sns.lineplot(x=test_statistic, y=p_two[29,0,:], color='firebrick', label='p2, df=(30,1)')\n",
    "\n",
    "    sns.lineplot(x=test_statistic, y=p_two[0,1,:], color='skyblue', label='p2, df=(1,2)')\n",
    "    sns.lineplot(x=test_statistic, y=p_two[0,2,:], color='dodgerblue', label='p2, df=(1,3)')\n",
    "    sns.lineplot(x=test_statistic, y=p_two[0,29,:], color='navy', label='p2, df=(1,30)')\n",
    "\n",
    "    sns.lineplot(x=test_statistic, y=0.05, color='limegreen', label='significance level')\n",
    "    g.set(xlabel='test statistic', ylabel='p-value')\n",
    "plt.savefig(r'C:\\Users\\phili\\OneDrive\\Dokumente_One Drive\\KIT\\Bachelorarbeit\\plots\\chapter5\\plot13.png')"
   ]
  },
  {
   "cell_type": "code",
   "execution_count": null,
   "metadata": {},
   "outputs": [],
   "source": [
    "g = sns.lineplot(x=test_statistic, y=p_one[9,0,:], color='salmon', label='p1, df=(10,1)')\n",
    "sns.lineplot(x=test_statistic, y=p_one[19,0,:], color='orangered', label='p1, df=(20,1)')\n",
    "sns.lineplot(x=test_statistic, y=p_one[29,0,:], color='firebrick', label='p1, df=(30,1)')\n",
    "\n",
    "sns.lineplot(x=test_statistic, y=p_two[0,9,:], color='skyblue', label='p2, df=(1,10)')\n",
    "sns.lineplot(x=test_statistic, y=p_two[0,19,:], color='dodgerblue', label='p2, df=(1,20)')\n",
    "sns.lineplot(x=test_statistic, y=p_two[0,29,:], color='navy', label='p2, df=(1,30)')\n",
    "\n",
    "sns.lineplot(x=test_statistic, y=0.05, color='black', label='alpha = 0.05')\n",
    "g.set(xlabel='test statistic', ylabel='p-value')"
   ]
  },
  {
   "cell_type": "code",
   "execution_count": null,
   "metadata": {},
   "outputs": [],
   "source": [
    "with sns.axes_style('darkgrid'):\n",
    "    g = sns.lineplot(x=test_statistic, y=p_one[1,1,:], color='salmon', label='p1, df=(2,2)')\n",
    "    sns.lineplot(x=test_statistic, y=p_one[3,1,:], color='orangered', label='p1, df=(4,2)')\n",
    "    sns.lineplot(x=test_statistic, y=p_one[29,1,:], color='firebrick', label='p1, df=(30,2)')\n",
    "\n",
    "    sns.lineplot(x=test_statistic, y=p_one[1,2,:], color='skyblue', label='p1, df=(2,3)')\n",
    "    sns.lineplot(x=test_statistic, y=p_one[3,2,:], color='dodgerblue', label='p1, df=(4,3)')\n",
    "    sns.lineplot(x=test_statistic, y=p_one[29,2,:], color='navy', label='p1, df=(30,3)')\n",
    "\n",
    "    sns.lineplot(x=test_statistic, y=p_one[1,4,:], color='lightgrey', label='p1, df=(2,5)')\n",
    "    sns.lineplot(x=test_statistic, y=p_one[3,4,:], color='grey', label='p1, df=(4,5)')\n",
    "    sns.lineplot(x=test_statistic, y=p_one[29,4,:], color='black', label='p1, df=(30,5)')\n",
    "\n",
    "    sns.lineplot(x=test_statistic, y=0.05, color='limegreen',label='significance level')\n",
    "    g.set(xlim=(0,15), ylim=(0.02, 0.3), xlabel='test statistic', ylabel='p-value')\n",
    "plt.savefig(r'C:\\Users\\phili\\OneDrive\\Dokumente_One Drive\\KIT\\Bachelorarbeit\\plots\\chapter5\\plot14.png')"
   ]
  },
  {
   "cell_type": "code",
   "execution_count": null,
   "metadata": {},
   "outputs": [],
   "source": [
    "g = sns.lineplot(x=test_statistic, y=p_two[1,1,:], color='orange', label='p2, df=(2,2)')\n",
    "sns.lineplot(x=test_statistic, y=p_two[3,1,:], color='red', label='p2, df=(4,2)')\n",
    "sns.lineplot(x=test_statistic, y=p_two[29,1,:], color='firebrick', label='p1, df=(30,2)')\n",
    "\n",
    "sns.lineplot(x=test_statistic, y=p_two[1,2,:], color='cyan', label='p2, df=(2,3)')\n",
    "sns.lineplot(x=test_statistic, y=p_two[3,2,:], color='blue', label='p2, df=(4,3)')\n",
    "sns.lineplot(x=test_statistic, y=p_two[29,2,:], color='navy', label='p2, df=(30,3)')\n",
    "\n",
    "sns.lineplot(x=test_statistic, y=p_two[1,4,:], color='springgreen', label='p2, df=(2,5)')\n",
    "sns.lineplot(x=test_statistic, y=p_two[3,4,:], color='green', label='p2, df=(4,5)')\n",
    "sns.lineplot(x=test_statistic, y=p_two[29,4,:], color='darkolivegreen', label='p2, df=(30,5)')\n",
    "\n",
    "sns.lineplot(x=test_statistic, y=0.05, color='black',label='alpha = 0.05')\n",
    "\n",
    "g.set(xlim=(2,30), ylim=(0.02, 0.3), xlabel='test statistic', ylabel='p-value')"
   ]
  },
  {
   "cell_type": "code",
   "execution_count": null,
   "metadata": {},
   "outputs": [],
   "source": [
    "with sns.axes_style('darkgrid'):    \n",
    "    g = sns.lineplot(x=test_statistic, y=p_one[1,1,:], color='salmon', label='p1, df=(2,2)')\n",
    "    sns.lineplot(x=test_statistic, y=p_one[1,3,:], color='orangered', label='p1, df=(2,4)')\n",
    "    sns.lineplot(x=test_statistic, y=p_one[1,29,:], color='firebrick', label='p1, df=(2,30)')\n",
    "\n",
    "    sns.lineplot(x=test_statistic, y=p_one[2,1,:], color='skyblue', label='p1, df=(3,2)')\n",
    "    sns.lineplot(x=test_statistic, y=p_one[2,3,:], color='dodgerblue', label='p1, df=(3,4)')\n",
    "    sns.lineplot(x=test_statistic, y=p_one[2,29,:], color='navy', label='p1, df=(3,30)')\n",
    "\n",
    "    sns.lineplot(x=test_statistic, y=p_one[4,1,:], color='lightgrey', label='p1, df=(5,2)')\n",
    "    sns.lineplot(x=test_statistic, y=p_one[4,3,:], color='grey', label='p1, df=(5,4)')\n",
    "    sns.lineplot(x=test_statistic, y=p_one[4,29,:], color='black', label='p1, df=(5,30)')\n",
    "\n",
    "    sns.lineplot(x=test_statistic, y=0.05, color='limegreen',label='significance level')\n",
    "    g.set(xlim=(0,15), ylim=(0.02, 0.3), xlabel='test statistic', ylabel='p-value')\n",
    "plt.savefig(r'C:\\Users\\phili\\OneDrive\\Dokumente_One Drive\\KIT\\Bachelorarbeit\\plots\\chapter5\\plot15.png')"
   ]
  },
  {
   "cell_type": "code",
   "execution_count": null,
   "metadata": {},
   "outputs": [],
   "source": [
    "g = sns.lineplot(x=test_statistic, y=p_two[1,1,:], color='orange', label='p2, df=(2,2)')\n",
    "sns.lineplot(x=test_statistic, y=p_two[1,3,:], color='red', label='p2, df=(2,4)')\n",
    "sns.lineplot(x=test_statistic, y=p_two[1,29,:], color='firebrick', label='p2, df=(2,30)')\n",
    "\n",
    "sns.lineplot(x=test_statistic, y=p_two[2,1,:], color='cyan', label='p2, df=(3,2)')\n",
    "sns.lineplot(x=test_statistic, y=p_two[2,3,:], color='blue', label='p2, df=(3,4)')\n",
    "sns.lineplot(x=test_statistic, y=p_two[2,29,:], color='navy', label='p2, df=(3,30)')\n",
    "\n",
    "sns.lineplot(x=test_statistic, y=p_two[4,1,:], color='springgreen', label='p2, df=(5,2)')\n",
    "sns.lineplot(x=test_statistic, y=p_two[4,3,:], color='lightgreen', label='p2, df=(5,4)')\n",
    "sns.lineplot(x=test_statistic, y=p_two[4,29,:], color='darkolivegreen', label='p2, df=(5,30)')\n",
    "\n",
    "sns.lineplot(x=test_statistic, y=0.05, color='black',label='alpha = 0.05')\n",
    "\n",
    "g.set(xlim=(2,20), ylim=(0.02, 0.3), xlabel='test statistic', ylabel='p-value')"
   ]
  },
  {
   "cell_type": "code",
   "execution_count": null,
   "metadata": {},
   "outputs": [],
   "source": [
    "p1array = np.array([[0.0]*D]*N)\n",
    "p2array = np.array([[0.0]*D]*N)\n",
    "t1array = np.array([[0.0]*D]*N)\n",
    "t2array = np.array([[0.0]*D]*N)\n",
    "p1p2array = np.array([[0.0]*D]*N)\n",
    "p2p1array = np.array([[0.0]*D]*N)\n",
    "\n",
    "p1array[:] = np.NaN\n",
    "p2array[:] = np.NaN\n",
    "t1array[:] = np.NaN\n",
    "t2array[:] = np.NaN\n",
    "p1p2array[:] = np.NaN\n",
    "p2p1array[:] = np.NaN\n",
    "\n",
    "p1 = np.array([0.0]*N*D) \n",
    "p2 = np.array([0.0]*N*D)\n",
    "t_p1 = np.array([0.0]*N*D)\n",
    "t_p2 = np.array([0.0]*N*D)\n",
    "p1_at_p2 = np.array([0.0]*N*D)\n",
    "p2_at_p1 = np.array([0.0]*N*D)\n",
    "tdiff = np.array([0.0]*N*D)\n",
    "p1diff = np.array([0.0]*N*D)\n",
    "p2diff = np.array([0.0]*N*D)"
   ]
  },
  {
   "cell_type": "code",
   "execution_count": null,
   "metadata": {},
   "outputs": [],
   "source": [
    "for n in range(0,N):\n",
    "    for d in range(0,D):\n",
    "        for i in range(0,length):\n",
    "            if p_one[n,d,i-1,] > 0.05 and p_one[n,d,i] < 0.05 or p_one[n,d,i] == 0.05:\n",
    "                p1array[n,d] = p_one[n,d,i]\n",
    "                t1array[n,d] = i * 0.1\n",
    "                p2p1array[n,d] = p_two[n,d,i]\n",
    "            if p_two[n,d,i-1] > 0.05 and p_two[n,d,i] < 0.05 or p_two[n,d,i] == 0.05:\n",
    "                p2array[n,d] = p_two[n,d,i]\n",
    "                t2array[n,d] = i * 0.1\n",
    "                p1p2array[n,d] = p_one[n,d,i]\n",
    "# translate data into vector for dataframes \n",
    "# single_df for 30x30 grid\n",
    "# multiple_df for 3X3 grid\n",
    "# final_df for table in appendix\n",
    "for i in range(0,N):\n",
    "    p1[i*N:(i+1)*N] = p1array[i,:]\n",
    "    p2[i*N:(i+1)*N] = p2array[i,:]\n",
    "    t_p1[i*N:(i+1)*N] = t1array[i,:]\n",
    "    t_p2[i*N:(i+1)*N] = t2array[i,:]\n",
    "    p1_at_p2[i*N:(i+1)*N] = p1p2array[i,:]\n",
    "    p2_at_p1[i*N:(i+1)*N] = p2p1array[i,:]"
   ]
  },
  {
   "cell_type": "code",
   "execution_count": null,
   "metadata": {},
   "outputs": [],
   "source": [
    "tdiff = t_p2 - t_p1\n",
    "p1diff = p2_at_p1 - p1\n",
    "p2diff = p2 - p1_at_p2\n",
    "\n",
    "# 2d dataframes for plots and heatmaps \n",
    "df_p1 = pd.DataFrame(p1array, index=degf_n, columns=degf_d)\n",
    "df_p2 = pd.DataFrame(p2array, index=degf_n, columns=degf_d)\n",
    "df_p1p2 = pd.DataFrame(p1p2array, index=degf_n, columns=degf_d)\n",
    "df_p2p1 = pd.DataFrame(p2p1array, index=degf_n, columns=degf_d)\n",
    "df_t1 = pd.DataFrame(t1array, index=degf_n, columns=degf_d)\n",
    "df_t2 = pd.DataFrame(t2array, index=degf_n, columns=degf_d)"
   ]
  },
  {
   "cell_type": "code",
   "execution_count": null,
   "metadata": {},
   "outputs": [],
   "source": [
    "sns.heatmap(df_p1p2)"
   ]
  },
  {
   "cell_type": "code",
   "execution_count": null,
   "metadata": {},
   "outputs": [],
   "source": [
    "sns.heatmap(df_p1,cmap='flare')\n",
    "plt.savefig(r'C:\\Users\\phili\\OneDrive\\Dokumente_One Drive\\KIT\\Bachelorarbeit\\plots\\chapter5\\plot18.png')"
   ]
  },
  {
   "cell_type": "code",
   "execution_count": null,
   "metadata": {},
   "outputs": [],
   "source": [
    "sns.heatmap(df_p2p1)"
   ]
  },
  {
   "cell_type": "code",
   "execution_count": null,
   "metadata": {},
   "outputs": [],
   "source": [
    "sns.heatmap(df_p2)"
   ]
  },
  {
   "cell_type": "code",
   "execution_count": null,
   "metadata": {},
   "outputs": [],
   "source": [
    "sns.heatmap(df_t2.iloc[0:10,0:10]-df_t1.iloc[0:10,0:10], cmap='flare')\n",
    "plt.savefig(r'C:\\Users\\phili\\OneDrive\\Dokumente_One Drive\\KIT\\Bachelorarbeit\\plots\\chapter5\\plot16.png')"
   ]
  },
  {
   "cell_type": "code",
   "execution_count": null,
   "metadata": {
    "scrolled": false
   },
   "outputs": [],
   "source": [
    "# list all df for dataframe \n",
    "df1 = np.array([0]*N**2)\n",
    "df2 = np.array([0]*N)\n",
    "help2 = np.array([0]*N)\n",
    "\n",
    "for i in range(0,N):\n",
    "    df2[i] = i+1\n",
    "    help2[i] = i+1\n",
    "for i in range(0,N):\n",
    "    df2 = np.concatenate((df2,help2),axis=0)\n",
    "\n",
    "#jumps of 10 in df, for second multi-grid plot (multiple_df)\n",
    "df2_10 = np.array([0]*N)\n",
    "help_10 = np.array([0]*N)\n",
    "df1_10 = np.array([0]*N**2)\n",
    "for i in range(0,N):\n",
    "    for j in range(0,10):\n",
    "        df2_10[i*10:(i+1)*10] = i*10\n",
    "        help_10[i*10:(i+1)*10] = i*10\n",
    "for i in range(0,10):\n",
    "    df2_10[i] = 1\n",
    "    help_10[i] =1\n",
    "for i in range(0,N-1):\n",
    "    df2_10 = np.concatenate((df2_10, help_10), axis=0)\n",
    "for i in range(0,N**2):\n",
    "    for j in range(0,10*N):\n",
    "        df1_10[i*10*N:(i+1)*10*N] = i*10\n",
    "for i in range(0,10*N):\n",
    "    df1_10[i] = 1"
   ]
  },
  {
   "cell_type": "code",
   "execution_count": null,
   "metadata": {
    "scrolled": true
   },
   "outputs": [],
   "source": [
    "# 1d dataframe for multi-grids\n",
    "# single_df\n",
    "data = pd.DataFrame([df1,df2,p1,t_p1,p2_at_p1,p2,t_p2,p1_at_p2], \n",
    "                    index=['df1','df2','p1','t:p1=5%','p2:p1=5%','p2','t:p2=5%','p1:p2=5%'])\n",
    "df = data.transpose()\n",
    "# delete zeros in df1 vector \n",
    "for i in range(0,N**2):\n",
    "    df.iloc[(i*N):((i+1)*N),0] = i+1  \n",
    "#create index list, based on (df1,df2)\n",
    "list1 = df.iloc[:,0].astype(int)\n",
    "list2 = df.iloc[:,1].astype(int)\n",
    "list_delimiter = [',']*len(df.iloc[:,0])                    \n",
    "list_final = list1.astype(str) + list_delimiter + list2.astype(str)\n",
    "df.index = list_final\n",
    "single_df = df.dropna()"
   ]
  },
  {
   "cell_type": "code",
   "execution_count": null,
   "metadata": {},
   "outputs": [],
   "source": [
    "# multiple_df\n",
    "data = pd.DataFrame([df1_10,df2_10,df1,df2,p1,t_p1,p2_at_p1,p2,t_p2,p1_at_p2], \n",
    "                           index=['df1_10','df2_10','df1','df2','p1','t:p1=5%','p2:p1=5%','p2','t:p2=5%','p1:p2=5%'])\n",
    "multiple_df = data.transpose()\n",
    "# delete zeros in df1 vector \n",
    "for i in range(0,N**2):\n",
    "    multiple_df.iloc[(i*N):((i+1)*N),2] = i+1  \n",
    "multiple_df.index = list_final"
   ]
  },
  {
   "cell_type": "code",
   "execution_count": null,
   "metadata": {},
   "outputs": [],
   "source": [
    "# final_df\n",
    "data = pd.DataFrame([df1, df2, t_p1, t_p2, tdiff, p1, p2_at_p1, p1diff, p2, p1_at_p2, p2diff], \n",
    "                    index=['df1','df2','t at p1=5%', 't at p2=5%', 't interval', 'p1', 'p2 at p1=5%', 'delta p at p1=5%', \n",
    "                           'p2', 'p1 at p2=5%', 'delta p at p2=5%'])\n",
    "df = data.transpose()\n",
    "# delete zeros in df1 vector \n",
    "for i in range(0,N**2):\n",
    "    df.iloc[(i*N):((i+1)*N),0] = i+1  \n",
    "df.index = list_final\n",
    "first_df = df.dropna()\n",
    "second_df = first_df.drop(columns=['df1','df2'])\n",
    "final_df = second_df.round(decimals=4)\n",
    "final_df.to_csv(r'C:\\Users\\phili\\OneDrive\\Dokumente_One Drive\\KIT\\Bachelorarbeit\\data\\F_results.csv')"
   ]
  },
  {
   "cell_type": "code",
   "execution_count": null,
   "metadata": {},
   "outputs": [],
   "source": [
    "with sns.axes_style('darkgrid'):\n",
    "    g = sns.FacetGrid(data=multiple_df, col='df2_10', row='df1_10')\n",
    "    g.map(sns.lineplot,'t:p1=5%', 'p1', color='dodgerblue')\n",
    "    g.map(sns.lineplot,'t:p1=5%', 'p2:p1=5%', color='navy')\n",
    "    g.map(sns.lineplot,'t:p2=5%', 'p2', color='orangered')\n",
    "    g.map(sns.lineplot,'t:p2=5%', 'p1:p2=5%', color='firebrick')\n",
    "    g.set(xlabel='test statistic', ylabel='p-value')\n",
    "plt.savefig(r'C:\\Users\\phili\\OneDrive\\Dokumente_One Drive\\KIT\\Bachelorarbeit\\plots\\chapter5\\plot17.png')"
   ]
  },
  {
   "cell_type": "code",
   "execution_count": null,
   "metadata": {},
   "outputs": [],
   "source": [
    "IndexNames1 = single_df[single_df['df2'] > 10].index\n",
    "help_df = single_df.drop(IndexNames1)\n",
    "IndexNames2 = help_df[help_df['df1'] > 10].index\n",
    "df_1_1 = help_df.drop(IndexNames2)\n",
    "IndexNames1 = single_df[single_df['df2'] <= 10].index\n",
    "help_df = single_df.drop(IndexNames1)\n",
    "IndexNames2 = help_df[help_df['df1'] > 10].index\n",
    "df_11to30 = help_df.drop(IndexNames2)\n",
    "IndexNames1 = df_11to30[df_11to30['df2'] > 20].index\n",
    "df_1_2 = df_11to30.drop(IndexNames1)\n",
    "IndexNames1 = df_11to30[df_11to30['df2'] < 21].index\n",
    "df_1_3 = df_11to30.drop(IndexNames1)"
   ]
  },
  {
   "cell_type": "code",
   "execution_count": null,
   "metadata": {},
   "outputs": [],
   "source": [
    "IndexNames = single_df[single_df['df1'] <= 10].index\n",
    "help_df = single_df.drop(IndexNames)\n",
    "IndexNames2 = help_df[help_df['df2'] > 10].index\n",
    "df_11to30 = help_df.drop(IndexNames2)\n",
    "IndexNames = df_11to30[df_11to30['df1'] > 20 ].index\n",
    "df_2_1 = df_11to30.drop(IndexNames)\n",
    "IndexNames = df_11to30[df_11to30['df1'] < 20 ].index\n",
    "df_3_1 = df_11to30.drop(IndexNames)"
   ]
  },
  {
   "cell_type": "code",
   "execution_count": null,
   "metadata": {},
   "outputs": [],
   "source": [
    "with sns.axes_style('whitegrid'):\n",
    "    g = sns.FacetGrid(data=df_1_1, col='df2', row='df1')\n",
    "    g.map(sns.scatterplot,'t:p1=5%', 'p1', color='orangered', label='p1=5%')\n",
    "    g.map(sns.scatterplot,'t:p1=5%', 'p2:p1=5%', color='navy', label='p2 at p1=5%')\n",
    "    g.map(sns.scatterplot,'t:p2=5%', 'p2', color='blue', label='p2=5%')\n",
    "    g.map(sns.scatterplot,'t:p2=5%', 'p1:p2=5%', color='firebrick', label='p1 at p2=5%')\n",
    "    g.set(xlabel='test statistic', ylabel='p-value')"
   ]
  },
  {
   "cell_type": "code",
   "execution_count": null,
   "metadata": {},
   "outputs": [],
   "source": [
    "with sns.axes_style('whitegrid'):\n",
    "    g = sns.FacetGrid(data=df_1_2, col='df2', row='df1')\n",
    "    g.map(sns.scatterplot,'t:p1=5%', 'p1', color='orangered', label='p1=5%')\n",
    "    g.map(sns.scatterplot,'t:p1=5%', 'p2:p1=5%', color='navy', label='p2 at p1=5%')\n",
    "    g.map(sns.scatterplot,'t:p2=5%', 'p2', color='blue', label='p2=5%')\n",
    "    g.map(sns.scatterplot,'t:p2=5%', 'p1:p2=5%', color='firebrick', label='p1 at p2=5%')\n",
    "    g.set(xlabel='test statistic', ylabel='p-value')"
   ]
  },
  {
   "cell_type": "code",
   "execution_count": null,
   "metadata": {},
   "outputs": [],
   "source": [
    "with sns.axes_style('whitegrid'):\n",
    "    g = sns.FacetGrid(data=df_1_3, col='df2', row='df1')\n",
    "    g.map(sns.scatterplot,'t:p1=5%', 'p1', color='orangered', label='p1=5%')\n",
    "    g.map(sns.scatterplot,'t:p1=5%', 'p2:p1=5%', color='navy', label='p2 at p1=5%')\n",
    "    g.map(sns.scatterplot,'t:p2=5%', 'p2', color='blue', label='p2=5%')\n",
    "    g.map(sns.scatterplot,'t:p2=5%', 'p1:p2=5%', color='firebrick', label='p1 at p2=5%')\n",
    "    g.set(xlabel='test statistic', ylabel='p-value')"
   ]
  },
  {
   "cell_type": "code",
   "execution_count": null,
   "metadata": {},
   "outputs": [],
   "source": [
    "with sns.axes_style('whitegrid'):\n",
    "    g = sns.FacetGrid(data=df_2_1, col='df2', row='df1')\n",
    "    g.map(sns.scatterplot,'t:p1=5%', 'p1', color='orangered', label='p1=5%')\n",
    "    g.map(sns.scatterplot,'t:p1=5%', 'p2:p1=5%', color='navy', label='p2 at p1=5%')\n",
    "    g.map(sns.scatterplot,'t:p2=5%', 'p2', color='blue', label='p2=5%')\n",
    "    g.map(sns.scatterplot,'t:p2=5%', 'p1:p2=5%', color='firebrick', label='p1 at p2=5%')\n",
    "    g.set(xlabel='test statistic', ylabel='p-value')"
   ]
  },
  {
   "cell_type": "code",
   "execution_count": null,
   "metadata": {},
   "outputs": [],
   "source": [
    "with sns.axes_style('whitegrid'):\n",
    "    g = sns.FacetGrid(data=df_3_1, col='df2', row='df1')\n",
    "    g.map(sns.scatterplot,'t:p1=5%', 'p1', color='orangered', label='p1=5%')\n",
    "    g.map(sns.scatterplot,'t:p1=5%', 'p2:p1=5%', color='navy', label='p2 at p1=5%')\n",
    "    g.map(sns.scatterplot,'t:p2=5%', 'p2', color='blue', label='p2=5%')\n",
    "    g.map(sns.scatterplot,'t:p2=5%', 'p1:p2=5%', color='firebrick', label='p1 at p2=5%')\n",
    "    g.set(xlabel='test statistic', ylabel='p-value')"
   ]
  },
  {
   "cell_type": "code",
   "execution_count": null,
   "metadata": {},
   "outputs": [],
   "source": [
    "fig = plt.figure()\n",
    "ax = fig.gca(projection='3d')\n",
    "ax.plot_trisurf(single_df['df1'], single_df['df2'], single_df['t:p1=5%'], cmap='flare')\n",
    "# ax.plot_trisurf(single_df['df1'], single_df['df2'], single_df['t:p2=5%'], cmap='flare')\n",
    "\n",
    "surf = ax.plot_trisurf(single_df['df1'], single_df['df2'], single_df['t:p1=5%'], cmap='rocket')\n",
    "fig.colorbar(surf, shrink=0.7)\n",
    "ax.view_init(30,45)\n",
    "ax.set(xlabel='df1', ylabel='df2', zlabel='t')"
   ]
  },
  {
   "cell_type": "code",
   "execution_count": null,
   "metadata": {},
   "outputs": [],
   "source": [
    "with sns.axes_style('whitegrid'):\n",
    "    fig = plt.figure()\n",
    "    ax = Axes3D(fig)\n",
    "    ax.scatter(df_1_1['df1'], df_1_1['df2'], df_1_1['t:p1=5%'], color='navy', label='t at p1 significant')\n",
    "    ax.scatter(df_1_1['df1'], df_1_1['df2'], df_1_1['t:p2=5%'], color='orangered')\n",
    "    ax.view_init(0,15)\n",
    "    ax.set(xlabel='df1', ylabel='df2', zlabel='test statistic')\n",
    "plt.savefig(r'C:\\Users\\phili\\OneDrive\\Dokumente_One Drive\\KIT\\Bachelorarbeit\\plots\\chapter5\\plot19.white.png')"
   ]
  }
 ],
 "metadata": {
  "kernelspec": {
   "display_name": "Python 3",
   "language": "python",
   "name": "python3"
  },
  "language_info": {
   "codemirror_mode": {
    "name": "ipython",
    "version": 3
   },
   "file_extension": ".py",
   "mimetype": "text/x-python",
   "name": "python",
   "nbconvert_exporter": "python",
   "pygments_lexer": "ipython3",
   "version": "3.7.6"
  }
 },
 "nbformat": 4,
 "nbformat_minor": 4
}
