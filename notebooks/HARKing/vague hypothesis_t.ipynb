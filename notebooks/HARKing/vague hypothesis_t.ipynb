{
 "cells": [
  {
   "cell_type": "code",
   "execution_count": null,
   "metadata": {},
   "outputs": [],
   "source": [
    "import pandas as pd\n",
    "import numpy as np\n",
    "import scipy.stats as stats\n",
    "import scipy.special as special\n",
    "import sys\n",
    "import seaborn as sns\n",
    "import matplotlib.pyplot as plt\n",
    "\n",
    "\n",
    "test_statistic = np.arange(start=0,stop=64,step=0.001)\n",
    "degf = np.arange(start=1, stop=31, step=1)\n",
    "n = (len(test_statistic))\n",
    "m = (len(degf))\n",
    "\n",
    "p_one = np.array([[0.0]*m]*n)\n",
    "p_two = np.array([[0.0]*m]*n)\n",
    "\n",
    "print(m)\n",
    "print(n)"
   ]
  },
  {
   "cell_type": "code",
   "execution_count": null,
   "metadata": {},
   "outputs": [],
   "source": [
    "for j in range(0,m):\n",
    "    for i in range(0,n):\n",
    "        p_one[i,j] = (1-stats.t.cdf(x=test_statistic[i], loc=0, scale=1, df=degf[j]))\n",
    "        if test_statistic[i] > 0:\n",
    "            p_two[i,j] = ((1-stats.t.cdf(x=test_statistic[i], loc=0, scale=1, df=degf[j]))*2)\n",
    "        else:\n",
    "            p_two[i,j] = stats.t.cdf(x=test_statistic[i], loc=0, scale=1, df=degf[j])*2  "
   ]
  },
  {
   "cell_type": "code",
   "execution_count": null,
   "metadata": {},
   "outputs": [],
   "source": [
    "p1_statistic = np.array([0.0]*m)\n",
    "p2_statistic = np.array([0.0]*m)\n",
    "statistic_diff = np.array([0.0]*m)\n",
    "df = pd.DataFrame([p1_statistic,p2_statistic,statistic_diff], \n",
    "                  index=['p1_statistic', 'p2_statistic', 'statistic_diff'], \n",
    "                  columns=['df=1', 'df=2', 'df=3', 'df=4', 'df=5', 'df=6', 'df=7', 'df=8', 'df=9', \n",
    "                           'df=10', 'df=11', 'df=12', 'df=13', 'df=14', 'df=15', 'df=16', 'df=17', \n",
    "                           'df=18', 'df=19', 'df=20', 'df=21', 'df=22', 'df=23', 'df=24', 'df=25', \n",
    "                           'df=26', 'df=27', 'df=28', 'df=29', 'df=30']) "
   ]
  },
  {
   "cell_type": "code",
   "execution_count": null,
   "metadata": {},
   "outputs": [],
   "source": [
    "for j in range(0,m):\n",
    "    for i in range(0,n):\n",
    "        if p_one[i-1,j] > 0.05 and p_one[i,j] < 0.05 or p_one[i,j] == 0.05:\n",
    "            df.iloc[0,j] = i*0.001\n",
    "for j in range(0,m):\n",
    "    for i in range(0,n):   \n",
    "        if p_two[i-1,j] > 0.05 and p_two[i,j] < 0.05 or p_two[i,j] == 0.05:\n",
    "            df.iloc[1,j] = i*0.001\n",
    "for j in range(0,m):\n",
    "    df.iloc[2,j] = df.iloc[1,j]-df.iloc[0,j]  "
   ]
  },
  {
   "cell_type": "code",
   "execution_count": null,
   "metadata": {
    "scrolled": true
   },
   "outputs": [],
   "source": [
    "df = np.around(df, decimals=8)\n",
    "# for negative effect size use negative values. null distribution is symmetrical around 0\n",
    "df.to_csv(r'C:\\Users\\phili\\OneDrive\\Dokumente_One Drive\\KIT\\Bachelorarbeit\\data\\t_results.csv')\n",
    "df"
   ]
  },
  {
   "cell_type": "code",
   "execution_count": null,
   "metadata": {},
   "outputs": [],
   "source": [
    "with sns.axes_style('darkgrid'):\n",
    "    g = sns.lineplot(x = test_statistic, y = p_one[:,0], color='darkred', label='one-tailed, df=1')\n",
    "    sns.lineplot(x = test_statistic, y = p_two[:,0], color='indianred', label='two-tailed, df=1')\n",
    "    sns.lineplot(x = test_statistic, y = p_one[:,1], color='purple', label='one-tailed, df=2')\n",
    "    sns.lineplot(x = test_statistic, y = p_two[:,1], color='magenta', label='two-tailed, df=2')\n",
    "    sns.lineplot(x = test_statistic, y = p_one[:,9], color='green', label='one-tailed, df=10')\n",
    "    sns.lineplot(x = test_statistic, y = p_two[:,9], color='springgreen', label='two-tailed, df=10')\n",
    "    sns.lineplot(x = test_statistic, y = p_one[:,28], color='navy', label='one-tailed, df=29')\n",
    "    sns.lineplot(x = test_statistic, y = p_two[:,28], color='blue', label='two-tailed, df=29')\n",
    "    sns.lineplot(x = test_statistic, y = 0.05, color='black')\n",
    "    g.set(xlim=(0,15), ylim=(0,0.15), xlabel='test statistic', ylabel='p-value')\n",
    "plt.savefig(r'C:\\Users\\phili\\OneDrive\\Dokumente_One Drive\\KIT\\Bachelorarbeit\\plots\\chapter5\\plot8.png')"
   ]
  },
  {
   "cell_type": "code",
   "execution_count": null,
   "metadata": {},
   "outputs": [],
   "source": [
    "with sns.axes_style('darkgrid'):\n",
    "    g = sns.lineplot(x = test_statistic, y = p_one[:,0], color='darkred', label='one-tailed, df=1')\n",
    "    sns.lineplot(x = test_statistic, y = p_two[:,0], color='indianred', label='two-tailed, df=1')\n",
    "    sns.lineplot(x = test_statistic, y = p_one[:,1], color='purple', label='one-tailed, df=2')\n",
    "    sns.lineplot(x = test_statistic, y = p_two[:,1], color='magenta', label='two-tailed, df=2')\n",
    "    sns.lineplot(x = test_statistic, y = p_one[:,9], color='green', label='one-tailed, df=10')\n",
    "    sns.lineplot(x = test_statistic, y = p_two[:,9], color='springgreen', label='two-tailed, df=10')\n",
    "    sns.lineplot(x = test_statistic, y = p_one[:,28], color='navy', label='one-tailed, df=29')\n",
    "    sns.lineplot(x = test_statistic, y = p_two[:,28], color='blue', label='two-tailed, df=29')\n",
    "    sns.lineplot(x = test_statistic, y = 0.05, color='black')\n",
    "    g.set(xlabel='test_statsitic', ylabel='p-value')"
   ]
  },
  {
   "cell_type": "code",
   "execution_count": null,
   "metadata": {},
   "outputs": [],
   "source": [
    "sns.lineplot(x= test_statistic, y=p_two[:,7])\n",
    "sns.lineplot(x= test_statistic, y=(p_one[:,7]*2))"
   ]
  }
 ],
 "metadata": {
  "kernelspec": {
   "display_name": "Python 3",
   "language": "python",
   "name": "python3"
  },
  "language_info": {
   "codemirror_mode": {
    "name": "ipython",
    "version": 3
   },
   "file_extension": ".py",
   "mimetype": "text/x-python",
   "name": "python",
   "nbconvert_exporter": "python",
   "pygments_lexer": "ipython3",
   "version": "3.7.6"
  }
 },
 "nbformat": 4,
 "nbformat_minor": 4
}
