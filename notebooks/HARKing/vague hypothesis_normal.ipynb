{
 "cells": [
  {
   "cell_type": "code",
   "execution_count": null,
   "metadata": {},
   "outputs": [],
   "source": [
    "import pandas as pd\n",
    "import numpy as np\n",
    "import scipy.stats as stats\n",
    "import sys\n",
    "import seaborn as sns\n",
    "import matplotlib.pyplot as plt\n",
    "\n",
    "\n",
    "test_statistic = np.arange(start=-4,stop=4,step=0.001)\n",
    "n = (len(test_statistic))\n",
    "\n",
    "decision_one = [0] * n\n",
    "decision_two = [0] * n\n",
    "\n",
    "#upper_one: one-sided critical value\n",
    "#upper_two: two-sided critical value \n",
    "upper_one = stats.norm.ppf(loc=0, scale=1, q=0.95)\n",
    "upper_two = stats.norm.ppf(loc=0, scale=1, q=0.975)\n",
    "print(n)"
   ]
  },
  {
   "cell_type": "code",
   "execution_count": null,
   "metadata": {
    "scrolled": true
   },
   "outputs": [],
   "source": [
    "mu = 0\n",
    "scale = 1\n",
    "\n",
    "P_one = np.array([0.0] * n)\n",
    "P_two = np.array([0.0] * n)\n",
    "Decision_one = np.array([0] * n) \n",
    "Decision_two = np.array([0] * n)"
   ]
  },
  {
   "cell_type": "code",
   "execution_count": null,
   "metadata": {},
   "outputs": [],
   "source": [
    "# compute p-values \n",
    "for i in range(0,n):\n",
    "    P_one[i] = (1-stats.norm.cdf(x=test_statistic[i], loc=mu, scale=scale))\n",
    "    if test_statistic[i] > 0:\n",
    "        P_two[i] = ((1-stats.norm.cdf(x=test_statistic[i], loc=mu, scale=scale))*2)\n",
    "    else:\n",
    "        P_two[i] = stats.norm.cdf(x=test_statistic[i], loc=mu, scale=scale)*2  \n",
    "# positive = 1\n",
    "# negative = 0\n",
    "    if(test_statistic[i] < upper_one):\n",
    "        Decision_one[i] = 0\n",
    "    else:\n",
    "        Decision_one[i] = 1\n",
    "    if (test_statistic[i] < upper_two):\n",
    "        Decision_two[i] = 0\n",
    "    else:\n",
    "        Decision_two[i] = 1        "
   ]
  },
  {
   "cell_type": "code",
   "execution_count": null,
   "metadata": {},
   "outputs": [],
   "source": [
    "curve = stats.norm.pdf(test_statistic, loc=mu, scale=scale, )\n",
    "with sns.axes_style('darkgrid'):\n",
    "    g=sns.lineplot(x = test_statistic, y = P_two, color='navy', label='two-tailed p')\n",
    "    sns.lineplot(x = test_statistic, y = P_one, color='orangered', label='right-tailed p')\n",
    "    sns.lineplot(x = test_statistic, y = (P_one - P_two), color='mediumvioletred', label='difference in p')\n",
    "    sns.lineplot(x = test_statistic, y = 0.05, color='limegreen', label='significance level')\n",
    "    sns.lineplot(x = test_statistic, y = curve, color='dodgerblue', label='null distribution')\n",
    "    g.legend(loc='upper right')\n",
    "    g.set(xlabel='test statistic', ylabel='probability / density ')\n",
    "plt.savefig(r'C:\\Users\\phili\\OneDrive\\Dokumente_One Drive\\KIT\\Bachelorarbeit\\plots\\chapter5\\plot6.png')"
   ]
  },
  {
   "cell_type": "code",
   "execution_count": null,
   "metadata": {},
   "outputs": [],
   "source": [
    "with sns.axes_style('darkgrid'):\n",
    "    g = sns.lineplot(x = test_statistic, y = P_two, color='navy', label='two-tailed p')\n",
    "    sns.lineplot(x = test_statistic, y = P_one, color='orangered', label='right-tailed p')\n",
    "    sns.lineplot(x = test_statistic, y = (P_one - P_two), color='mediumvioletred', label='difference in p')\n",
    "    sns.lineplot(x = test_statistic, y = 0.05, color='limegreen', label='significance level')\n",
    "    g.set(xlim=(1,3.5), ylim=(-0.1,0.1), xlabel='test statistic', ylabel='p-value')\n",
    "    g.legend(loc='lower right')\n",
    "plt.savefig(r'C:\\Users\\phili\\OneDrive\\Dokumente_One Drive\\KIT\\Bachelorarbeit\\plots\\chapter5\\plot7.png')"
   ]
  },
  {
   "cell_type": "code",
   "execution_count": null,
   "metadata": {},
   "outputs": [],
   "source": [
    "for i in range(0,n):\n",
    "    if P_one[i-1] > 0.05 and P_one[i] < 0.05 or P_one[i] == 0.05:\n",
    "        print(f't={test_statistic[i]}, p1={P_one[i]}, p2={P_two[i]}')\n",
    "        print(f'iteration={i}')\n",
    "    if P_two[i-1] > 0.05 and P_two[i] < 0.05 or P_two[i] == 0.05:\n",
    "        print(f't={test_statistic[i]}, p1={P_one[i]}, p2={P_two[i]}')\n",
    "        print(f'iteration={i}')\n"
   ]
  },
  {
   "cell_type": "code",
   "execution_count": null,
   "metadata": {},
   "outputs": [],
   "source": [
    "print(test_statistic[7000])\n",
    "print(P_two[7000]-P_one[7000])"
   ]
  },
  {
   "cell_type": "code",
   "execution_count": null,
   "metadata": {},
   "outputs": [],
   "source": [
    "# compute probability of acchieving vague hypothesis:\n",
    "(stats.norm.cdf(x=test_statistic[5960])-stats.norm.cdf(x=test_statistic[5645]))*2"
   ]
  },
  {
   "cell_type": "code",
   "execution_count": null,
   "metadata": {},
   "outputs": [],
   "source": [
    "# testing findings from exploratory analyisis in chapter7: p-hacking demonstration\n",
    "for i in range(n):\n",
    "    if test_statistic[i-1] < 2.1533905454694775 and test_statistic[i] >= 2.1533905454694775:\n",
    "        print(i)\n",
    "        print(test_statistic[i])\n",
    "        print(P_two[i])\n",
    "        print(P_one[i])"
   ]
  }
 ],
 "metadata": {
  "kernelspec": {
   "display_name": "Python 3",
   "language": "python",
   "name": "python3"
  },
  "language_info": {
   "codemirror_mode": {
    "name": "ipython",
    "version": 3
   },
   "file_extension": ".py",
   "mimetype": "text/x-python",
   "name": "python",
   "nbconvert_exporter": "python",
   "pygments_lexer": "ipython3",
   "version": "3.7.6"
  }
 },
 "nbformat": 4,
 "nbformat_minor": 4
}
